{
 "cells": [
  {
   "cell_type": "markdown",
   "metadata": {},
   "source": [
    "# Sparkify Project Workspace\n",
    "This workspace contains a tiny subset (128MB) of the full dataset available (12GB). Feel free to use this workspace to build your project, or to explore a smaller subset with Spark before deploying your cluster on the cloud. Instructions for setting up your Spark cluster is included in the last lesson of the Extracurricular Spark Course content.\n",
    "\n",
    "You can follow the steps below to guide your data analysis and model building portion of this project."
   ]
  },
  {
   "cell_type": "code",
   "execution_count": 42,
   "metadata": {},
   "outputs": [],
   "source": [
    "# import libraries\n",
    "import datetime\n",
    "from pyspark.sql import SparkSession, Window\n",
    "from pyspark.sql.functions import avg, col, concat, desc, explode, lit, min, max, split, udf, isnan, when, count, col, row_number\n",
    "from pyspark.sql.types import IntegerType, TimestampType\n",
    "\n",
    "from pyspark.ml import Pipeline\n",
    "from pyspark.ml.classification import LogisticRegression\n",
    "from pyspark.ml.evaluation import MulticlassClassificationEvaluator\n",
    "from pyspark.ml.feature import CountVectorizer, IDF, Normalizer, PCA\n",
    "from pyspark.ml.tuning import CrossValidator, ParamGridBuilder"
   ]
  },
  {
   "cell_type": "code",
   "execution_count": 2,
   "metadata": {},
   "outputs": [],
   "source": [
    "# create a Spark session\n",
    "spark = SparkSession.builder \\\n",
    "    .master(\"local\") \\\n",
    "    .appName(\"Sparkify\") \\\n",
    "    .getOrCreate()"
   ]
  },
  {
   "cell_type": "markdown",
   "metadata": {},
   "source": [
    "# Load and Clean Dataset\n",
    "In this workspace, the mini-dataset file is `mini_sparkify_event_data.json`. Load and clean the dataset, checking for invalid or missing data - for example, records without userids or sessionids. "
   ]
  },
  {
   "cell_type": "code",
   "execution_count": 3,
   "metadata": {},
   "outputs": [],
   "source": [
    "events = spark.read.json(\"mini_sparkify_event_data.json\")"
   ]
  },
  {
   "cell_type": "markdown",
   "metadata": {},
   "source": [
    "# Exploratory Data Analysis\n",
    "When you're working with the full dataset, perform EDA by loading a small subset of the data and doing basic manipulations within Spark. In this workspace, you are already provided a small subset of data you can explore.\n",
    "\n",
    "### Define Churn\n",
    "\n",
    "Once you've done some preliminary analysis, create a column `Churn` to use as the label for your model. I suggest using the `Cancellation Confirmation` events to define your churn, which happen for both paid and free users. As a bonus task, you can also look into the `Downgrade` events.\n",
    "\n",
    "### Explore Data\n",
    "Once you've defined churn, perform some exploratory data analysis to observe the behavior for users who stayed vs users who churned. You can start by exploring aggregates on these two groups of users, observing how much of a specific action they experienced per a certain time unit or number of songs played."
   ]
  },
  {
   "cell_type": "code",
   "execution_count": 4,
   "metadata": {},
   "outputs": [
    {
     "name": "stdout",
     "output_type": "stream",
     "text": [
      "root\n",
      " |-- artist: string (nullable = true)\n",
      " |-- auth: string (nullable = true)\n",
      " |-- firstName: string (nullable = true)\n",
      " |-- gender: string (nullable = true)\n",
      " |-- itemInSession: long (nullable = true)\n",
      " |-- lastName: string (nullable = true)\n",
      " |-- length: double (nullable = true)\n",
      " |-- level: string (nullable = true)\n",
      " |-- location: string (nullable = true)\n",
      " |-- method: string (nullable = true)\n",
      " |-- page: string (nullable = true)\n",
      " |-- registration: long (nullable = true)\n",
      " |-- sessionId: long (nullable = true)\n",
      " |-- song: string (nullable = true)\n",
      " |-- status: long (nullable = true)\n",
      " |-- ts: long (nullable = true)\n",
      " |-- userAgent: string (nullable = true)\n",
      " |-- userId: string (nullable = true)\n",
      "\n"
     ]
    }
   ],
   "source": [
    "events.printSchema()"
   ]
  },
  {
   "cell_type": "code",
   "execution_count": 5,
   "metadata": {},
   "outputs": [
    {
     "data": {
      "text/plain": [
       "[Row(artist='Martha Tilston', auth='Logged In', firstName='Colin', gender='M', itemInSession=50, lastName='Freeman', length=277.89016, level='paid', location='Bakersfield, CA', method='PUT', page='NextSong', registration=1538173362000, sessionId=29, song='Rockpools', status=200, ts=1538352117000, userAgent='Mozilla/5.0 (Windows NT 6.1; WOW64; rv:31.0) Gecko/20100101 Firefox/31.0', userId='30'),\n",
       " Row(artist='Five Iron Frenzy', auth='Logged In', firstName='Micah', gender='M', itemInSession=79, lastName='Long', length=236.09424, level='free', location='Boston-Cambridge-Newton, MA-NH', method='PUT', page='NextSong', registration=1538331630000, sessionId=8, song='Canada', status=200, ts=1538352180000, userAgent='\"Mozilla/5.0 (Windows NT 6.1; WOW64) AppleWebKit/537.36 (KHTML, like Gecko) Chrome/37.0.2062.103 Safari/537.36\"', userId='9'),\n",
       " Row(artist='Adam Lambert', auth='Logged In', firstName='Colin', gender='M', itemInSession=51, lastName='Freeman', length=282.8273, level='paid', location='Bakersfield, CA', method='PUT', page='NextSong', registration=1538173362000, sessionId=29, song='Time For Miracles', status=200, ts=1538352394000, userAgent='Mozilla/5.0 (Windows NT 6.1; WOW64; rv:31.0) Gecko/20100101 Firefox/31.0', userId='30'),\n",
       " Row(artist='Enigma', auth='Logged In', firstName='Micah', gender='M', itemInSession=80, lastName='Long', length=262.71302, level='free', location='Boston-Cambridge-Newton, MA-NH', method='PUT', page='NextSong', registration=1538331630000, sessionId=8, song='Knocking On Forbidden Doors', status=200, ts=1538352416000, userAgent='\"Mozilla/5.0 (Windows NT 6.1; WOW64) AppleWebKit/537.36 (KHTML, like Gecko) Chrome/37.0.2062.103 Safari/537.36\"', userId='9'),\n",
       " Row(artist='Daft Punk', auth='Logged In', firstName='Colin', gender='M', itemInSession=52, lastName='Freeman', length=223.60771, level='paid', location='Bakersfield, CA', method='PUT', page='NextSong', registration=1538173362000, sessionId=29, song='Harder Better Faster Stronger', status=200, ts=1538352676000, userAgent='Mozilla/5.0 (Windows NT 6.1; WOW64; rv:31.0) Gecko/20100101 Firefox/31.0', userId='30')]"
      ]
     },
     "execution_count": 5,
     "metadata": {},
     "output_type": "execute_result"
    }
   ],
   "source": [
    "events.take(5)"
   ]
  },
  {
   "cell_type": "code",
   "execution_count": 6,
   "metadata": {},
   "outputs": [
    {
     "data": {
      "text/plain": [
       "[('artist', 'string'),\n",
       " ('auth', 'string'),\n",
       " ('firstName', 'string'),\n",
       " ('gender', 'string'),\n",
       " ('itemInSession', 'bigint'),\n",
       " ('lastName', 'string'),\n",
       " ('length', 'double'),\n",
       " ('level', 'string'),\n",
       " ('location', 'string'),\n",
       " ('method', 'string'),\n",
       " ('page', 'string'),\n",
       " ('registration', 'bigint'),\n",
       " ('sessionId', 'bigint'),\n",
       " ('song', 'string'),\n",
       " ('status', 'bigint'),\n",
       " ('ts', 'bigint'),\n",
       " ('userAgent', 'string'),\n",
       " ('userId', 'string')]"
      ]
     },
     "execution_count": 6,
     "metadata": {},
     "output_type": "execute_result"
    }
   ],
   "source": [
    "events.dtypes # data types"
   ]
  },
  {
   "cell_type": "code",
   "execution_count": 10,
   "metadata": {},
   "outputs": [
    {
     "name": "stdout",
     "output_type": "stream",
     "text": [
      "+------+----+---------+------+-------------+--------+------+-----+--------+------+----+------------+---------+----+------+---+---------+------+\n",
      "|artist|auth|firstName|gender|itemInSession|lastName|length|level|location|method|page|registration|sessionId|song|status| ts|userAgent|userId|\n",
      "+------+----+---------+------+-------------+--------+------+-----+--------+------+----+------------+---------+----+------+---+---------+------+\n",
      "|     0|   0|        0|     0|            0|       0|     0|    0|       0|     0|   0|           0|        0|   0|     0|  0|        0|     0|\n",
      "+------+----+---------+------+-------------+--------+------+-----+--------+------+----+------------+---------+----+------+---+---------+------+\n",
      "\n"
     ]
    }
   ],
   "source": [
    "events.select([count(when(isnan(c), c)).alias(c) for c in events.columns]).show() # might have a closer look here again"
   ]
  },
  {
   "cell_type": "code",
   "execution_count": 11,
   "metadata": {},
   "outputs": [
    {
     "name": "stdout",
     "output_type": "stream",
     "text": [
      "+--------------------+\n",
      "|                page|\n",
      "+--------------------+\n",
      "|              Cancel|\n",
      "|    Submit Downgrade|\n",
      "|         Thumbs Down|\n",
      "|                Home|\n",
      "|           Downgrade|\n",
      "|         Roll Advert|\n",
      "|              Logout|\n",
      "|       Save Settings|\n",
      "|Cancellation Conf...|\n",
      "|               About|\n",
      "| Submit Registration|\n",
      "|            Settings|\n",
      "|               Login|\n",
      "|            Register|\n",
      "|     Add to Playlist|\n",
      "|          Add Friend|\n",
      "|            NextSong|\n",
      "|           Thumbs Up|\n",
      "|                Help|\n",
      "|             Upgrade|\n",
      "+--------------------+\n",
      "only showing top 20 rows\n",
      "\n"
     ]
    }
   ],
   "source": [
    "# get possible options for the field page\n",
    "events.select(\"page\").distinct().show()"
   ]
  },
  {
   "cell_type": "code",
   "execution_count": 12,
   "metadata": {},
   "outputs": [
    {
     "name": "stdout",
     "output_type": "stream",
     "text": [
      "+----------------+---------+---------+------+-------------+--------+---------+-----+--------------------+------+--------+-------------+---------+---------+------+-------------+--------------------+------+\n",
      "|          artist|     auth|firstName|gender|itemInSession|lastName|   length|level|            location|method|    page| registration|sessionId|     song|status|           ts|           userAgent|userId|\n",
      "+----------------+---------+---------+------+-------------+--------+---------+-----+--------------------+------+--------+-------------+---------+---------+------+-------------+--------------------+------+\n",
      "|  Martha Tilston|Logged In|    Colin|     M|           50| Freeman|277.89016| paid|     Bakersfield, CA|   PUT|NextSong|1538173362000|       29|Rockpools|   200|1538352117000|Mozilla/5.0 (Wind...|    30|\n",
      "|Five Iron Frenzy|Logged In|    Micah|     M|           79|    Long|236.09424| free|Boston-Cambridge-...|   PUT|NextSong|1538331630000|        8|   Canada|   200|1538352180000|\"Mozilla/5.0 (Win...|     9|\n",
      "+----------------+---------+---------+------+-------------+--------+---------+-----+--------------------+------+--------+-------------+---------+---------+------+-------------+--------------------+------+\n",
      "only showing top 2 rows\n",
      "\n"
     ]
    }
   ],
   "source": [
    "# page contains the cancellation confirmation\n",
    "events.show(2)"
   ]
  },
  {
   "cell_type": "code",
   "execution_count": 103,
   "metadata": {},
   "outputs": [
    {
     "data": {
      "text/plain": [
       "[Row(userId='30', firstname='Colin', page='NextSong', song='Rockpools', level='paid'),\n",
       " Row(userId='30', firstname='Colin', page='NextSong', song='Time For Miracles', level='paid'),\n",
       " Row(userId='30', firstname='Colin', page='NextSong', song='Harder Better Faster Stronger', level='paid'),\n",
       " Row(userId='30', firstname='Colin', page='NextSong', song='Passengers (Old Album Version)', level='paid'),\n",
       " Row(userId='30', firstname='Colin', page='Add to Playlist', song=None, level='paid'),\n",
       " Row(userId='30', firstname='Colin', page='NextSong', song='Fuck Kitty', level='paid'),\n",
       " Row(userId='30', firstname='Colin', page='NextSong', song='Jade', level='paid'),\n",
       " Row(userId='30', firstname='Colin', page='NextSong', song='So-Called Friends', level='paid'),\n",
       " Row(userId='30', firstname='Colin', page='NextSong', song='Represent', level='paid'),\n",
       " Row(userId='30', firstname='Colin', page='NextSong', song='Here I Am', level='paid'),\n",
       " Row(userId='30', firstname='Colin', page='NextSong', song='Rebirthing (Album Version)', level='paid'),\n",
       " Row(userId='30', firstname='Colin', page='NextSong', song='Dog Days Are Over (Radio Edit)', level='paid'),\n",
       " Row(userId='30', firstname='Colin', page='NextSong', song='Tomorrow Is A Long Time', level='paid'),\n",
       " Row(userId='30', firstname='Colin', page='NextSong', song='Halloween Spooks', level='paid'),\n",
       " Row(userId='30', firstname='Colin', page='NextSong', song='Stronger', level='paid'),\n",
       " Row(userId='30', firstname='Colin', page='NextSong', song='Dis Iz Brick City', level='paid'),\n",
       " Row(userId='30', firstname='Colin', page='NextSong', song='Move Along', level='paid'),\n",
       " Row(userId='30', firstname='Colin', page='NextSong', song='Manhattan', level='paid'),\n",
       " Row(userId='30', firstname='Colin', page='NextSong', song='Undo', level='paid'),\n",
       " Row(userId='30', firstname='Colin', page='NextSong', song='The Big Gundown', level='paid'),\n",
       " Row(userId='30', firstname='Colin', page='NextSong', song='Black Bird', level='paid'),\n",
       " Row(userId='30', firstname='Colin', page='Thumbs Down', song=None, level='paid'),\n",
       " Row(userId='30', firstname='Colin', page='NextSong', song='Nausea', level='paid'),\n",
       " Row(userId='30', firstname='Colin', page='NextSong', song='Matricide', level='paid'),\n",
       " Row(userId='30', firstname='Colin', page='NextSong', song='Valerie', level='paid'),\n",
       " Row(userId='30', firstname='Colin', page='NextSong', song='Margarita', level='paid'),\n",
       " Row(userId='30', firstname='Colin', page='NextSong', song=\"Le Jardin d'Hiver\", level='paid'),\n",
       " Row(userId='30', firstname='Colin', page='Thumbs Up', song=None, level='paid'),\n",
       " Row(userId='30', firstname='Colin', page='NextSong', song='Soon As I Get Home(Album Version)', level='paid'),\n",
       " Row(userId='30', firstname='Colin', page='Thumbs Up', song=None, level='paid'),\n",
       " Row(userId='30', firstname='Colin', page='NextSong', song='Vamos a la Playa', level='paid'),\n",
       " Row(userId='30', firstname='Colin', page='NextSong', song='Perfecta', level='paid'),\n",
       " Row(userId='30', firstname='Colin', page='NextSong', song='Requiem', level='paid'),\n",
       " Row(userId='30', firstname='Colin', page='NextSong', song='Who Can Compare', level='paid'),\n",
       " Row(userId='30', firstname='Colin', page='NextSong', song='240 Years Before Your Time', level='paid'),\n",
       " Row(userId='30', firstname='Colin', page='NextSong', song='Rosa Pastel', level='paid'),\n",
       " Row(userId='30', firstname='Colin', page='Roll Advert', song=None, level='paid'),\n",
       " Row(userId='30', firstname='Colin', page='NextSong', song=\"I'm Ready (Album Version)\", level='paid'),\n",
       " Row(userId='30', firstname='Colin', page='NextSong', song='No Other Saviour', level='paid'),\n",
       " Row(userId='30', firstname='Colin', page='NextSong', song='Hints', level='paid'),\n",
       " Row(userId='30', firstname='Colin', page='NextSong', song='Yellow', level='paid'),\n",
       " Row(userId='30', firstname='Colin', page='Add to Playlist', song=None, level='paid'),\n",
       " Row(userId='30', firstname='Colin', page='NextSong', song='Kill The Director [Radio Edit]', level='paid'),\n",
       " Row(userId='30', firstname='Colin', page='Add Friend', song=None, level='paid'),\n",
       " Row(userId='30', firstname='Colin', page='Home', song=None, level='paid'),\n",
       " Row(userId='30', firstname='Colin', page='NextSong', song='Third Party', level='paid'),\n",
       " Row(userId='30', firstname='Colin', page='NextSong', song=\"It's Working\", level='paid'),\n",
       " Row(userId='30', firstname='Colin', page='NextSong', song=\"I'll Remember April (Digitally Remastered 01)\", level='paid'),\n",
       " Row(userId='30', firstname='Colin', page='NextSong', song='Atmosphere Station', level='paid'),\n",
       " Row(userId='30', firstname='Colin', page='NextSong', song='There_ There', level='paid'),\n",
       " Row(userId='30', firstname='Colin', page='NextSong', song=\"'Til We Die (Album Version)\", level='paid'),\n",
       " Row(userId='30', firstname='Colin', page='NextSong', song='Lies (Album Version)', level='paid'),\n",
       " Row(userId='30', firstname='Colin', page='NextSong', song='The Ballad of Michael Valentine', level='paid'),\n",
       " Row(userId='30', firstname='Colin', page='NextSong', song='Gears', level='paid'),\n",
       " Row(userId='30', firstname='Colin', page='NextSong', song='These Eyes', level='paid'),\n",
       " Row(userId='30', firstname='Colin', page='Help', song=None, level='paid'),\n",
       " Row(userId='30', firstname='Colin', page='Home', song=None, level='paid'),\n",
       " Row(userId='30', firstname='Colin', page='NextSong', song='Stronger', level='paid'),\n",
       " Row(userId='30', firstname='Colin', page='NextSong', song='This Is Such A Pity', level='paid'),\n",
       " Row(userId='30', firstname='Colin', page='NextSong', song='Strut (1993 Digital Remaster)', level='paid'),\n",
       " Row(userId='30', firstname='Colin', page='NextSong', song='Fader', level='paid'),\n",
       " Row(userId='30', firstname='Colin', page='NextSong', song='Se Quiere_ Se Mata', level='paid'),\n",
       " Row(userId='30', firstname='Colin', page='NextSong', song='Somewhere', level='paid'),\n",
       " Row(userId='30', firstname='Colin', page='NextSong', song='Canada', level='paid'),\n",
       " Row(userId='30', firstname='Colin', page='NextSong', song='Dream On Dreamer', level='paid'),\n",
       " Row(userId='30', firstname='Colin', page='NextSong', song='HÃ\\x83Â¡ Uma MÃ\\x83Âºsica Do Povo (Live)', level='paid'),\n",
       " Row(userId='30', firstname='Colin', page='NextSong', song=\"Money Ain't A Thang\", level='paid'),\n",
       " Row(userId='30', firstname='Colin', page='NextSong', song='Howlin\\x19 For You', level='paid'),\n",
       " Row(userId='30', firstname='Colin', page='NextSong', song='Fireflies', level='paid'),\n",
       " Row(userId='30', firstname='Colin', page='NextSong', song='Stadium Love', level='paid'),\n",
       " Row(userId='30', firstname='Colin', page='Downgrade', song=None, level='paid'),\n",
       " Row(userId='30', firstname='Colin', page='NextSong', song='Again & Again', level='paid'),\n",
       " Row(userId='30', firstname='Colin', page='NextSong', song='The Trooper (1998 Digital Remaster)', level='paid'),\n",
       " Row(userId='30', firstname='Colin', page='NextSong', song='Get Off My Elevator', level='paid'),\n",
       " Row(userId='30', firstname='Colin', page='NextSong', song='Speed Trials', level='paid'),\n",
       " Row(userId='30', firstname='Colin', page='NextSong', song='Invalid', level='paid'),\n",
       " Row(userId='30', firstname='Colin', page='NextSong', song='Frenchy\\x19s', level='paid'),\n",
       " Row(userId='30', firstname='Colin', page='NextSong', song='Between Two Lungs', level='paid'),\n",
       " Row(userId='30', firstname='Colin', page='NextSong', song='Hiding', level='paid'),\n",
       " Row(userId='30', firstname='Colin', page='NextSong', song='Alone Again (Naturally)', level='paid'),\n",
       " Row(userId='30', firstname='Colin', page='NextSong', song='You Found Me', level='paid'),\n",
       " Row(userId='30', firstname='Colin', page='NextSong', song='Our Song', level='paid'),\n",
       " Row(userId='30', firstname='Colin', page='NextSong', song='Rock Hard', level='paid'),\n",
       " Row(userId='30', firstname='Colin', page='NextSong', song='Waiting For Tonight', level='paid'),\n",
       " Row(userId='30', firstname='Colin', page='NextSong', song='Pioneer to The Falls', level='paid'),\n",
       " Row(userId='30', firstname='Colin', page='NextSong', song=\"You're The One\", level='paid'),\n",
       " Row(userId='30', firstname='Colin', page='NextSong', song='Trash And Ready', level='paid'),\n",
       " Row(userId='30', firstname='Colin', page='NextSong', song=\"Keep On Movin'\", level='paid'),\n",
       " Row(userId='30', firstname='Colin', page='NextSong', song='Quase Um Segundo', level='paid'),\n",
       " Row(userId='30', firstname='Colin', page='NextSong', song='Costumbres Argentinas', level='paid'),\n",
       " Row(userId='30', firstname='Colin', page='NextSong', song='Nine Times Out Of Ten (1998 Digital Remaster)', level='paid'),\n",
       " Row(userId='30', firstname='Colin', page='NextSong', song='Bass Solo', level='paid'),\n",
       " Row(userId='30', firstname='Colin', page='NextSong', song='The Memory Remains', level='paid'),\n",
       " Row(userId='30', firstname='Colin', page='NextSong', song='Clock', level='paid'),\n",
       " Row(userId='30', firstname='Colin', page='NextSong', song='I Don\\x19t Wanna Go To The Party', level='paid'),\n",
       " Row(userId='30', firstname='Colin', page='NextSong', song=\"She's So Cold\", level='paid'),\n",
       " Row(userId='30', firstname='Colin', page='NextSong', song='Drops In The River', level='paid'),\n",
       " Row(userId='30', firstname='Colin', page='NextSong', song='Didgeridoo', level='paid'),\n",
       " Row(userId='30', firstname='Colin', page='NextSong', song='Sex_ Love & Money', level='paid'),\n",
       " Row(userId='30', firstname='Colin', page='NextSong', song='Rayando el sol', level='paid'),\n",
       " Row(userId='30', firstname='Colin', page='NextSong', song='Lights And Sounds', level='paid'),\n",
       " Row(userId='30', firstname='Colin', page='NextSong', song='You Make Me Wanna...', level='paid'),\n",
       " Row(userId='30', firstname='Colin', page='NextSong', song=\"When It's Love (Remastered Album Version)\", level='paid'),\n",
       " Row(userId='30', firstname='Colin', page='NextSong', song='Red Tide', level='paid'),\n",
       " Row(userId='30', firstname='Colin', page='NextSong', song='Man Of Two Minds', level='paid'),\n",
       " Row(userId='30', firstname='Colin', page='NextSong', song='Ruled By Secrecy', level='paid'),\n",
       " Row(userId='30', firstname='Colin', page='NextSong', song='Untitled #5', level='paid'),\n",
       " Row(userId='30', firstname='Colin', page='NextSong', song='Misery Business (Single Version)', level='paid'),\n",
       " Row(userId='30', firstname='Colin', page='NextSong', song='Hold My Heart', level='paid'),\n",
       " Row(userId='30', firstname='Colin', page='NextSong', song='Risen (Rolling Stone Original)', level='paid'),\n",
       " Row(userId='30', firstname='Colin', page='NextSong', song='Sonne', level='paid'),\n",
       " Row(userId='30', firstname='Colin', page='Thumbs Up', song=None, level='paid'),\n",
       " Row(userId='30', firstname='Colin', page='NextSong', song='Out Of Exile', level='paid'),\n",
       " Row(userId='30', firstname='Colin', page='Thumbs Up', song=None, level='paid'),\n",
       " Row(userId='30', firstname='Colin', page='NextSong', song='Old Yellow Bricks', level='paid'),\n",
       " Row(userId='30', firstname='Colin', page='NextSong', song='GalÃ\\x83Â©rer', level='paid'),\n",
       " Row(userId='30', firstname='Colin', page='NextSong', song='Casting A Spell (Remixed) (1998 Digital Remaster)', level='paid'),\n",
       " Row(userId='30', firstname='Colin', page='NextSong', song='Operation Uppsala', level='paid'),\n",
       " Row(userId='30', firstname='Colin', page='NextSong', song='Detached (Album Version)', level='paid'),\n",
       " Row(userId='30', firstname='Colin', page='NextSong', song='Echo Beach (2002 Digital Remaster)', level='paid'),\n",
       " Row(userId='30', firstname='Colin', page='NextSong', song='Te Va A Doler', level='paid'),\n",
       " Row(userId='30', firstname='Colin', page='NextSong', song='paranoid android', level='paid'),\n",
       " Row(userId='30', firstname='Colin', page='Home', song=None, level='paid'),\n",
       " Row(userId='30', firstname='Colin', page='NextSong', song='Banned from Heaven', level='paid'),\n",
       " Row(userId='30', firstname='Colin', page='NextSong', song='Trashcan', level='paid'),\n",
       " Row(userId='30', firstname='Colin', page='NextSong', song='Go Go Gadget Flow (Explicit Album Version)', level='paid'),\n",
       " Row(userId='30', firstname='Colin', page='NextSong', song='Home For A Rest', level='paid'),\n",
       " Row(userId='30', firstname='Colin', page='NextSong', song=\"When You're Gone\", level='paid'),\n",
       " Row(userId='30', firstname='Colin', page='NextSong', song='The Slam (Welcome To Diverse City Album Version)', level='paid'),\n",
       " Row(userId='30', firstname='Colin', page='NextSong', song='You Raise Me Up', level='paid'),\n",
       " Row(userId='30', firstname='Colin', page='Add to Playlist', song=None, level='paid'),\n",
       " Row(userId='30', firstname='Colin', page='NextSong', song='There Is A Light That Never Goes Out', level='paid'),\n",
       " Row(userId='30', firstname='Colin', page='NextSong', song='The High Way', level='paid'),\n",
       " Row(userId='30', firstname='Colin', page='Thumbs Up', song=None, level='paid'),\n",
       " Row(userId='30', firstname='Colin', page='Add to Playlist', song=None, level='paid'),\n",
       " Row(userId='30', firstname='Colin', page='NextSong', song=\"The Final Episode (Let's Change The Channel)\", level='paid'),\n",
       " Row(userId='30', firstname='Colin', page='NextSong', song='Candy', level='paid'),\n",
       " Row(userId='30', firstname='Colin', page='Thumbs Up', song=None, level='paid'),\n",
       " Row(userId='30', firstname='Colin', page='Add to Playlist', song=None, level='paid'),\n",
       " Row(userId='30', firstname='Colin', page='NextSong', song='re:stacks', level='paid'),\n",
       " Row(userId='30', firstname='Colin', page='Add to Playlist', song=None, level='paid'),\n",
       " Row(userId='30', firstname='Colin', page='NextSong', song='Converting Vegetarians', level='paid'),\n",
       " Row(userId='30', firstname='Colin', page='NextSong', song='Airwar', level='paid'),\n",
       " Row(userId='30', firstname='Colin', page='NextSong', song='Unplayed Piano (Chris Lord-Alge Mix)', level='paid'),\n",
       " Row(userId='30', firstname='Colin', page='NextSong', song=\"Don't Mean Nothing\", level='paid'),\n",
       " Row(userId='30', firstname='Colin', page='NextSong', song='Let Me', level='paid'),\n",
       " Row(userId='30', firstname='Colin', page='NextSong', song='Ã\\x82Â¿Por quÃ\\x83Â© te vas?', level='paid'),\n",
       " Row(userId='30', firstname='Colin', page='NextSong', song='In My Place', level='paid'),\n",
       " Row(userId='30', firstname='Colin', page='NextSong', song='Beautiful', level='paid'),\n",
       " Row(userId='30', firstname='Colin', page='Thumbs Up', song=None, level='paid'),\n",
       " Row(userId='30', firstname='Colin', page='NextSong', song='Miniature Disasters', level='paid'),\n",
       " Row(userId='30', firstname='Colin', page='NextSong', song='Brothers In Arms', level='paid'),\n",
       " Row(userId='30', firstname='Colin', page='Home', song=None, level='paid'),\n",
       " Row(userId='30', firstname='Colin', page='NextSong', song='Billy Breathes', level='paid'),\n",
       " Row(userId='30', firstname='Colin', page='NextSong', song='Revelry', level='paid'),\n",
       " Row(userId='30', firstname='Colin', page='NextSong', song='Ignition', level='paid'),\n",
       " Row(userId='30', firstname='Colin', page='Add Friend', song=None, level='paid'),\n",
       " Row(userId='30', firstname='Colin', page='NextSong', song='Sweet Escape', level='paid'),\n",
       " Row(userId='30', firstname='Colin', page='NextSong', song='Disturbia Money', level='paid'),\n",
       " Row(userId='30', firstname='Colin', page='NextSong', song='15 Step', level='paid'),\n",
       " Row(userId='30', firstname='Colin', page='NextSong', song=\"Surfin' Bird\", level='paid'),\n",
       " Row(userId='30', firstname='Colin', page='Thumbs Up', song=None, level='paid'),\n",
       " Row(userId='30', firstname='Colin', page='NextSong', song='Strange Machines', level='paid'),\n",
       " Row(userId='30', firstname='Colin', page='NextSong', song='DÃ\\x83Â¬', level='paid'),\n",
       " Row(userId='30', firstname='Colin', page='NextSong', song='Devotion And Desire', level='paid'),\n",
       " Row(userId='30', firstname='Colin', page='NextSong', song='The Fire Still Burns', level='paid'),\n",
       " Row(userId='30', firstname='Colin', page='NextSong', song='My Little Brother', level='paid'),\n",
       " Row(userId='30', firstname='Colin', page='NextSong', song=\"These Things You Can't Unlearn\", level='paid'),\n",
       " Row(userId='30', firstname='Colin', page='NextSong', song='Nobody (Featuring Athena Cage) (LP Version)', level='paid'),\n",
       " Row(userId='30', firstname='Colin', page='NextSong', song='Mr. Jones', level='paid'),\n",
       " Row(userId='30', firstname='Colin', page='NextSong', song='You Had Me At Hello', level='paid'),\n",
       " Row(userId='30', firstname='Colin', page='NextSong', song='Rally', level='paid'),\n",
       " Row(userId='30', firstname='Colin', page='NextSong', song=\"Adam's Song\", level='paid'),\n",
       " Row(userId='30', firstname='Colin', page='NextSong', song='Too Much', level='paid'),\n",
       " Row(userId='30', firstname='Colin', page='NextSong', song=\"I'm On A Boat\", level='paid'),\n",
       " Row(userId='30', firstname='Colin', page='NextSong', song='Questo Pazzo Pazzo Mondo Di Tasse', level='paid'),\n",
       " Row(userId='30', firstname='Colin', page='NextSong', song='You Are Not Stubborn', level='paid'),\n",
       " Row(userId='30', firstname='Colin', page='NextSong', song='P.I.M.P.', level='paid'),\n",
       " Row(userId='30', firstname='Colin', page='NextSong', song='Explosive', level='paid'),\n",
       " Row(userId='30', firstname='Colin', page='NextSong', song='Conteo', level='paid'),\n",
       " Row(userId='30', firstname='Colin', page='NextSong', song='Blue', level='paid'),\n",
       " Row(userId='30', firstname='Colin', page='Thumbs Up', song=None, level='paid'),\n",
       " Row(userId='30', firstname='Colin', page='NextSong', song='These Days', level='paid'),\n",
       " Row(userId='30', firstname='Colin', page='Home', song=None, level='paid'),\n",
       " Row(userId='30', firstname='Colin', page='NextSong', song='Twenty-Six Temptations (Album version)', level='paid'),\n",
       " Row(userId='30', firstname='Colin', page='NextSong', song='Janglin', level='paid'),\n",
       " Row(userId='30', firstname='Colin', page='NextSong', song='I Write Sins Not Tragedies [Live In Chicago]', level='paid'),\n",
       " Row(userId='30', firstname='Colin', page='NextSong', song='Wore Out', level='paid'),\n",
       " Row(userId='30', firstname='Colin', page='NextSong', song='JOG-O-MOTION PART 1', level='paid'),\n",
       " Row(userId='30', firstname='Colin', page='Thumbs Up', song=None, level='paid'),\n",
       " Row(userId='30', firstname='Colin', page='NextSong', song='No Remorse', level='paid'),\n",
       " Row(userId='30', firstname='Colin', page='NextSong', song='Small', level='paid'),\n",
       " Row(userId='30', firstname='Colin', page='NextSong', song='Cover Me', level='paid'),\n",
       " Row(userId='30', firstname='Colin', page='NextSong', song='No Air duet with Chris Brown', level='paid'),\n",
       " Row(userId='30', firstname='Colin', page='NextSong', song='Between Us And Them', level='paid'),\n",
       " Row(userId='30', firstname='Colin', page='NextSong', song='ParaÃ\\x83Â\\xadso', level='paid'),\n",
       " Row(userId='30', firstname='Colin', page='NextSong', song='Untitled', level='paid'),\n",
       " Row(userId='30', firstname='Colin', page='NextSong', song='Fire With Fire', level='paid'),\n",
       " Row(userId='30', firstname='Colin', page='NextSong', song='Rainbow', level='paid'),\n",
       " Row(userId='30', firstname='Colin', page='NextSong', song='Dusk Till Dawn', level='paid'),\n",
       " Row(userId='30', firstname='Colin', page='NextSong', song='Three Pope (feat. Monty Alexander)', level='paid'),\n",
       " Row(userId='30', firstname='Colin', page='NextSong', song='She Hates Me', level='paid'),\n",
       " Row(userId='30', firstname='Colin', page='NextSong', song=\"You'll Be In My Heart\", level='paid'),\n",
       " Row(userId='30', firstname='Colin', page='NextSong', song='The Bunting Song', level='paid'),\n",
       " Row(userId='30', firstname='Colin', page='NextSong', song='Beer', level='paid'),\n",
       " Row(userId='30', firstname='Colin', page='NextSong', song='With Or Without You', level='paid'),\n",
       " Row(userId='30', firstname='Colin', page='NextSong', song='Going North [Commentary]', level='paid'),\n",
       " Row(userId='30', firstname='Colin', page='NextSong', song='Greece 2000', level='paid'),\n",
       " Row(userId='30', firstname='Colin', page='NextSong', song='What A Feeling', level='paid'),\n",
       " Row(userId='30', firstname='Colin', page='Thumbs Up', song=None, level='paid'),\n",
       " Row(userId='30', firstname='Colin', page='NextSong', song='The Legend of Finn MacCumhail (Album Version)', level='paid'),\n",
       " Row(userId='30', firstname='Colin', page='NextSong', song='Love Story', level='paid'),\n",
       " Row(userId='30', firstname='Colin', page='Add Friend', song=None, level='paid'),\n",
       " Row(userId='30', firstname='Colin', page='Add Friend', song=None, level='paid'),\n",
       " Row(userId='30', firstname='Colin', page='NextSong', song='Gafas de pasta', level='paid'),\n",
       " Row(userId='30', firstname='Colin', page='Add to Playlist', song=None, level='paid'),\n",
       " Row(userId='30', firstname='Colin', page='NextSong', song=\"You've Got A Friend (Live Version)\", level='paid'),\n",
       " Row(userId='30', firstname='Colin', page='NextSong', song='Diamonds From Sierra Leone', level='paid'),\n",
       " Row(userId='30', firstname='Colin', page='NextSong', song='No Use', level='paid'),\n",
       " Row(userId='30', firstname='Colin', page='Settings', song=None, level='paid'),\n",
       " Row(userId='30', firstname='Colin', page='NextSong', song='Bring Me To Life', level='paid'),\n",
       " Row(userId='30', firstname='Colin', page='NextSong', song='Be Like You', level='paid'),\n",
       " Row(userId='30', firstname='Colin', page='NextSong', song='U.S. History', level='paid'),\n",
       " Row(userId='30', firstname='Colin', page='NextSong', song='La Cocinera', level='paid'),\n",
       " Row(userId='30', firstname='Colin', page='Thumbs Up', song=None, level='paid'),\n",
       " Row(userId='30', firstname='Colin', page='NextSong', song='All Summer Long', level='paid'),\n",
       " Row(userId='30', firstname='Colin', page='NextSong', song=\"D'Evils\", level='paid'),\n",
       " Row(userId='30', firstname='Colin', page='NextSong', song='Hard To Concentrate (Album Version)', level='paid'),\n",
       " Row(userId='30', firstname='Colin', page='NextSong', song='Bad Omen (24-Bit Digitally Remastered 04) ()', level='paid'),\n",
       " Row(userId='30', firstname='Colin', page='NextSong', song='Put Your Hands Up For Detroit', level='paid'),\n",
       " Row(userId='30', firstname='Colin', page='NextSong', song='Bad Trails', level='paid'),\n",
       " Row(userId='30', firstname='Colin', page='NextSong', song='Bring Me Down', level='paid'),\n",
       " Row(userId='30', firstname='Colin', page='NextSong', song='Last Time (Album Version)', level='paid'),\n",
       " Row(userId='30', firstname='Colin', page='NextSong', song='Apply Some Pressure', level='paid'),\n",
       " Row(userId='30', firstname='Colin', page='NextSong', song='Tailor Made', level='paid'),\n",
       " Row(userId='30', firstname='Colin', page='NextSong', song='I Can Tell', level='paid'),\n",
       " Row(userId='30', firstname='Colin', page='NextSong', song='Angels We Have Heard On High', level='paid'),\n",
       " Row(userId='30', firstname='Colin', page='Add to Playlist', song=None, level='paid'),\n",
       " Row(userId='30', firstname='Colin', page='NextSong', song='Catch You Baby (Steve Pitron & Max Sanna Radio Edit)', level='paid'),\n",
       " Row(userId='30', firstname='Colin', page='NextSong', song='Picture Perfect', level='paid'),\n",
       " Row(userId='30', firstname='Colin', page='Error', song=None, level='paid'),\n",
       " Row(userId='30', firstname='Colin', page='NextSong', song='Ours Alone', level='paid'),\n",
       " Row(userId='30', firstname='Colin', page='NextSong', song='Master Of Puppets', level='paid'),\n",
       " Row(userId='30', firstname='Colin', page='NextSong', song='Costruire', level='paid'),\n",
       " Row(userId='30', firstname='Colin', page='NextSong', song='Sparks', level='paid'),\n",
       " Row(userId='30', firstname='Colin', page='NextSong', song='Wildlife', level='paid'),\n",
       " Row(userId='30', firstname='Colin', page='NextSong', song='Hello', level='paid'),\n",
       " Row(userId='30', firstname='Colin', page='NextSong', song='Even If Kills Me (Cd)', level='paid'),\n",
       " Row(userId='30', firstname='Colin', page='NextSong', song='Drinking In L.A.', level='paid'),\n",
       " Row(userId='30', firstname='Colin', page='NextSong', song='Xehasmeni Melodia', level='paid'),\n",
       " Row(userId='30', firstname='Colin', page='NextSong', song=\"You Can't Break A Broken Heart\", level='paid'),\n",
       " Row(userId='30', firstname='Colin', page='Downgrade', song=None, level='paid'),\n",
       " Row(userId='30', firstname='Colin', page='NextSong', song='Truth In The Age Of Lies (Album Version)', level='paid'),\n",
       " Row(userId='30', firstname='Colin', page='NextSong', song='Donde Vamos', level='paid'),\n",
       " Row(userId='30', firstname='Colin', page='NextSong', song=\"Lady '95\", level='paid'),\n",
       " Row(userId='30', firstname='Colin', page='NextSong', song='Horseshoes and Hand Grenades', level='paid'),\n",
       " Row(userId='30', firstname='Colin', page='NextSong', song='Jamaica Roots II(Agora E Sempre)', level='paid'),\n",
       " Row(userId='30', firstname='Colin', page='Downgrade', song=None, level='paid'),\n",
       " Row(userId='30', firstname='Colin', page='Submit Downgrade', song=None, level='paid'),\n",
       " Row(userId='30', firstname='Colin', page='Home', song=None, level='free'),\n",
       " Row(userId='30', firstname='Colin', page='NextSong', song='Crimewave (Crystal Castles vs Health)', level='free'),\n",
       " Row(userId='30', firstname='Colin', page='NextSong', song='Hey (Album Version)', level='free'),\n",
       " Row(userId='30', firstname='Colin', page='NextSong', song='I Believe In Forever', level='free'),\n",
       " Row(userId='30', firstname='Colin', page='Add to Playlist', song=None, level='free'),\n",
       " Row(userId='30', firstname='Colin', page='NextSong', song=\"Don't Stop The Music\", level='free'),\n",
       " Row(userId='30', firstname='Colin', page='NextSong', song='City Of The Dead', level='free'),\n",
       " Row(userId='30', firstname='Colin', page='NextSong', song='Too Afraid To Love', level='free'),\n",
       " Row(userId='30', firstname='Colin', page='Home', song=None, level='free'),\n",
       " Row(userId='30', firstname='Colin', page='NextSong', song='Hasir', level='free'),\n",
       " Row(userId='30', firstname='Colin', page='NextSong', song='Bloat On (featuring the Bloaters) (LP Version)', level='free'),\n",
       " Row(userId='30', firstname='Colin', page='NextSong', song=\"Frisch und g'sund\", level='free'),\n",
       " Row(userId='30', firstname='Colin', page='NextSong', song='Boom Boom', level='free'),\n",
       " Row(userId='30', firstname='Colin', page='Thumbs Up', song=None, level='free'),\n",
       " Row(userId='30', firstname='Colin', page='NextSong', song='Undo', level='free'),\n",
       " Row(userId='30', firstname='Colin', page='Add to Playlist', song=None, level='free'),\n",
       " Row(userId='30', firstname='Colin', page='NextSong', song='Hunting For Witches', level='free'),\n",
       " Row(userId='30', firstname='Colin', page='NextSong', song='Blindsided', level='free'),\n",
       " Row(userId='30', firstname='Colin', page='NextSong', song='Survive', level='free'),\n",
       " Row(userId='30', firstname='Colin', page='NextSong', song='Alice', level='free'),\n",
       " Row(userId='30', firstname='Colin', page='NextSong', song='Dog Days Are Over (Radio Edit)', level='free'),\n",
       " Row(userId='30', firstname='Colin', page='NextSong', song=\"Lovin' You\", level='free'),\n",
       " Row(userId='30', firstname='Colin', page='NextSong', song=\"Everybody's Fool (Live in Europe)\", level='free'),\n",
       " Row(userId='30', firstname='Colin', page='NextSong', song='Jeune Et Con', level='free'),\n",
       " Row(userId='30', firstname='Colin', page='NextSong', song='Somebody (Loves You) (Explicit Album Version)', level='free'),\n",
       " Row(userId='30', firstname='Colin', page='NextSong', song='Not Big', level='free'),\n",
       " Row(userId='30', firstname='Colin', page='NextSong', song='Paint You', level='free'),\n",
       " Row(userId='30', firstname='Colin', page='NextSong', song='Block Of Ice', level='free'),\n",
       " Row(userId='30', firstname='Colin', page='Upgrade', song=None, level='free'),\n",
       " Row(userId='30', firstname='Colin', page='NextSong', song='Sun It Rises', level='free'),\n",
       " Row(userId='30', firstname='Colin', page='Upgrade', song=None, level='free'),\n",
       " Row(userId='30', firstname='Colin', page='NextSong', song='Paralyzer', level='free'),\n",
       " Row(userId='30', firstname='Colin', page='NextSong', song='Bleed It Out [Live At Milton Keynes]', level='free'),\n",
       " Row(userId='30', firstname='Colin', page='Add to Playlist', song=None, level='free'),\n",
       " Row(userId='30', firstname='Colin', page='NextSong', song='Ven Conmigo (Solamente TÃ\\x83Âº)', level='free'),\n",
       " Row(userId='30', firstname='Colin', page='NextSong', song='Give In', level='free'),\n",
       " Row(userId='30', firstname='Colin', page='NextSong', song='Arrepentida', level='free'),\n",
       " Row(userId='30', firstname='Colin', page='NextSong', song=\"I Don't Want To Wait (Album Version)\", level='free'),\n",
       " Row(userId='30', firstname='Colin', page='NextSong', song='Down To The River To Pray', level='free'),\n",
       " Row(userId='30', firstname='Colin', page='NextSong', song='Castles In The Sky', level='free'),\n",
       " Row(userId='30', firstname='Colin', page='Thumbs Up', song=None, level='free'),\n",
       " Row(userId='30', firstname='Colin', page='NextSong', song='Sitting On Top Of The World', level='free'),\n",
       " Row(userId='30', firstname='Colin', page='NextSong', song='The Way Things Go', level='free'),\n",
       " Row(userId='30', firstname='Colin', page='NextSong', song='Recruiting Soldiers (2002 Digital Remaster)', level='free'),\n",
       " Row(userId='30', firstname='Colin', page='Thumbs Up', song=None, level='free'),\n",
       " Row(userId='30', firstname='Colin', page='NextSong', song='Clara meets Slope - Hard To Say', level='free'),\n",
       " Row(userId='30', firstname='Colin', page='NextSong', song='Timeless', level='free'),\n",
       " Row(userId='30', firstname='Colin', page='NextSong', song=\"Punta D'Alba\", level='free'),\n",
       " Row(userId='30', firstname='Colin', page='Roll Advert', song=None, level='free'),\n",
       " Row(userId='30', firstname='Colin', page='NextSong', song=\"Ghosts 'n' Stuff (Original Instrumental Mix)\", level='free'),\n",
       " Row(userId='30', firstname='Colin', page='NextSong', song=\"I Couldn't Help It If I Tried\", level='free'),\n",
       " Row(userId='30', firstname='Colin', page='NextSong', song='The Blood_ The Sweat_ The Tears (Album Version)', level='free'),\n",
       " Row(userId='30', firstname='Colin', page='Add to Playlist', song=None, level='free'),\n",
       " Row(userId='30', firstname='Colin', page='NextSong', song='She Said', level='free'),\n",
       " Row(userId='30', firstname='Colin', page='Home', song=None, level='free'),\n",
       " Row(userId='30', firstname='Colin', page='NextSong', song='Undo', level='free'),\n",
       " Row(userId='30', firstname='Colin', page='NextSong', song='Bust A Move', level='free'),\n",
       " Row(userId='30', firstname='Colin', page='Thumbs Up', song=None, level='free'),\n",
       " Row(userId='30', firstname='Colin', page='NextSong', song='Catch You Baby (Steve Pitron & Max Sanna Radio Edit)', level='free'),\n",
       " Row(userId='30', firstname='Colin', page='NextSong', song='White Light/White Heat', level='free'),\n",
       " Row(userId='30', firstname='Colin', page='NextSong', song='Infinity', level='free'),\n",
       " Row(userId='30', firstname='Colin', page='NextSong', song='Bros Sto Rimagmeno Spiti (2003 Digital Remaster)', level='free'),\n",
       " Row(userId='30', firstname='Colin', page='Add Friend', song=None, level='free'),\n",
       " Row(userId='30', firstname='Colin', page='Add Friend', song=None, level='free'),\n",
       " Row(userId='30', firstname='Colin', page='Home', song=None, level='free'),\n",
       " Row(userId='30', firstname='Colin', page='NextSong', song='Gear Box', level='free'),\n",
       " Row(userId='30', firstname='Colin', page='Roll Advert', song=None, level='free'),\n",
       " Row(userId='30', firstname='Colin', page='NextSong', song='In Liverpool', level='free'),\n",
       " Row(userId='30', firstname='Colin', page='NextSong', song='Work It Out', level='free'),\n",
       " Row(userId='30', firstname='Colin', page='NextSong', song='Timberwolves At New Jersey (Album Version)', level='free'),\n",
       " Row(userId='30', firstname='Colin', page='Home', song=None, level='free'),\n",
       " Row(userId='30', firstname='Colin', page='NextSong', song='Great Escape', level='free'),\n",
       " Row(userId='30', firstname='Colin', page='NextSong', song='Drop The World', level='free'),\n",
       " Row(userId='30', firstname='Colin', page='NextSong', song='My Poor Old Heart', level='free'),\n",
       " Row(userId='30', firstname='Colin', page='NextSong', song='Hey! (A Lil Gratitude) (Album Version) ()', level='free'),\n",
       " Row(userId='30', firstname='Colin', page='Home', song=None, level='free'),\n",
       " Row(userId='30', firstname='Colin', page='NextSong', song='Map Of The Problematique', level='free'),\n",
       " Row(userId='30', firstname='Colin', page='NextSong', song='Gente Que No', level='free'),\n",
       " Row(userId='30', firstname='Colin', page='NextSong', song='Half Of My Heart', level='free'),\n",
       " Row(userId='30', firstname='Colin', page='NextSong', song='All My Love', level='free'),\n",
       " Row(userId='30', firstname='Colin', page='NextSong', song='Dog Eat Dog', level='free'),\n",
       " Row(userId='30', firstname='Colin', page='Home', song=None, level='free'),\n",
       " Row(userId='30', firstname='Colin', page='Home', song=None, level='free'),\n",
       " Row(userId='30', firstname='Colin', page='Home', song=None, level='free'),\n",
       " Row(userId='30', firstname='Colin', page='NextSong', song='The Laws Have Changed', level='free'),\n",
       " Row(userId='30', firstname='Colin', page='NextSong', song=\"She's My Baby\", level='free'),\n",
       " Row(userId='30', firstname='Colin', page='NextSong', song=\"Don't Give Up On Us\", level='free'),\n",
       " Row(userId='30', firstname='Colin', page='NextSong', song=\"What's Left of the Flag\", level='free'),\n",
       " Row(userId='30', firstname='Colin', page='NextSong', song='Why Do You Laugh At Me', level='free'),\n",
       " Row(userId='30', firstname='Colin', page='NextSong', song='Eskimo - Album Version (not as hidden track)', level='free'),\n",
       " Row(userId='30', firstname='Colin', page='Roll Advert', song=None, level='free'),\n",
       " Row(userId='30', firstname='Colin', page='NextSong', song='A Beggar On A Beach Of Gold', level='free'),\n",
       " Row(userId='30', firstname='Colin', page='Upgrade', song=None, level='free'),\n",
       " Row(userId='30', firstname='Colin', page='NextSong', song='Ragoo', level='free'),\n",
       " Row(userId='30', firstname='Colin', page='NextSong', song='Unreachable', level='free'),\n",
       " Row(userId='30', firstname='Colin', page='NextSong', song='Misunderstood', level='free'),\n",
       " Row(userId='30', firstname='Colin', page='NextSong', song='Seize The Day (Album Version)', level='free'),\n",
       " Row(userId='30', firstname='Colin', page='NextSong', song='All Over Again (Album Version)', level='free'),\n",
       " Row(userId='30', firstname='Colin', page='NextSong', song='Car (Album)', level='free'),\n",
       " Row(userId='30', firstname='Colin', page='NextSong', song=\"You're The One\", level='free'),\n",
       " Row(userId='30', firstname='Colin', page='NextSong', song='(You Drive Me) Crazy (The Stop Remix!)', level='free'),\n",
       " Row(userId='30', firstname='Colin', page='NextSong', song='The Battery', level='free'),\n",
       " Row(userId='30', firstname='Colin', page='NextSong', song='Ordinary Man', level='free'),\n",
       " Row(userId='30', firstname='Colin', page='NextSong', song=\"I CAN'T GET STARTED\", level='free'),\n",
       " Row(userId='30', firstname='Colin', page='Thumbs Up', song=None, level='free'),\n",
       " Row(userId='30', firstname='Colin', page='NextSong', song='Corrido Al Torero', level='free'),\n",
       " Row(userId='30', firstname='Colin', page='NextSong', song='Dull Life', level='free'),\n",
       " Row(userId='30', firstname='Colin', page='NextSong', song='Aht Uh Mi Hed', level='free'),\n",
       " Row(userId='30', firstname='Colin', page='Roll Advert', song=None, level='free'),\n",
       " Row(userId='30', firstname='Colin', page='Roll Advert', song=None, level='free'),\n",
       " Row(userId='30', firstname='Colin', page='NextSong', song='Fisticuffs (LP Version)', level='free'),\n",
       " Row(userId='30', firstname='Colin', page='NextSong', song='More Than This', level='free'),\n",
       " Row(userId='30', firstname='Colin', page='NextSong', song='Baby I Want You', level='free'),\n",
       " Row(userId='30', firstname='Colin', page='NextSong', song='I Miss You', level='free'),\n",
       " Row(userId='30', firstname='Colin', page='Roll Advert', song=None, level='free'),\n",
       " Row(userId='30', firstname='Colin', page='NextSong', song='Alejate De Mi', level='free'),\n",
       " Row(userId='30', firstname='Colin', page='NextSong', song='Crazy Bitch (Album Version)', level='free'),\n",
       " Row(userId='30', firstname='Colin', page='NextSong', song='Por segunda vez', level='free'),\n",
       " Row(userId='30', firstname='Colin', page='Thumbs Up', song=None, level='free'),\n",
       " Row(userId='30', firstname='Colin', page='NextSong', song='Antibodies', level='free'),\n",
       " Row(userId='30', firstname='Colin', page='NextSong', song='Toxic Girl', level='free'),\n",
       " Row(userId='30', firstname='Colin', page='NextSong', song='Lowlands', level='free'),\n",
       " Row(userId='30', firstname='Colin', page='NextSong', song='Even Deeper', level='free'),\n",
       " Row(userId='30', firstname='Colin', page='Roll Advert', song=None, level='free'),\n",
       " Row(userId='30', firstname='Colin', page='NextSong', song='I Second That Emotion', level='free'),\n",
       " Row(userId='30', firstname='Colin', page='NextSong', song='Scatman (Ski-Ba-Bop-Ba-Dop-Bop)', level='free'),\n",
       " Row(userId='30', firstname='Colin', page='NextSong', song='Countdown', level='free'),\n",
       " Row(userId='30', firstname='Colin', page='NextSong', song='Forever', level='free'),\n",
       " Row(userId='30', firstname='Colin', page='NextSong', song='Bootzilla', level='free'),\n",
       " Row(userId='30', firstname='Colin', page='Thumbs Up', song=None, level='free'),\n",
       " Row(userId='30', firstname='Colin', page='NextSong', song=\"I'd Rather Fuck You (Explicit) (Feat. Eazy-E)\", level='free'),\n",
       " Row(userId='30', firstname='Colin', page='NextSong', song='New Generation', level='free'),\n",
       " Row(userId='30', firstname='Colin', page='NextSong', song='Follow You', level='free'),\n",
       " Row(userId='30', firstname='Colin', page='NextSong', song='Shine On (Album Version)', level='free'),\n",
       " Row(userId='30', firstname='Colin', page='NextSong', song='Venice Queen (Album Version)', level='free'),\n",
       " Row(userId='30', firstname='Colin', page='NextSong', song='Tear You Apart', level='free'),\n",
       " Row(userId='30', firstname='Colin', page='NextSong', song='Horn Concerto No. 4 in E flat K495: II. Romance (Andante cantabile)', level='free'),\n",
       " Row(userId='30', firstname='Colin', page='Thumbs Up', song=None, level='free'),\n",
       " Row(userId='30', firstname='Colin', page='NextSong', song='Over Now', level='free'),\n",
       " Row(userId='30', firstname='Colin', page='Upgrade', song=None, level='free'),\n",
       " Row(userId='30', firstname='Colin', page='NextSong', song='Superbeast', level='free'),\n",
       " Row(userId='30', firstname='Colin', page='Logout', song=None, level='free'),\n",
       " Row(userId='30', firstname='Colin', page='Home', song=None, level='free'),\n",
       " Row(userId='30', firstname='Colin', page='NextSong', song='Broke Up The Time', level='free'),\n",
       " Row(userId='30', firstname='Colin', page='Add to Playlist', song=None, level='free'),\n",
       " Row(userId='30', firstname='Colin', page='NextSong', song='Roll Over Beethoven', level='free'),\n",
       " Row(userId='30', firstname='Colin', page='NextSong', song='Way Back Home', level='free'),\n",
       " Row(userId='30', firstname='Colin', page='NextSong', song='Back To Life (Album Version)', level='free'),\n",
       " Row(userId='30', firstname='Colin', page='NextSong', song='Strut (1993 Digital Remaster)', level='free'),\n",
       " Row(userId='30', firstname='Colin', page='NextSong', song='Super Inuit (Studio) [Bonus Track]', level='free'),\n",
       " Row(userId='30', firstname='Colin', page='NextSong', song='16 Candles', level='free'),\n",
       " Row(userId='30', firstname='Colin', page='NextSong', song='The Outlaw', level='free'),\n",
       " Row(userId='30', firstname='Colin', page='NextSong', song='Geek In The Pink [Phil Tan Remix]', level='free'),\n",
       " Row(userId='30', firstname='Colin', page='NextSong', song='The Chosen Legacy', level='free'),\n",
       " Row(userId='30', firstname='Colin', page='NextSong', song=\"Don't You Run With Him\", level='free'),\n",
       " Row(userId='30', firstname='Colin', page='Roll Advert', song=None, level='free'),\n",
       " Row(userId='30', firstname='Colin', page='NextSong', song='Brianstorm', level='free'),\n",
       " Row(userId='30', firstname='Colin', page='NextSong', song='To Zion', level='free'),\n",
       " Row(userId='30', firstname='Colin', page='Home', song=None, level='free'),\n",
       " Row(userId='30', firstname='Colin', page='NextSong', song='Lucy (Album Version)', level='free'),\n",
       " Row(userId='30', firstname='Colin', page='NextSong', song='What Goes Around...Comes Around', level='free'),\n",
       " Row(userId='30', firstname='Colin', page='NextSong', song='Bang On The Drum', level='free'),\n",
       " Row(userId='30', firstname='Colin', page='NextSong', song='Bill Sykes', level='free'),\n",
       " Row(userId='30', firstname='Colin', page='NextSong', song='Rhyme & Reason', level='free'),\n",
       " Row(userId='30', firstname='Colin', page='NextSong', song='Schifrin and Variations', level='free'),\n",
       " Row(userId='30', firstname='Colin', page='Thumbs Up', song=None, level='free'),\n",
       " Row(userId='30', firstname='Colin', page='NextSong', song='Teach Me How To Dougie', level='free'),\n",
       " Row(userId='30', firstname='Colin', page='NextSong', song='We Deal In Dreams', level='free'),\n",
       " Row(userId='30', firstname='Colin', page='NextSong', song='Undo', level='free'),\n",
       " Row(userId='30', firstname='Colin', page='NextSong', song='Pushing Me Away (Album Version)', level='free'),\n",
       " Row(userId='30', firstname='Colin', page='Roll Advert', song=None, level='free'),\n",
       " Row(userId='30', firstname='Colin', page='Logout', song=None, level='free'),\n",
       " Row(userId='30', firstname='Colin', page='Home', song=None, level='free'),\n",
       " Row(userId='30', firstname='Colin', page='NextSong', song='Trouble Dub - FAMS Mix', level='free'),\n",
       " Row(userId='30', firstname='Colin', page='NextSong', song='Electric Avenue', level='free'),\n",
       " Row(userId='30', firstname='Colin', page='NextSong', song=\"If I Ain't Got You\", level='free'),\n",
       " Row(userId='30', firstname='Colin', page='Roll Advert', song=None, level='free'),\n",
       " Row(userId='30', firstname='Colin', page='Roll Advert', song=None, level='free'),\n",
       " Row(userId='30', firstname='Colin', page='NextSong', song='Dream', level='free'),\n",
       " Row(userId='30', firstname='Colin', page='NextSong', song='Pak Dit Grej (1998 Digital Remaster)', level='free'),\n",
       " Row(userId='30', firstname='Colin', page='NextSong', song='My Moon My Man', level='free'),\n",
       " Row(userId='30', firstname='Colin', page='Thumbs Up', song=None, level='free'),\n",
       " Row(userId='30', firstname='Colin', page='NextSong', song='Constellations', level='free'),\n",
       " Row(userId='30', firstname='Colin', page='NextSong', song='Kiss (LP Version)', level='free'),\n",
       " Row(userId='30', firstname='Colin', page='NextSong', song='Ven AquÃ\\x83Â\\xad', level='free'),\n",
       " Row(userId='30', firstname='Colin', page='NextSong', song='Christmas Journey', level='free'),\n",
       " Row(userId='30', firstname='Colin', page='NextSong', song='Little Fighter', level='free'),\n",
       " Row(userId='30', firstname='Colin', page='NextSong', song='Always Coming Back Home To You', level='free'),\n",
       " Row(userId='30', firstname='Colin', page='NextSong', song='Alarm!', level='free'),\n",
       " Row(userId='30', firstname='Colin', page='NextSong', song='Run', level='free'),\n",
       " Row(userId='30', firstname='Colin', page='NextSong', song='Do You Dream', level='free'),\n",
       " Row(userId='30', firstname='Colin', page='NextSong', song='The Only Exception (Album Version)', level='free'),\n",
       " Row(userId='30', firstname='Colin', page='Roll Advert', song=None, level='free'),\n",
       " Row(userId='30', firstname='Colin', page='NextSong', song='Spiderwebs', level='free'),\n",
       " Row(userId='30', firstname='Colin', page='NextSong', song=\"Please Don't Go\", level='free'),\n",
       " Row(userId='30', firstname='Colin', page='Add to Playlist', song=None, level='free'),\n",
       " Row(userId='30', firstname='Colin', page='NextSong', song='Pursuit Of Happiness (nightmare)', level='free'),\n",
       " Row(userId='30', firstname='Colin', page='NextSong', song=\"Breakin' Dishes\", level='free'),\n",
       " Row(userId='30', firstname='Colin', page='NextSong', song='Hall of Fame', level='free'),\n",
       " Row(userId='30', firstname='Colin', page='NextSong', song='Brothers', level='free'),\n",
       " Row(userId='30', firstname='Colin', page='NextSong', song='Hide & Seek', level='free'),\n",
       " Row(userId='30', firstname='Colin', page='Add to Playlist', song=None, level='free'),\n",
       " Row(userId='30', firstname='Colin', page='NextSong', song=\"It's No Good (Single Version)\", level='free'),\n",
       " Row(userId='30', firstname='Colin', page='NextSong', song='Here We Are (Family In The Hallways)', level='free'),\n",
       " Row(userId='30', firstname='Colin', page='NextSong', song='Love Is Blue', level='free'),\n",
       " Row(userId='30', firstname='Colin', page='Thumbs Up', song=None, level='free'),\n",
       " Row(userId='30', firstname='Colin', page='NextSong', song='Wounded', level='free'),\n",
       " Row(userId='30', firstname='Colin', page='NextSong', song='Selling The Drama', level='free'),\n",
       " Row(userId='30', firstname='Colin', page='NextSong', song='My Michelle', level='free'),\n",
       " Row(userId='30', firstname='Colin', page='Logout', song=None, level='free'),\n",
       " Row(userId='30', firstname='Colin', page='Home', song=None, level='free'),\n",
       " Row(userId='30', firstname='Colin', page='NextSong', song='Superstition', level='free'),\n",
       " Row(userId='30', firstname='Colin', page='NextSong', song='The Scientist', level='free'),\n",
       " Row(userId='30', firstname='Colin', page='Help', song=None, level='free'),\n",
       " Row(userId='30', firstname='Colin', page='NextSong', song='Make Love To Your Mind', level='free'),\n",
       " Row(userId='30', firstname='Colin', page='NextSong', song='Art is Hard', level='free'),\n",
       " Row(userId='30', firstname='Colin', page='Home', song=None, level='free'),\n",
       " Row(userId='30', firstname='Colin', page='Add Friend', song=None, level='free'),\n",
       " Row(userId='30', firstname='Colin', page='Settings', song=None, level='free'),\n",
       " Row(userId='30', firstname='Colin', page='Home', song=None, level='free'),\n",
       " Row(userId='30', firstname='Colin', page='Logout', song=None, level='free'),\n",
       " Row(userId='30', firstname='Colin', page='Home', song=None, level='free'),\n",
       " Row(userId='30', firstname='Colin', page='NextSong', song='Silent Running', level='free'),\n",
       " Row(userId='30', firstname='Colin', page='NextSong', song='The Unforgiven II', level='free'),\n",
       " Row(userId='30', firstname='Colin', page='NextSong', song=\"Valjean's Soliloquy\", level='free'),\n",
       " Row(userId='30', firstname='Colin', page='NextSong', song='Tonight', level='free'),\n",
       " Row(userId='30', firstname='Colin', page='NextSong', song='Playing To Win (24-Bit Digitally Remastered 02)', level='free'),\n",
       " Row(userId='30', firstname='Colin', page='NextSong', song='El nazareno', level='free'),\n",
       " Row(userId='30', firstname='Colin', page='NextSong', song='Your Song', level='free'),\n",
       " Row(userId='30', firstname='Colin', page='NextSong', song='Thunderbird', level='free'),\n",
       " Row(userId='30', firstname='Colin', page='NextSong', song='Rayando el sol', level='free'),\n",
       " Row(userId='30', firstname='Colin', page='NextSong', song='Mama Your Boys Will Find A Home', level='free'),\n",
       " Row(userId='30', firstname='Colin', page='NextSong', song='Absolution: Of Flight and Failure', level='free'),\n",
       " Row(userId='30', firstname='Colin', page='NextSong', song='The Bones Of You', level='free'),\n",
       " Row(userId='30', firstname='Colin', page='NextSong', song='Kickstarts', level='free'),\n",
       " Row(userId='30', firstname='Colin', page='NextSong', song='Mrs. Robinson (LP Version)', level='free'),\n",
       " Row(userId='30', firstname='Colin', page='Add to Playlist', song=None, level='free'),\n",
       " Row(userId='30', firstname='Colin', page='NextSong', song='Rain Is A Good Thing', level='free'),\n",
       " Row(userId='30', firstname='Colin', page='NextSong', song='Barco a Venus', level='free'),\n",
       " Row(userId='30', firstname='Colin', page='NextSong', song='Planet Caravan (Remastered LP Version)', level='free'),\n",
       " Row(userId='30', firstname='Colin', page='NextSong', song='I Melt With You', level='free'),\n",
       " Row(userId='30', firstname='Colin', page='NextSong', song='Failures Burden', level='free'),\n",
       " Row(userId='30', firstname='Colin', page='Roll Advert', song=None, level='free'),\n",
       " Row(userId='30', firstname='Colin', page='NextSong', song='I Get It', level='free'),\n",
       " Row(userId='30', firstname='Colin', page='NextSong', song='Lie To Me', level='free'),\n",
       " Row(userId='30', firstname='Colin', page='Add to Playlist', song=None, level='free'),\n",
       " Row(userId='30', firstname='Colin', page='NextSong', song=\"Sonny's Dream\", level='free'),\n",
       " Row(userId='30', firstname='Colin', page='Roll Advert', song=None, level='free'),\n",
       " Row(userId='30', firstname='Colin', page='NextSong', song='Mandy', level='free'),\n",
       " Row(userId='30', firstname='Colin', page='Thumbs Down', song=None, level='free'),\n",
       " Row(userId='30', firstname='Colin', page='NextSong', song='Still', level='free'),\n",
       " Row(userId='30', firstname='Colin', page='Roll Advert', song=None, level='free'),\n",
       " Row(userId='30', firstname='Colin', page='NextSong', song='Future Says Run', level='free'),\n",
       " Row(userId='30', firstname='Colin', page='NextSong', song='Not So Usual (Eagles Ballroom Live Version)', level='free'),\n",
       " Row(userId='30', firstname='Colin', page='NextSong', song='Troublemaker', level='free'),\n",
       " Row(userId='30', firstname='Colin', page='Thumbs Up', song=None, level='free'),\n",
       " Row(userId='30', firstname='Colin', page='NextSong', song=\"Our Lawyer Made Us Change The Name Of This Song So We Wouldn't Get Sued\", level='free'),\n",
       " Row(userId='30', firstname='Colin', page='NextSong', song='The Vanishing', level='free'),\n",
       " Row(userId='30', firstname='Colin', page='Home', song=None, level='free'),\n",
       " Row(userId='30', firstname='Colin', page='NextSong', song='Forget Me', level='free'),\n",
       " Row(userId='30', firstname='Colin', page='NextSong', song='Wayfaring Stranger', level='free'),\n",
       " Row(userId='30', firstname='Colin', page='NextSong', song='The Runner', level='free'),\n",
       " Row(userId='30', firstname='Colin', page='NextSong', song='Harder To Breathe', level='free'),\n",
       " Row(userId='30', firstname='Colin', page='Thumbs Up', song=None, level='free'),\n",
       " Row(userId='30', firstname='Colin', page='NextSong', song='Rain', level='free'),\n",
       " Row(userId='30', firstname='Colin', page='NextSong', song='Bon Voyage', level='free'),\n",
       " Row(userId='30', firstname='Colin', page='NextSong', song='Calm Down Dearest (Explicit)', level='free'),\n",
       " Row(userId='30', firstname='Colin', page='NextSong', song=\"What's Left of the Flag\", level='free'),\n",
       " Row(userId='30', firstname='Colin', page='NextSong', song='Enigma (Album Version)', level='free'),\n",
       " Row(userId='30', firstname='Colin', page='NextSong', song='Lay Me Down', level='free'),\n",
       " Row(userId='30', firstname='Colin', page='NextSong', song='I Repeat', level='free'),\n",
       " Row(userId='30', firstname='Colin', page='NextSong', song='Catch You Baby (Steve Pitron & Max Sanna Radio Edit)', level='free'),\n",
       " Row(userId='30', firstname='Colin', page='NextSong', song='Burgalveist', level='free'),\n",
       " Row(userId='30', firstname='Colin', page='NextSong', song=\"It's Time I Go (Jazz)\", level='free'),\n",
       " Row(userId='30', firstname='Colin', page='NextSong', song='COLORADOSUNRISE (Explicit Album Version)', level='free'),\n",
       " Row(userId='30', firstname='Colin', page='NextSong', song='Deseret', level='free'),\n",
       " Row(userId='30', firstname='Colin', page='NextSong', song='Pink', level='free'),\n",
       " Row(userId='30', firstname='Colin', page='Settings', song=None, level='free'),\n",
       " Row(userId='30', firstname='Colin', page='NextSong', song='Ras Trent', level='free'),\n",
       " Row(userId='30', firstname='Colin', page='Roll Advert', song=None, level='free'),\n",
       " Row(userId='30', firstname='Colin', page='NextSong', song=\"Help I'm Alive\", level='free'),\n",
       " Row(userId='30', firstname='Colin', page='NextSong', song=\"Prodigal Son (Harvey's A Star In Your Own Mind Mix)\", level='free'),\n",
       " Row(userId='30', firstname='Colin', page='NextSong', song='Rhinestone Eyes', level='free'),\n",
       " Row(userId='30', firstname='Colin', page='Add Friend', song=None, level='free'),\n",
       " Row(userId='30', firstname='Colin', page='NextSong', song=\"When It's Over (Remastered Album Version)\", level='free'),\n",
       " Row(userId='30', firstname='Colin', page='NextSong', song='Punch Drunk Love', level='free'),\n",
       " Row(userId='30', firstname='Colin', page='NextSong', song=\"She's Got The Time\", level='free'),\n",
       " Row(userId='30', firstname='Colin', page='NextSong', song='The Strength To Go On', level='free'),\n",
       " Row(userId='30', firstname='Colin', page='NextSong', song='The Stakes Are High', level='free'),\n",
       " Row(userId='30', firstname='Colin', page='NextSong', song=\"Hustler's Prayer\", level='free'),\n",
       " Row(userId='30', firstname='Colin', page='NextSong', song='Fleur blanche', level='free'),\n",
       " Row(userId='30', firstname='Colin', page='Thumbs Down', song=None, level='free'),\n",
       " Row(userId='30', firstname='Colin', page='NextSong', song='Live And Let Die', level='free'),\n",
       " Row(userId='30', firstname='Colin', page='NextSong', song='Fast As I Can', level='free'),\n",
       " Row(userId='30', firstname='Colin', page='NextSong', song='One In A Million', level='free'),\n",
       " Row(userId='30', firstname='Colin', page='NextSong', song='Book Of Brilliant Things (2002 Digital Remaster)', level='free'),\n",
       " Row(userId='30', firstname='Colin', page='NextSong', song='Glad All Over', level='free'),\n",
       " Row(userId='30', firstname='Colin', page='NextSong', song='Arma dispuesta', level='free'),\n",
       " Row(userId='30', firstname='Colin', page='NextSong', song='Heavyweight', level='free'),\n",
       " Row(userId='30', firstname='Colin', page='Roll Advert', song=None, level='free'),\n",
       " Row(userId='30', firstname='Colin', page='NextSong', song='Deeply Disturbed', level='free'),\n",
       " Row(userId='30', firstname='Colin', page='NextSong', song='Signifying', level='free'),\n",
       " Row(userId='30', firstname='Colin', page='NextSong', song='Boy From School (Hot Chip Re-Work)', level='free'),\n",
       " Row(userId='30', firstname='Colin', page='Roll Advert', song=None, level='free'),\n",
       " Row(userId='30', firstname='Colin', page='NextSong', song='Sehr kosmisch', level='free'),\n",
       " Row(userId='30', firstname='Colin', page='NextSong', song='Clocks', level='free'),\n",
       " Row(userId='30', firstname='Colin', page='Roll Advert', song=None, level='free'),\n",
       " Row(userId='30', firstname='Colin', page='NextSong', song='Shut Up & Kiss Me', level='free'),\n",
       " Row(userId='30', firstname='Colin', page='NextSong', song='Use Somebody', level='free'),\n",
       " Row(userId='30', firstname='Colin', page='NextSong', song='Sparkover', level='free'),\n",
       " Row(userId='30', firstname='Colin', page='NextSong', song='Do You Feel Their Pain?', level='free'),\n",
       " Row(userId='30', firstname='Colin', page='NextSong', song='Back Against The Wall', level='free'),\n",
       " Row(userId='30', firstname='Colin', page='Home', song=None, level='free'),\n",
       " Row(userId='30', firstname='Colin', page='NextSong', song='Lonely', level='free'),\n",
       " Row(userId='30', firstname='Colin', page='Roll Advert', song=None, level='free'),\n",
       " Row(userId='30', firstname='Colin', page='NextSong', song='It Was A Good Day', level='free'),\n",
       " Row(userId='30', firstname='Colin', page='NextSong', song='Bliss', level='free'),\n",
       " Row(userId='30', firstname='Colin', page='NextSong', song='Marry Me', level='free'),\n",
       " Row(userId='30', firstname='Colin', page='Add to Playlist', song=None, level='free'),\n",
       " Row(userId='30', firstname='Colin', page='NextSong', song='Paint The Town Red', level='free'),\n",
       " Row(userId='30', firstname='Colin', page='NextSong', song='Butterfly', level='free'),\n",
       " Row(userId='30', firstname='Colin', page='NextSong', song='The Breaking of the Dawn (LP Version)', level='free'),\n",
       " Row(userId='30', firstname='Colin', page='NextSong', song='Prenzlauerberg', level='free'),\n",
       " Row(userId='30', firstname='Colin', page='NextSong', song='Not Fair (Clean Radio Edit)', level='free'),\n",
       " Row(userId='30', firstname='Colin', page='Logout', song=None, level='free'),\n",
       " Row(userId='30', firstname='Colin', page='Home', song=None, level='free'),\n",
       " Row(userId='30', firstname='Colin', page='NextSong', song='Ribbons', level='free'),\n",
       " Row(userId='30', firstname='Colin', page='NextSong', song='Please Forgive Me', level='free'),\n",
       " Row(userId='30', firstname='Colin', page='NextSong', song='Kiss With A Fist', level='free'),\n",
       " Row(userId='30', firstname='Colin', page='NextSong', song='Surf Wax America', level='free'),\n",
       " Row(userId='30', firstname='Colin', page='NextSong', song='Smooth Sailing Remix', level='free'),\n",
       " Row(userId='30', firstname='Colin', page='Settings', song=None, level='free'),\n",
       " Row(userId='30', firstname='Colin', page='NextSong', song='Hey Baby', level='free'),\n",
       " Row(userId='30', firstname='Colin', page='NextSong', song='Pump It', level='free'),\n",
       " Row(userId='30', firstname='Colin', page='Roll Advert', song=None, level='free'),\n",
       " Row(userId='30', firstname='Colin', page='NextSong', song='Superballs', level='free'),\n",
       " Row(userId='30', firstname='Colin', page='NextSong', song='Away From Me', level='free'),\n",
       " Row(userId='30', firstname='Colin', page='NextSong', song='The shooting company of Captain Frans B.Cocq', level='free'),\n",
       " Row(userId='30', firstname='Colin', page='NextSong', song='Just', level='free'),\n",
       " Row(userId='30', firstname='Colin', page='NextSong', song='Le Soir', level='free'),\n",
       " Row(userId='30', firstname='Colin', page='Settings', song=None, level='free'),\n",
       " Row(userId='30', firstname='Colin', page='NextSong', song='Thursday', level='free'),\n",
       " Row(userId='30', firstname='Colin', page='NextSong', song='Waiting For 22', level='free'),\n",
       " Row(userId='30', firstname='Colin', page='NextSong', song='C-Town', level='free'),\n",
       " Row(userId='30', firstname='Colin', page='NextSong', song='Never Again', level='free'),\n",
       " Row(userId='30', firstname='Colin', page='NextSong', song='I Love You', level='free'),\n",
       " Row(userId='30', firstname='Colin', page='NextSong', song='Appointment With Death', level='free'),\n",
       " Row(userId='30', firstname='Colin', page='NextSong', song='Even The Streets', level='free'),\n",
       " Row(userId='30', firstname='Colin', page='NextSong', song='Opis Helpus', level='free'),\n",
       " Row(userId='30', firstname='Colin', page='NextSong', song='Sehr kosmisch', level='free'),\n",
       " Row(userId='30', firstname='Colin', page='Roll Advert', song=None, level='free'),\n",
       " Row(userId='30', firstname='Colin', page='NextSong', song='Nueve Y Quince (9:15)', level='free'),\n",
       " Row(userId='30', firstname='Colin', page='NextSong', song='Invocation: Attica Blues', level='free'),\n",
       " Row(userId='30', firstname='Colin', page='NextSong', song='Birds', level='free'),\n",
       " Row(userId='30', firstname='Colin', page='NextSong', song='Picture', level='free'),\n",
       " Row(userId='30', firstname='Colin', page='Thumbs Up', song=None, level='free'),\n",
       " Row(userId='30', firstname='Colin', page='Add to Playlist', song=None, level='free'),\n",
       " Row(userId='30', firstname='Colin', page='NextSong', song='Half Of My Heart', level='free'),\n",
       " Row(userId='30', firstname='Colin', page='NextSong', song='Catch You Baby (Steve Pitron & Max Sanna Radio Edit)', level='free'),\n",
       " Row(userId='30', firstname='Colin', page='NextSong', song='Gan Haedden (Edden)', level='free'),\n",
       " Row(userId='30', firstname='Colin', page='NextSong', song='Collide', level='free'),\n",
       " Row(userId='30', firstname='Colin', page='NextSong', song='Tan Solo (En Vivo)', level='free'),\n",
       " Row(userId='30', firstname='Colin', page='Logout', song=None, level='free'),\n",
       " Row(userId='30', firstname='Colin', page='Home', song=None, level='free'),\n",
       " Row(userId='30', firstname='Colin', page='NextSong', song=\"Everything's Gonna Be Alright\", level='free'),\n",
       " Row(userId='30', firstname='Colin', page='NextSong', song='The Happy Song', level='free'),\n",
       " Row(userId='30', firstname='Colin', page='NextSong', song='My Axe', level='free'),\n",
       " Row(userId='30', firstname='Colin', page='NextSong', song='Home Is Where (Scavenged Luxury EP)', level='free'),\n",
       " Row(userId='30', firstname='Colin', page='NextSong', song='The Scientist', level='free'),\n",
       " Row(userId='30', firstname='Colin', page='Roll Advert', song=None, level='free'),\n",
       " Row(userId='30', firstname='Colin', page='NextSong', song='Deny Selected', level='free'),\n",
       " Row(userId='30', firstname='Colin', page='Roll Advert', song=None, level='free'),\n",
       " Row(userId='30', firstname='Colin', page='NextSong', song='Late Nights', level='free'),\n",
       " Row(userId='30', firstname='Colin', page='NextSong', song='The Scientist', level='free'),\n",
       " Row(userId='30', firstname='Colin', page='NextSong', song='10%', level='free'),\n",
       " Row(userId='30', firstname='Colin', page='NextSong', song='Beds Are Burning', level='free'),\n",
       " Row(userId='30', firstname='Colin', page='NextSong', song='Relax', level='free'),\n",
       " Row(userId='30', firstname='Colin', page='NextSong', song='Revelry', level='free'),\n",
       " Row(userId='30', firstname='Colin', page='Upgrade', song=None, level='free'),\n",
       " Row(userId='30', firstname='Colin', page='Add Friend', song=None, level='free'),\n",
       " Row(userId='30', firstname='Colin', page='About', song=None, level='free'),\n",
       " Row(userId='30', firstname='Colin', page='NextSong', song=\"Dancin' On The Killing Floor\", level='free'),\n",
       " Row(userId='30', firstname='Colin', page='NextSong', song='Undo', level='free'),\n",
       " Row(userId='30', firstname='Colin', page='NextSong', song='Te Hacen Falta Vitaminas', level='free'),\n",
       " Row(userId='30', firstname='Colin', page='Thumbs Up', song=None, level='free'),\n",
       " Row(userId='30', firstname='Colin', page='NextSong', song='U Smile', level='free'),\n",
       " Row(userId='30', firstname='Colin', page='NextSong', song='Smile', level='free'),\n",
       " Row(userId='30', firstname='Colin', page='NextSong', song='Angels Fall First', level='free'),\n",
       " Row(userId='30', firstname='Colin', page='NextSong', song='Sehr kosmisch', level='free'),\n",
       " Row(userId='30', firstname='Colin', page='Home', song=None, level='free'),\n",
       " Row(userId='30', firstname='Colin', page='NextSong', song='Meeting Daisy', level='free'),\n",
       " Row(userId='30', firstname='Colin', page='NextSong', song='El nazareno', level='free'),\n",
       " Row(userId='30', firstname='Colin', page='Thumbs Up', song=None, level='free'),\n",
       " Row(userId='30', firstname='Colin', page='NextSong', song='Bat Country (Album Version)', level='free'),\n",
       " Row(userId='30', firstname='Colin', page='NextSong', song='Sinisten tÃ\\x83Â¤htien alla', level='free'),\n",
       " Row(userId='30', firstname='Colin', page='NextSong', song='Deadweight On Velveteen', level='free'),\n",
       " Row(userId='30', firstname='Colin', page='NextSong', song='Crank That (Soulja Boy)', level='free'),\n",
       " Row(userId='30', firstname='Colin', page='NextSong', song='Recado Falado (MetrÃ\\x83Â´ Da Saudade)', level='free'),\n",
       " Row(userId='30', firstname='Colin', page='NextSong', song=\"It's OK\", level='free'),\n",
       " Row(userId='30', firstname='Colin', page='NextSong', song=\"Can't Stop This\", level='free'),\n",
       " Row(userId='30', firstname='Colin', page='NextSong', song=\"You're The One\", level='free'),\n",
       " Row(userId='30', firstname='Colin', page='NextSong', song='DONTTRUSTME [BENNYBLANCOREMIX] FEATURINGKIDCUDI (Explicit Bonus Version)', level='free'),\n",
       " Row(userId='30', firstname='Colin', page='NextSong', song='The Grease Mega-Mix', level='free'),\n",
       " Row(userId='30', firstname='Colin', page='NextSong', song='Snuff', level='free'),\n",
       " Row(userId='30', firstname='Colin', page='NextSong', song='Runaway Love', level='free'),\n",
       " Row(userId='30', firstname='Colin', page='NextSong', song='Camera Talk', level='free'),\n",
       " Row(userId='30', firstname='Colin', page='NextSong', song='The Sicilian', level='free'),\n",
       " Row(userId='30', firstname='Colin', page='NextSong', song='Pursuit Of Happiness (nightmare)', level='free'),\n",
       " Row(userId='30', firstname='Colin', page='NextSong', song='Basbhat (Album Version)', level='free'),\n",
       " Row(userId='30', firstname='Colin', page='NextSong', song='The Pretender', level='free'),\n",
       " Row(userId='30', firstname='Colin', page='Roll Advert', song=None, level='free'),\n",
       " Row(userId='30', firstname='Colin', page='Roll Advert', song=None, level='free'),\n",
       " Row(userId='30', firstname='Colin', page='NextSong', song='Movement', level='free'),\n",
       " Row(userId='30', firstname='Colin', page='NextSong', song='Revelry', level='free'),\n",
       " Row(userId='30', firstname='Colin', page='NextSong', song='My Last Serenade', level='free'),\n",
       " Row(userId='30', firstname='Colin', page='NextSong', song='Her Alone', level='free'),\n",
       " Row(userId='30', firstname='Colin', page='NextSong', song='Diva', level='free'),\n",
       " Row(userId='30', firstname='Colin', page='Roll Advert', song=None, level='free'),\n",
       " Row(userId='30', firstname='Colin', page='NextSong', song='Inhuman Creation Station', level='free'),\n",
       " Row(userId='30', firstname='Colin', page='NextSong', song='Monster (Alternate Radio Version)', level='free'),\n",
       " Row(userId='30', firstname='Colin', page='NextSong', song='The Game (Amended Version)', level='free'),\n",
       " Row(userId='30', firstname='Colin', page='NextSong', song='Keep It Simple', level='free'),\n",
       " Row(userId='30', firstname='Colin', page='NextSong', song='No Leaf Clover', level='free'),\n",
       " Row(userId='30', firstname='Colin', page='NextSong', song='Tramazi Parti', level='free'),\n",
       " Row(userId='30', firstname='Colin', page='NextSong', song='My Way (A Mi Manera) (Album Version)', level='free'),\n",
       " Row(userId='30', firstname='Colin', page='NextSong', song='Horrorbeach (Album Version)', level='free'),\n",
       " Row(userId='30', firstname='Colin', page='NextSong', song='Red Light Indicates Doors Are Secured', level='free'),\n",
       " Row(userId='30', firstname='Colin', page='NextSong', song='Girl', level='free'),\n",
       " Row(userId='30', firstname='Colin', page='Upgrade', song=None, level='free'),\n",
       " Row(userId='30', firstname='Colin', page='NextSong', song=\"Don't Worry Be Happy\", level='free'),\n",
       " Row(userId='30', firstname='Colin', page='NextSong', song='Splash', level='free'),\n",
       " Row(userId='30', firstname='Colin', page='NextSong', song='Missing You', level='free'),\n",
       " Row(userId='30', firstname='Colin', page='NextSong', song='Goodbye Is All We Have', level='free'),\n",
       " Row(userId='30', firstname='Colin', page='NextSong', song='Raunioilla', level='free'),\n",
       " Row(userId='30', firstname='Colin', page='NextSong', song='Time/Breathe [Reprise] (Album Version)', level='free'),\n",
       " Row(userId='30', firstname='Colin', page='NextSong', song='Magic Mountain', level='free'),\n",
       " Row(userId='30', firstname='Colin', page='NextSong', song='Take The Box', level='free'),\n",
       " Row(userId='30', firstname='Colin', page='NextSong', song=\"O Ouranos Pano Ap' ton Grammo\", level='free'),\n",
       " Row(userId='30', firstname='Colin', page='Add to Playlist', song=None, level='free'),\n",
       " Row(userId='30', firstname='Colin', page='NextSong', song=\"Boys Don't Cry\", level='free'),\n",
       " Row(userId='30', firstname='Colin', page='Thumbs Down', song=None, level='free'),\n",
       " Row(userId='30', firstname='Colin', page='NextSong', song='Precious Memories (LP Version)', level='free'),\n",
       " Row(userId='30', firstname='Colin', page='Thumbs Up', song=None, level='free'),\n",
       " Row(userId='30', firstname='Colin', page='NextSong', song='Path', level='free'),\n",
       " Row(userId='30', firstname='Colin', page='NextSong', song='The Scientist', level='free'),\n",
       " Row(userId='30', firstname='Colin', page='Logout', song=None, level='free'),\n",
       " Row(userId='30', firstname='Colin', page='Home', song=None, level='free'),\n",
       " Row(userId='30', firstname='Colin', page='NextSong', song='Rock Star', level='free'),\n",
       " Row(userId='30', firstname='Colin', page='NextSong', song='Palm Reader', level='free'),\n",
       " Row(userId='30', firstname='Colin', page='NextSong', song='Para Bellum', level='free'),\n",
       " Row(userId='30', firstname='Colin', page='NextSong', song=\"Maggie's Farm\", level='free'),\n",
       " Row(userId='30', firstname='Colin', page='NextSong', song='Four Winds', level='free'),\n",
       " Row(userId='30', firstname='Colin', page='Roll Advert', song=None, level='free'),\n",
       " Row(userId='30', firstname='Colin', page='NextSong', song='Fight', level='free'),\n",
       " Row(userId='30', firstname='Colin', page='Roll Advert', song=None, level='free'),\n",
       " Row(userId='30', firstname='Colin', page='NextSong', song='Things She Said', level='free'),\n",
       " Row(userId='30', firstname='Colin', page='NextSong', song='Sehr kosmisch', level='free'),\n",
       " Row(userId='30', firstname='Colin', page='NextSong', song='Sin Coro', level='free'),\n",
       " Row(userId='30', firstname='Colin', page='NextSong', song='Not In Love', level='free'),\n",
       " Row(userId='30', firstname='Colin', page='NextSong', song='Miserable Lie', level='free'),\n",
       " Row(userId='30', firstname='Colin', page='NextSong', song='Scooby Snacks (Explicit)', level='free'),\n",
       " Row(userId='30', firstname='Colin', page='NextSong', song='Him', level='free'),\n",
       " Row(userId='30', firstname='Colin', page='NextSong', song='Diary', level='free'),\n",
       " Row(userId='30', firstname='Colin', page='NextSong', song='Opening Up (Ce Soir On Danse)', level='free'),\n",
       " Row(userId='30', firstname='Colin', page='NextSong', song='Guiding Light', level='free'),\n",
       " Row(userId='30', firstname='Colin', page='NextSong', song='La Guerra', level='free'),\n",
       " Row(userId='30', firstname='Colin', page='NextSong', song='Oh Girl', level='free'),\n",
       " Row(userId='30', firstname='Colin', page='NextSong', song=\"Bottle Poppin' (feat. Gorilla Zoe) (Explicit Album Version)\", level='free'),\n",
       " Row(userId='30', firstname='Colin', page='Roll Advert', song=None, level='free'),\n",
       " Row(userId='30', firstname='Colin', page='NextSong', song='Einfeld', level='free'),\n",
       " Row(userId='30', firstname='Colin', page='Logout', song=None, level='free'),\n",
       " Row(userId='30', firstname='Colin', page='Home', song=None, level='free'),\n",
       " Row(userId='30', firstname='Colin', page='NextSong', song=\"I'm With You\", level='free'),\n",
       " Row(userId='30', firstname='Colin', page='Settings', song=None, level='free'),\n",
       " Row(userId='30', firstname='Colin', page='NextSong', song='Machine Gun Man', level='free'),\n",
       " Row(userId='30', firstname='Colin', page='NextSong', song='I Want It All', level='free'),\n",
       " Row(userId='30', firstname='Colin', page='NextSong', song='Straight To The Bank', level='free'),\n",
       " Row(userId='30', firstname='Colin', page='NextSong', song='Rock On', level='free'),\n",
       " Row(userId='30', firstname='Colin', page='NextSong', song='This Is All I Ask (Live)', level='free'),\n",
       " Row(userId='30', firstname='Colin', page='NextSong', song='Woman Tonight', level='free'),\n",
       " Row(userId='30', firstname='Colin', page='NextSong', song='Dialogue', level='free'),\n",
       " Row(userId='30', firstname='Colin', page='NextSong', song='No Child Of Mine', level='free'),\n",
       " Row(userId='30', firstname='Colin', page='Upgrade', song=None, level='free'),\n",
       " Row(userId='30', firstname='Colin', page='Upgrade', song=None, level='free'),\n",
       " Row(userId='30', firstname='Colin', page='NextSong', song='This Is Not America (performed by Juliette Lewis)', level='free'),\n",
       " Row(userId='30', firstname='Colin', page='Thumbs Up', song=None, level='free'),\n",
       " Row(userId='30', firstname='Colin', page='NextSong', song=\"Where's Rexy?\", level='free'),\n",
       " Row(userId='30', firstname='Colin', page='Roll Advert', song=None, level='free'),\n",
       " Row(userId='30', firstname='Colin', page='NextSong', song='Canal Song (End Of Sentence)', level='free'),\n",
       " Row(userId='30', firstname='Colin', page='NextSong', song=\"Witchdoctor's Curse\", level='free'),\n",
       " Row(userId='30', firstname='Colin', page='Help', song=None, level='free'),\n",
       " Row(userId='30', firstname='Colin', page='Home', song=None, level='free'),\n",
       " Row(userId='30', firstname='Colin', page='NextSong', song='Something (Album Version)', level='free'),\n",
       " Row(userId='30', firstname='Colin', page='NextSong', song='Will I See You Again', level='free'),\n",
       " Row(userId='30', firstname='Colin', page='NextSong', song='Two Hands (Plastic Soul Impalement Album Version)', level='free'),\n",
       " Row(userId='30', firstname='Colin', page='NextSong', song='Cut The Rope', level='free'),\n",
       " Row(userId='30', firstname='Colin', page='NextSong', song='A Comet Appears (Album)', level='free'),\n",
       " Row(userId='30', firstname='Colin', page='Thumbs Up', song=None, level='free'),\n",
       " Row(userId='30', firstname='Colin', page='NextSong', song='The Power Of One', level='free'),\n",
       " Row(userId='30', firstname='Colin', page='Roll Advert', song=None, level='free'),\n",
       " Row(userId='30', firstname='Colin', page='NextSong', song='Being Alive', level='free'),\n",
       " Row(userId='30', firstname='Colin', page='NextSong', song='Technologic ( Basement Jaxx Kontrol Mixx )', level='free'),\n",
       " Row(userId='30', firstname='Colin', page='Add Friend', song=None, level='free'),\n",
       " Row(userId='30', firstname='Colin', page='NextSong', song='Back To You', level='free'),\n",
       " Row(userId='30', firstname='Colin', page='NextSong', song='Ironic (Acoustic Album Version)', level='free'),\n",
       " Row(userId='30', firstname='Colin', page='Add to Playlist', song=None, level='free'),\n",
       " Row(userId='30', firstname='Colin', page='NextSong', song='All I Ever Wanted', level='free'),\n",
       " Row(userId='30', firstname='Colin', page='NextSong', song='Better in time', level='free'),\n",
       " Row(userId='30', firstname='Colin', page='Roll Advert', song=None, level='free'),\n",
       " Row(userId='30', firstname='Colin', page='NextSong', song='One Above One', level='free'),\n",
       " Row(userId='30', firstname='Colin', page='NextSong', song='Crank That (Soulja Boy)', level='free'),\n",
       " Row(userId='30', firstname='Colin', page='NextSong', song='Du Hast', level='free'),\n",
       " Row(userId='30', firstname='Colin', page='NextSong', song='Confetti Smile (AO Album Version)', level='free'),\n",
       " Row(userId='30', firstname='Colin', page='NextSong', song='Vem Pra CÃ\\x83Â¡', level='free'),\n",
       " Row(userId='30', firstname='Colin', page='NextSong', song='True Stories', level='free'),\n",
       " Row(userId='30', firstname='Colin', page='NextSong', song='Dr. Feelgood', level='free'),\n",
       " Row(userId='30', firstname='Colin', page='NextSong', song='The Writer', level='free'),\n",
       " Row(userId='30', firstname='Colin', page='NextSong', song='Ass Fucking Murder', level='free'),\n",
       " Row(userId='30', firstname='Colin', page='Home', song=None, level='free'),\n",
       " Row(userId='30', firstname='Colin', page='NextSong', song=\"All Tomorrow's Parties\", level='free'),\n",
       " Row(userId='30', firstname='Colin', page='NextSong', song='Ocean Avenue', level='free'),\n",
       " Row(userId='30', firstname='Colin', page='NextSong', song='Venus', level='free'),\n",
       " Row(userId='30', firstname='Colin', page='Thumbs Up', song=None, level='free'),\n",
       " Row(userId='30', firstname='Colin', page='Add to Playlist', song=None, level='free'),\n",
       " Row(userId='30', firstname='Colin', page='NextSong', song='Learn To Fly', level='free'),\n",
       " Row(userId='30', firstname='Colin', page='NextSong', song='Touchy! (Album Version)', level='free'),\n",
       " Row(userId='30', firstname='Colin', page='NextSong', song='Jude Law and a Semester Abroad', level='free'),\n",
       " Row(userId='30', firstname='Colin', page='NextSong', song='Dream On', level='free'),\n",
       " Row(userId='30', firstname='Colin', page='NextSong', song='Half Asleep', level='free'),\n",
       " Row(userId='30', firstname='Colin', page='NextSong', song='MatinÃ\\x83Â©e', level='free'),\n",
       " Row(userId='30', firstname='Colin', page='NextSong', song='Mysterious Ways', level='free'),\n",
       " Row(userId='30', firstname='Colin', page='NextSong', song='Peaceful', level='free'),\n",
       " Row(userId='30', firstname='Colin', page='NextSong', song='Otherside (Album Version)', level='free'),\n",
       " Row(userId='30', firstname='Colin', page='NextSong', song='Bad Little Woman (LP Version)', level='free'),\n",
       " Row(userId='30', firstname='Colin', page='NextSong', song='Superman', level='free'),\n",
       " Row(userId='30', firstname='Colin', page='NextSong', song='Intro 2/ Kick Out The Jams (LP Version)', level='free'),\n",
       " Row(userId='30', firstname='Colin', page='NextSong', song='Dance Flow', level='free'),\n",
       " Row(userId='30', firstname='Colin', page='NextSong', song='Hey Now Now', level='free'),\n",
       " Row(userId='30', firstname='Colin', page='NextSong', song='Save The Last Dance For Me [Ralphi Rosario Anthomic Vocal]', level='free'),\n",
       " Row(userId='30', firstname='Colin', page='Thumbs Up', song=None, level='free'),\n",
       " Row(userId='30', firstname='Colin', page='NextSong', song='MÃ\\x83Â¡s Papaya', level='free'),\n",
       " Row(userId='30', firstname='Colin', page='NextSong', song='Dialogue Box', level='free'),\n",
       " Row(userId='30', firstname='Colin', page='NextSong', song='The Ex', level='free'),\n",
       " Row(userId='30', firstname='Colin', page='NextSong', song='Crack Under Pressure', level='free'),\n",
       " Row(userId='30', firstname='Colin', page='Add to Playlist', song=None, level='free'),\n",
       " Row(userId='30', firstname='Colin', page='NextSong', song='Odessa', level='free'),\n",
       " Row(userId='30', firstname='Colin', page='NextSong', song='Addicted', level='free'),\n",
       " Row(userId='30', firstname='Colin', page='NextSong', song='DVNO', level='free'),\n",
       " Row(userId='30', firstname='Colin', page='NextSong', song='Bad Luck', level='free'),\n",
       " Row(userId='30', firstname='Colin', page='NextSong', song=\"Rupi's Dance\", level='free'),\n",
       " Row(userId='30', firstname='Colin', page='Home', song=None, level='free'),\n",
       " Row(userId='30', firstname='Colin', page='NextSong', song='Horn Concerto No. 4 in E flat K495: II. Romance (Andante cantabile)', level='free'),\n",
       " Row(userId='30', firstname='Colin', page='NextSong', song='Safety Dance', level='free'),\n",
       " Row(userId='30', firstname='Colin', page='NextSong', song=\"Build God_ Then We'll Talk (Album Version)\", level='free'),\n",
       " Row(userId='30', firstname='Colin', page='NextSong', song='ReprÃ\\x83Â©sente', level='free'),\n",
       " Row(userId='30', firstname='Colin', page='NextSong', song=\"I CAN'T GET STARTED\", level='free'),\n",
       " Row(userId='30', firstname='Colin', page='NextSong', song='What A Wonderful World', level='free'),\n",
       " Row(userId='30', firstname='Colin', page='NextSong', song='Not Like That (Album Version)', level='free'),\n",
       " Row(userId='30', firstname='Colin', page='NextSong', song='So far so long', level='free'),\n",
       " Row(userId='30', firstname='Colin', page='NextSong', song='En El Septimo Dia', level='free'),\n",
       " Row(userId='30', firstname='Colin', page='NextSong', song='Let Down', level='free'),\n",
       " Row(userId='30', firstname='Colin', page='NextSong', song='Pon De Floor', level='free'),\n",
       " Row(userId='30', firstname='Colin', page='Upgrade', song=None, level='free'),\n",
       " Row(userId='30', firstname='Colin', page='NextSong', song='Hotel', level='free'),\n",
       " Row(userId='30', firstname='Colin', page='Roll Advert', song=None, level='free'),\n",
       " Row(userId='30', firstname='Colin', page='NextSong', song='Gestern_Morgen', level='free'),\n",
       " Row(userId='30', firstname='Colin', page='NextSong', song='Show', level='free'),\n",
       " Row(userId='30', firstname='Colin', page='NextSong', song='Jasey Rae', level='free'),\n",
       " Row(userId='30', firstname='Colin', page='Home', song=None, level='free'),\n",
       " Row(userId='30', firstname='Colin', page='Add Friend', song=None, level='free'),\n",
       " Row(userId='30', firstname='Colin', page='Add Friend', song=None, level='free'),\n",
       " Row(userId='30', firstname='Colin', page='NextSong', song='Sooner or Later', level='free'),\n",
       " Row(userId='30', firstname='Colin', page='NextSong', song='Good Soldier', level='free'),\n",
       " Row(userId='30', firstname='Colin', page='Home', song=None, level='free'),\n",
       " Row(userId='30', firstname='Colin', page='NextSong', song='Soul Suckers', level='free'),\n",
       " Row(userId='30', firstname='Colin', page='Add to Playlist', song=None, level='free'),\n",
       " Row(userId='30', firstname='Colin', page='NextSong', song='Seed (Album Version)', level='free'),\n",
       " Row(userId='30', firstname='Colin', page='NextSong', song=\"Day 'N' Nite\", level='free'),\n",
       " Row(userId='30', firstname='Colin', page='NextSong', song='Climbing A Hill', level='free'),\n",
       " Row(userId='30', firstname='Colin', page='Home', song=None, level='free'),\n",
       " Row(userId='30', firstname='Colin', page='NextSong', song='Ode To My Family', level='free'),\n",
       " Row(userId='30', firstname='Colin', page='NextSong', song='Live And Let Die', level='free'),\n",
       " Row(userId='30', firstname='Colin', page='NextSong', song=\"Livin' On A Prayer\", level='free'),\n",
       " Row(userId='30', firstname='Colin', page='NextSong', song='Good Morning Little School Girl', level='free'),\n",
       " Row(userId='30', firstname='Colin', page='NextSong', song=\"Stayin' Alive\", level='free'),\n",
       " Row(userId='30', firstname='Colin', page='NextSong', song='Two As One', level='free'),\n",
       " Row(userId='30', firstname='Colin', page='Add Friend', song=None, level='free'),\n",
       " Row(userId='30', firstname='Colin', page='NextSong', song='Big Uncle Ugliness', level='free'),\n",
       " Row(userId='30', firstname='Colin', page='NextSong', song='Prelude', level='free'),\n",
       " Row(userId='30', firstname='Colin', page='Upgrade', song=None, level='free'),\n",
       " Row(userId='30', firstname='Colin', page='NextSong', song='Transparency', level='free'),\n",
       " Row(userId='30', firstname='Colin', page='Roll Advert', song=None, level='free'),\n",
       " Row(userId='30', firstname='Colin', page='NextSong', song='Behind Closed Doors', level='free'),\n",
       " Row(userId='30', firstname='Colin', page='NextSong', song='Sample Track 2', level='free'),\n",
       " Row(userId='30', firstname='Colin', page='Roll Advert', song=None, level='free'),\n",
       " Row(userId='30', firstname='Colin', page='NextSong', song='La Lluvia Gris', level='free'),\n",
       " Row(userId='30', firstname='Colin', page='NextSong', song='Stream', level='free'),\n",
       " Row(userId='30', firstname='Colin', page='Logout', song=None, level='free'),\n",
       " Row(userId='30', firstname='Colin', page='Home', song=None, level='free'),\n",
       " Row(userId='30', firstname='Colin', page='NextSong', song='Three Simple Words', level='free'),\n",
       " Row(userId='30', firstname='Colin', page='NextSong', song='Fortunate Son (Live)', level='free'),\n",
       " Row(userId='30', firstname='Colin', page='NextSong', song='Yeah!', level='free'),\n",
       " Row(userId='30', firstname='Colin', page='NextSong', song='Mamma', level='free'),\n",
       " Row(userId='30', firstname='Colin', page='NextSong', song='Venice Industry', level='free'),\n",
       " Row(userId='30', firstname='Colin', page='NextSong', song='Nah!', level='free'),\n",
       " Row(userId='30', firstname='Colin', page='Thumbs Down', song=None, level='free'),\n",
       " Row(userId='30', firstname='Colin', page='NextSong', song='ReprÃ\\x83Â©sente', level='free'),\n",
       " Row(userId='30', firstname='Colin', page='NextSong', song='Jiguen', level='free'),\n",
       " Row(userId='30', firstname='Colin', page='NextSong', song='Ba Ba', level='free'),\n",
       " Row(userId='30', firstname='Colin', page='NextSong', song='Superballs', level='free'),\n",
       " Row(userId='30', firstname='Colin', page='NextSong', song='Horn Concerto No. 4 in E flat K495: II. Romance (Andante cantabile)', level='free'),\n",
       " Row(userId='30', firstname='Colin', page='Add to Playlist', song=None, level='free'),\n",
       " Row(userId='30', firstname='Colin', page='NextSong', song=\"You're The One\", level='free'),\n",
       " Row(userId='30', firstname='Colin', page='NextSong', song='Heartbeats', level='free'),\n",
       " Row(userId='30', firstname='Colin', page='NextSong', song='Otherside (Album Version)', level='free'),\n",
       " Row(userId='30', firstname='Colin', page='NextSong', song='Rio', level='free'),\n",
       " Row(userId='30', firstname='Colin', page='Roll Advert', song=None, level='free'),\n",
       " Row(userId='30', firstname='Colin', page='NextSong', song='Plush (LP Version)', level='free'),\n",
       " Row(userId='30', firstname='Colin', page='NextSong', song='First Of The Gang', level='free'),\n",
       " Row(userId='30', firstname='Colin', page='NextSong', song='Me And Armini', level='free'),\n",
       " Row(userId='30', firstname='Colin', page='NextSong', song='Traveller', level='free'),\n",
       " Row(userId='30', firstname='Colin', page='NextSong', song='Sweet Carrie', level='free'),\n",
       " Row(userId='30', firstname='Colin', page='Thumbs Up', song=None, level='free'),\n",
       " Row(userId='30', firstname='Colin', page='NextSong', song='Sick_ Sick_ Sick', level='free'),\n",
       " Row(userId='30', firstname='Colin', page='NextSong', song='The Blast', level='free'),\n",
       " Row(userId='30', firstname='Colin', page='NextSong', song='Beautiful Stranger', level='free'),\n",
       " Row(userId='30', firstname='Colin', page='NextSong', song='No Milk Today', level='free'),\n",
       " Row(userId='30', firstname='Colin', page='NextSong', song='Repression Song', level='free'),\n",
       " Row(userId='30', firstname='Colin', page='NextSong', song='Non E_ Per Te_ Per Me', level='free'),\n",
       " Row(userId='30', firstname='Colin', page='NextSong', song=\"What's The Difference\", level='free'),\n",
       " Row(userId='30', firstname='Colin', page='NextSong', song='Restless', level='free'),\n",
       " Row(userId='30', firstname='Colin', page='NextSong', song='Horn Concerto No. 4 in E flat K495: II. Romance (Andante cantabile)', level='free'),\n",
       " Row(userId='30', firstname='Colin', page='NextSong', song='Teardrop', level='free'),\n",
       " Row(userId='30', firstname='Colin', page='NextSong', song='Seven', level='free'),\n",
       " Row(userId='30', firstname='Colin', page='NextSong', song='Gone In The Morning', level='free'),\n",
       " Row(userId='30', firstname='Colin', page='NextSong', song='Baby_ This Love I Have', level='free'),\n",
       " Row(userId='30', firstname='Colin', page='NextSong', song='Me Da Miedo', level='free'),\n",
       " Row(userId='30', firstname='Colin', page='NextSong', song='I Can See Clearly Now', level='free'),\n",
       " Row(userId='30', firstname='Colin', page='NextSong', song='Nemo', level='free'),\n",
       " Row(userId='30', firstname='Colin', page='NextSong', song='Choctaw Hayride', level='free'),\n",
       " Row(userId='30', firstname='Colin', page='NextSong', song='The Real Slim Shady', level='free'),\n",
       " Row(userId='30', firstname='Colin', page='NextSong', song='Silence', level='free'),\n",
       " Row(userId='30', firstname='Colin', page='NextSong', song='Snake', level='free'),\n",
       " Row(userId='30', firstname='Colin', page='About', song=None, level='free'),\n",
       " Row(userId='30', firstname='Colin', page='NextSong', song='Your Hand In Mine', level='free'),\n",
       " Row(userId='30', firstname='Colin', page='Logout', song=None, level='free'),\n",
       " Row(userId='30', firstname='Colin', page='Home', song=None, level='free'),\n",
       " Row(userId='30', firstname='Colin', page='NextSong', song='Marry Me', level='free'),\n",
       " Row(userId='30', firstname='Colin', page='Thumbs Up', song=None, level='free'),\n",
       " Row(userId='30', firstname='Colin', page='NextSong', song='Undo', level='free'),\n",
       " Row(userId='30', firstname='Colin', page='Upgrade', song=None, level='free'),\n",
       " Row(userId='30', firstname='Colin', page='NextSong', song='Use Somebody', level='free'),\n",
       " Row(userId='30', firstname='Colin', page='NextSong', song=\"Can't You See\", level='free'),\n",
       " Row(userId='30', firstname='Colin', page='NextSong', song='Skinny Love', level='free'),\n",
       " Row(userId='30', firstname='Colin', page='NextSong', song='All We Ever Do Is Say Goodbye', level='free'),\n",
       " Row(userId='30', firstname='Colin', page='NextSong', song='Amanecer', level='free'),\n",
       " Row(userId='30', firstname='Colin', page='Roll Advert', song=None, level='free'),\n",
       " Row(userId='30', firstname='Colin', page='NextSong', song='Starry Night', level='free'),\n",
       " Row(userId='30', firstname='Colin', page='NextSong', song='Unwell (Album Version)', level='free'),\n",
       " Row(userId='30', firstname='Colin', page='NextSong', song='West One (Shine On Me)', level='free'),\n",
       " Row(userId='30', firstname='Colin', page='Roll Advert', song=None, level='free'),\n",
       " Row(userId='30', firstname='Colin', page='NextSong', song='Ironic (Acoustic Album Version)', level='free'),\n",
       " Row(userId='30', firstname='Colin', page='NextSong', song=\"You've Got The Love\", level='free'),\n",
       " Row(userId='30', firstname='Colin', page='Roll Advert', song=None, level='free'),\n",
       " Row(userId='30', firstname='Colin', page='NextSong', song='Innocence', level='free'),\n",
       " Row(userId='30', firstname='Colin', page='NextSong', song='Las flores', level='free'),\n",
       " Row(userId='30', firstname='Colin', page='NextSong', song='Longhaired Redneck', level='free'),\n",
       " Row(userId='30', firstname='Colin', page='Home', song=None, level='free'),\n",
       " Row(userId='30', firstname='Colin', page='NextSong', song=\"Don't Come Around Here No More\", level='free'),\n",
       " Row(userId='30', firstname='Colin', page='NextSong', song='Love Story', level='free'),\n",
       " Row(userId='30', firstname='Colin', page='Roll Advert', song=None, level='free'),\n",
       " Row(userId='30', firstname='Colin', page='NextSong', song='The Message', level='free'),\n",
       " Row(userId='30', firstname='Colin', page='NextSong', song='Beautiful Stranger', level='free'),\n",
       " Row(userId='30', firstname='Colin', page='NextSong', song='White Noise', level='free'),\n",
       " Row(userId='30', firstname='Colin', page='NextSong', song='Home', level='free'),\n",
       " Row(userId='30', firstname='Colin', page='NextSong', song='Cry Baby', level='free'),\n",
       " Row(userId='30', firstname='Colin', page='NextSong', song='Vals fÃ\\x83Â¶r satan (din vÃ\\x83Â¤n pessimisten)', level='free'),\n",
       " Row(userId='30', firstname='Colin', page='NextSong', song='If She Wants Me', level='free'),\n",
       " Row(userId='30', firstname='Colin', page='NextSong', song='Behind The Sea [Live In Chicago]', level='free'),\n",
       " Row(userId='30', firstname='Colin', page='NextSong', song='Complex Person', level='free'),\n",
       " Row(userId='30', firstname='Colin', page='NextSong', song='Better', level='free'),\n",
       " Row(userId='30', firstname='Colin', page='NextSong', song='Hallelujah (Album Version)', level='free'),\n",
       " Row(userId='30', firstname='Colin', page='NextSong', song='You Girl', level='free'),\n",
       " Row(userId='30', firstname='Colin', page='NextSong', song='No BalanÃ\\x83Â§o Da Canoa', level='free'),\n",
       " Row(userId='30', firstname='Colin', page='Add to Playlist', song=None, level='free'),\n",
       " Row(userId='30', firstname='Colin', page='NextSong', song='The Drive System (Demo)', level='free'),\n",
       " Row(userId='30', firstname='Colin', page='NextSong', song='Kick It Up', level='free'),\n",
       " Row(userId='30', firstname='Colin', page='NextSong', song='Bombtrack', level='free'),\n",
       " Row(userId='30', firstname='Colin', page='Home', song=None, level='free'),\n",
       " Row(userId='30', firstname='Colin', page='Add Friend', song=None, level='free'),\n",
       " Row(userId='30', firstname='Colin', page='NextSong', song=\"I'm With You\", level='free'),\n",
       " Row(userId='30', firstname='Colin', page='Thumbs Up', song=None, level='free'),\n",
       " Row(userId='30', firstname='Colin', page='NextSong', song='Pills', level='free'),\n",
       " Row(userId='30', firstname='Colin', page='NextSong', song='The Seed (2.0)', level='free'),\n",
       " Row(userId='30', firstname='Colin', page='NextSong', song='The Count (aka HervÃ\\x83Â©) And Lily Face The Fear', level='free'),\n",
       " Row(userId='30', firstname='Colin', page='Thumbs Up', song=None, level='free'),\n",
       " Row(userId='30', firstname='Colin', page='NextSong', song=\"Don't Dream It's Over\", level='free'),\n",
       " Row(userId='30', firstname='Colin', page='NextSong', song='The Alliance Of Hellhoundz', level='free'),\n",
       " Row(userId='30', firstname='Colin', page='NextSong', song='What If I Stumble?', level='free'),\n",
       " Row(userId='30', firstname='Colin', page='NextSong', song=\"I'll Be There For You\", level='free'),\n",
       " Row(userId='30', firstname='Colin', page='NextSong', song='Somebody To Love', level='free'),\n",
       " Row(userId='30', firstname='Colin', page='NextSong', song='Use Somebody', level='free'),\n",
       " Row(userId='30', firstname='Colin', page='NextSong', song='Too Much To Ask', level='free'),\n",
       " Row(userId='30', firstname='Colin', page='Add to Playlist', song=None, level='free'),\n",
       " Row(userId='30', firstname='Colin', page='NextSong', song='Gears', level='free'),\n",
       " Row(userId='30', firstname='Colin', page='NextSong', song='Dog Days Are Over (Radio Edit)', level='free'),\n",
       " Row(userId='30', firstname='Colin', page='NextSong', song=\"Dreamin'\", level='free'),\n",
       " Row(userId='30', firstname='Colin', page='NextSong', song='Inside The Fire (Album Version)', level='free'),\n",
       " Row(userId='30', firstname='Colin', page='Roll Advert', song=None, level='free'),\n",
       " Row(userId='30', firstname='Colin', page='Roll Advert', song=None, level='free'),\n",
       " Row(userId='30', firstname='Colin', page='NextSong', song='Fakty', level='free'),\n",
       " Row(userId='30', firstname='Colin', page='NextSong', song='Jambalaya', level='free'),\n",
       " Row(userId='30', firstname='Colin', page='Upgrade', song=None, level='free'),\n",
       " Row(userId='30', firstname='Colin', page='NextSong', song='The Shadowlands', level='free'),\n",
       " Row(userId='30', firstname='Colin', page='Logout', song=None, level='free'),\n",
       " Row(userId='30', firstname='Colin', page='Home', song=None, level='free'),\n",
       " Row(userId='30', firstname='Colin', page='NextSong', song='The Invisible Man', level='free'),\n",
       " Row(userId='30', firstname='Colin', page='NextSong', song='Firecracker', level='free'),\n",
       " Row(userId='30', firstname='Colin', page='NextSong', song='Bleed It Out [Live At Milton Keynes]', level='free'),\n",
       " Row(userId='30', firstname='Colin', page='NextSong', song='Miralo', level='free'),\n",
       " Row(userId='30', firstname='Colin', page='NextSong', song='ReprÃ\\x83Â©sente', level='free'),\n",
       " Row(userId='30', firstname='Colin', page='NextSong', song='Silencio', level='free'),\n",
       " Row(userId='30', firstname='Colin', page='Roll Advert', song=None, level='free'),\n",
       " Row(userId='30', firstname='Colin', page='NextSong', song='Momma Cried', level='free'),\n",
       " Row(userId='30', firstname='Colin', page='Roll Advert', song=None, level='free'),\n",
       " Row(userId='30', firstname='Colin', page='NextSong', song='La Vida Es Un Ratico', level='free'),\n",
       " Row(userId='30', firstname='Colin', page='Thumbs Down', song=None, level='free'),\n",
       " Row(userId='30', firstname='Colin', page='NextSong', song='Cape Cod Kwassa Kwassa (Album)', level='free'),\n",
       " Row(userId='30', firstname='Colin', page='NextSong', song='Write You A Song', level='free'),\n",
       " Row(userId='30', firstname='Colin', page='NextSong', song='Elijah', level='free'),\n",
       " Row(userId='30', firstname='Colin', page='NextSong', song='Fireflies', level='free'),\n",
       " Row(userId='30', firstname='Colin', page='Thumbs Up', song=None, level='free'),\n",
       " Row(userId='30', firstname='Colin', page='NextSong', song=\"You Don't Have Far To Go\", level='free'),\n",
       " Row(userId='30', firstname='Colin', page='NextSong', song='One by One', level='free'),\n",
       " Row(userId='30', firstname='Colin', page='NextSong', song='Wasted', level='free'),\n",
       " Row(userId='30', firstname='Colin', page='NextSong', song='Me Voy', level='free'),\n",
       " Row(userId='30', firstname='Colin', page='NextSong', song='Dear God (Album Version)', level='free'),\n",
       " Row(userId='30', firstname='Colin', page='NextSong', song='Die Hard', level='free'),\n",
       " Row(userId='30', firstname='Colin', page='Thumbs Up', song=None, level='free'),\n",
       " Row(userId='30', firstname='Colin', page='NextSong', song='When The Stars Go Blue (Featuring Bono) (Disclab Remix)', level='free'),\n",
       " Row(userId='30', firstname='Colin', page='NextSong', song='What Can I Give You This Christmas?', level='free'),\n",
       " ...]"
      ]
     },
     "execution_count": 103,
     "metadata": {},
     "output_type": "execute_result"
    }
   ],
   "source": [
    "events.select([\"userId\", \"firstname\", \"page\", \"song\", \"level\"]).where(events.userId == \"30\").collect()"
   ]
  },
  {
   "cell_type": "code",
   "execution_count": 18,
   "metadata": {},
   "outputs": [
    {
     "name": "stdout",
     "output_type": "stream",
     "text": [
      "+--------------------+-----+\n",
      "|                page|churn|\n",
      "+--------------------+-----+\n",
      "|Cancellation Conf...|    1|\n",
      "|Cancellation Conf...|    1|\n",
      "|Cancellation Conf...|    1|\n",
      "|Cancellation Conf...|    1|\n",
      "|Cancellation Conf...|    1|\n",
      "|Cancellation Conf...|    1|\n",
      "|Cancellation Conf...|    1|\n",
      "|Cancellation Conf...|    1|\n",
      "|Cancellation Conf...|    1|\n",
      "|Cancellation Conf...|    1|\n",
      "|Cancellation Conf...|    1|\n",
      "|Cancellation Conf...|    1|\n",
      "|Cancellation Conf...|    1|\n",
      "|Cancellation Conf...|    1|\n",
      "|Cancellation Conf...|    1|\n",
      "|Cancellation Conf...|    1|\n",
      "|Cancellation Conf...|    1|\n",
      "|Cancellation Conf...|    1|\n",
      "|Cancellation Conf...|    1|\n",
      "|Cancellation Conf...|    1|\n",
      "+--------------------+-----+\n",
      "only showing top 20 rows\n",
      "\n"
     ]
    }
   ],
   "source": [
    "# add a column \"churn\" to the dataframe indicating that a cancellation was confirmed\n",
    "find_churn = udf(lambda x: 1 if x == \"Cancellation Confirmation\" else 0, IntegerType())\n",
    "events = events.withColumn(\"churn\", find_churn(events.page))\n",
    "events.select(\"page\", \"churn\").where(events.churn == 1).show()"
   ]
  },
  {
   "cell_type": "code",
   "execution_count": 20,
   "metadata": {},
   "outputs": [
    {
     "name": "stdout",
     "output_type": "stream",
     "text": [
      "+------+\n",
      "|userId|\n",
      "+------+\n",
      "|      |\n",
      "|    10|\n",
      "|   100|\n",
      "|100001|\n",
      "|100002|\n",
      "|100003|\n",
      "|100004|\n",
      "|100005|\n",
      "|100006|\n",
      "|100007|\n",
      "|100008|\n",
      "|100009|\n",
      "|100010|\n",
      "|100011|\n",
      "|100012|\n",
      "|100013|\n",
      "|100014|\n",
      "|100015|\n",
      "|100016|\n",
      "|100017|\n",
      "+------+\n",
      "only showing top 20 rows\n",
      "\n"
     ]
    }
   ],
   "source": [
    "events.select(\"userId\").dropDuplicates().sort(\"userId\").show()"
   ]
  },
  {
   "cell_type": "code",
   "execution_count": 21,
   "metadata": {},
   "outputs": [
    {
     "name": "stdout",
     "output_type": "stream",
     "text": [
      "Number of total events: 286500; number of valid events 278154\n"
     ]
    }
   ],
   "source": [
    "# events where a userId is an empty string are not valid, remove these\n",
    "valid_events = events.where(col(\"userId\") != \"\")\n",
    "print(\"Number of total events: {}; number of valid events {}\".format(events.count(), valid_events.count()))"
   ]
  },
  {
   "cell_type": "code",
   "execution_count": 23,
   "metadata": {},
   "outputs": [
    {
     "data": {
      "text/plain": [
       "[Row(page='About'),\n",
       " Row(page='Add Friend'),\n",
       " Row(page='Add to Playlist'),\n",
       " Row(page='Cancel'),\n",
       " Row(page='Cancellation Confirmation'),\n",
       " Row(page='Downgrade'),\n",
       " Row(page='Error'),\n",
       " Row(page='Help'),\n",
       " Row(page='Home'),\n",
       " Row(page='Login'),\n",
       " Row(page='Logout'),\n",
       " Row(page='NextSong'),\n",
       " Row(page='Register'),\n",
       " Row(page='Roll Advert'),\n",
       " Row(page='Save Settings'),\n",
       " Row(page='Settings'),\n",
       " Row(page='Submit Downgrade'),\n",
       " Row(page='Submit Registration'),\n",
       " Row(page='Submit Upgrade'),\n",
       " Row(page='Thumbs Down'),\n",
       " Row(page='Thumbs Up'),\n",
       " Row(page='Upgrade')]"
      ]
     },
     "execution_count": 23,
     "metadata": {},
     "output_type": "execute_result"
    }
   ],
   "source": [
    "valid_events.select(\"page\").dropDuplicates().sort(\"page\").collect()"
   ]
  },
  {
   "cell_type": "code",
   "execution_count": 25,
   "metadata": {},
   "outputs": [
    {
     "data": {
      "text/plain": [
       "[Row(gender='F'), Row(gender='M')]"
      ]
     },
     "execution_count": 25,
     "metadata": {},
     "output_type": "execute_result"
    }
   ],
   "source": [
    "valid_events.select(\"gender\").dropDuplicates().sort(\"gender\").collect()"
   ]
  },
  {
   "cell_type": "code",
   "execution_count": 26,
   "metadata": {},
   "outputs": [
    {
     "data": {
      "text/plain": [
       "[Row(level='free'), Row(level='paid')]"
      ]
     },
     "execution_count": 26,
     "metadata": {},
     "output_type": "execute_result"
    }
   ],
   "source": [
    "valid_events.select(\"level\").dropDuplicates().sort(\"level\").collect()"
   ]
  },
  {
   "cell_type": "code",
   "execution_count": 30,
   "metadata": {},
   "outputs": [
    {
     "name": "stdout",
     "output_type": "stream",
     "text": [
      "+-------------------+\n",
      "|  registration_date|\n",
      "+-------------------+\n",
      "|2018-09-29 00:22:42|\n",
      "|2018-09-30 20:20:30|\n",
      "|2018-09-29 00:22:42|\n",
      "|2018-09-30 20:20:30|\n",
      "|2018-09-29 00:22:42|\n",
      "|2018-09-30 20:20:30|\n",
      "|2018-09-30 20:20:30|\n",
      "|2018-09-29 00:22:42|\n",
      "|2018-09-29 00:22:42|\n",
      "|2018-09-29 00:22:42|\n",
      "|2018-09-30 20:20:30|\n",
      "|2018-09-30 20:20:30|\n",
      "|2018-09-29 00:22:42|\n",
      "|2018-09-30 20:20:30|\n",
      "|2018-09-30 20:20:30|\n",
      "|2018-09-29 00:22:42|\n",
      "|2018-09-30 20:20:30|\n",
      "|2018-09-19 15:53:39|\n",
      "|2018-09-29 00:22:42|\n",
      "|2018-09-30 20:20:30|\n",
      "+-------------------+\n",
      "only showing top 20 rows\n",
      "\n"
     ]
    }
   ],
   "source": [
    "get_date = udf(lambda x: datetime.datetime.fromtimestamp(x / 1000.0), TimestampType())\n",
    "valid_events = valid_events.withColumn(\"registration_date\", get_date(col(\"registration\")))\n",
    "valid_events.select(\"registration_date\").show()"
   ]
  },
  {
   "cell_type": "code",
   "execution_count": 104,
   "metadata": {},
   "outputs": [
    {
     "name": "stdout",
     "output_type": "stream",
     "text": [
      "+-------------------+\n",
      "|           log_date|\n",
      "+-------------------+\n",
      "|2018-10-01 02:01:57|\n",
      "|2018-10-01 02:03:00|\n",
      "|2018-10-01 02:06:34|\n",
      "|2018-10-01 02:06:56|\n",
      "|2018-10-01 02:11:16|\n",
      "|2018-10-01 02:11:18|\n",
      "|2018-10-01 02:14:46|\n",
      "|2018-10-01 02:14:59|\n",
      "|2018-10-01 02:15:05|\n",
      "|2018-10-01 02:18:04|\n",
      "|2018-10-01 02:19:06|\n",
      "|2018-10-01 02:19:10|\n",
      "|2018-10-01 02:20:18|\n",
      "|2018-10-01 02:22:55|\n",
      "|2018-10-01 02:22:56|\n",
      "|2018-10-01 02:24:01|\n",
      "|2018-10-01 02:26:16|\n",
      "|2018-10-01 02:27:48|\n",
      "|2018-10-01 02:28:07|\n",
      "|2018-10-01 02:29:04|\n",
      "+-------------------+\n",
      "only showing top 20 rows\n",
      "\n"
     ]
    }
   ],
   "source": [
    "valid_events = valid_events.withColumn(\"log_date\", get_date(col(\"ts\")))\n",
    "valid_events.select(\"log_date\").show()"
   ]
  },
  {
   "cell_type": "code",
   "execution_count": 128,
   "metadata": {},
   "outputs": [
    {
     "name": "stdout",
     "output_type": "stream",
     "text": [
      "+-------------------+\n",
      "|           log_date|\n",
      "+-------------------+\n",
      "|2018-12-03 02:11:16|\n",
      "|2018-12-01 01:02:59|\n",
      "|2018-12-01 01:00:32|\n",
      "|2018-12-01 01:00:11|\n",
      "|2018-12-01 00:59:58|\n",
      "|2018-12-01 00:59:55|\n",
      "|2018-12-01 00:59:25|\n",
      "|2018-12-01 00:59:15|\n",
      "|2018-12-01 00:58:40|\n",
      "|2018-12-01 00:58:07|\n",
      "|2018-12-01 00:58:02|\n",
      "|2018-12-01 00:57:28|\n",
      "|2018-12-01 00:56:33|\n",
      "|2018-12-01 00:56:13|\n",
      "|2018-12-01 00:56:04|\n",
      "|2018-12-01 00:55:22|\n",
      "|2018-12-01 00:55:21|\n",
      "|2018-12-01 00:54:53|\n",
      "|2018-12-01 00:54:46|\n",
      "|2018-12-01 00:54:12|\n",
      "+-------------------+\n",
      "only showing top 20 rows\n",
      "\n"
     ]
    }
   ],
   "source": [
    "valid_events.sort(\"log_date\", ascending=False).select(\"log_date\").show()"
   ]
  },
  {
   "cell_type": "code",
   "execution_count": 24,
   "metadata": {},
   "outputs": [
    {
     "name": "stdout",
     "output_type": "stream",
     "text": [
      "root\n",
      " |-- artist: string (nullable = true)\n",
      " |-- auth: string (nullable = true)\n",
      " |-- firstName: string (nullable = true)\n",
      " |-- gender: string (nullable = true)\n",
      " |-- itemInSession: long (nullable = true)\n",
      " |-- lastName: string (nullable = true)\n",
      " |-- length: double (nullable = true)\n",
      " |-- level: string (nullable = true)\n",
      " |-- location: string (nullable = true)\n",
      " |-- method: string (nullable = true)\n",
      " |-- page: string (nullable = true)\n",
      " |-- registration: long (nullable = true)\n",
      " |-- sessionId: long (nullable = true)\n",
      " |-- song: string (nullable = true)\n",
      " |-- status: long (nullable = true)\n",
      " |-- ts: long (nullable = true)\n",
      " |-- userAgent: string (nullable = true)\n",
      " |-- userId: string (nullable = true)\n",
      " |-- churn: integer (nullable = true)\n",
      "\n"
     ]
    }
   ],
   "source": [
    "valid_events.printSchema()"
   ]
  },
  {
   "cell_type": "code",
   "execution_count": 31,
   "metadata": {},
   "outputs": [
    {
     "data": {
      "text/plain": [
       "[Row(status=200), Row(status=307), Row(status=404)]"
      ]
     },
     "execution_count": 31,
     "metadata": {},
     "output_type": "execute_result"
    }
   ],
   "source": [
    "valid_events.select(\"status\").dropDuplicates().sort(\"status\").collect()"
   ]
  },
  {
   "cell_type": "code",
   "execution_count": 39,
   "metadata": {},
   "outputs": [
    {
     "data": {
      "text/plain": [
       "[Row(artist=None, auth='Logged In', firstName='Micah', gender='M', itemInSession=86, lastName='Long', length=None, level='free', location='Boston-Cambridge-Newton, MA-NH', method='PUT', page='Thumbs Up', registration=1538331630000, sessionId=8, song=None, status=307, ts=1538353376000, userAgent='\"Mozilla/5.0 (Windows NT 6.1; WOW64) AppleWebKit/537.36 (KHTML, like Gecko) Chrome/37.0.2062.103 Safari/537.36\"', userId='9', churn=0, registration_date=datetime.datetime(2018, 9, 30, 20, 20, 30)),\n",
       " Row(artist=None, auth='Logged In', firstName='Alexi', gender='F', itemInSession=7, lastName='Warren', length=None, level='paid', location='Spokane-Spokane Valley, WA', method='PUT', page='Thumbs Up', registration=1532482662000, sessionId=53, song=None, status=307, ts=1538355255000, userAgent='Mozilla/5.0 (Windows NT 6.1; WOW64; rv:32.0) Gecko/20100101 Firefox/32.0', userId='54', churn=0, registration_date=datetime.datetime(2018, 7, 25, 3, 37, 42)),\n",
       " Row(artist=None, auth='Logged In', firstName='Micah', gender='M', itemInSession=95, lastName='Long', length=None, level='free', location='Boston-Cambridge-Newton, MA-NH', method='PUT', page='Thumbs Down', registration=1538331630000, sessionId=8, song=None, status=307, ts=1538355306000, userAgent='\"Mozilla/5.0 (Windows NT 6.1; WOW64) AppleWebKit/537.36 (KHTML, like Gecko) Chrome/37.0.2062.103 Safari/537.36\"', userId='9', churn=0, registration_date=datetime.datetime(2018, 9, 30, 20, 20, 30)),\n",
       " Row(artist=None, auth='Logged In', firstName='Micah', gender='M', itemInSession=99, lastName='Long', length=None, level='free', location='Boston-Cambridge-Newton, MA-NH', method='PUT', page='Logout', registration=1538331630000, sessionId=8, song=None, status=307, ts=1538355687000, userAgent='\"Mozilla/5.0 (Windows NT 6.1; WOW64) AppleWebKit/537.36 (KHTML, like Gecko) Chrome/37.0.2062.103 Safari/537.36\"', userId='9', churn=0, registration_date=datetime.datetime(2018, 9, 30, 20, 20, 30)),\n",
       " Row(artist=None, auth='Logged In', firstName='Ashlynn', gender='F', itemInSession=9, lastName='Williams', length=None, level='free', location='Tallahassee, FL', method='PUT', page='Thumbs Up', registration=1537365219000, sessionId=217, song=None, status=307, ts=1538355711000, userAgent='\"Mozilla/5.0 (Macintosh; Intel Mac OS X 10_9_4) AppleWebKit/537.36 (KHTML, like Gecko) Chrome/37.0.2062.94 Safari/537.36\"', userId='74', churn=0, registration_date=datetime.datetime(2018, 9, 19, 15, 53, 39))]"
      ]
     },
     "execution_count": 39,
     "metadata": {},
     "output_type": "execute_result"
    }
   ],
   "source": [
    "valid_events.where(col(\"status\").isin([307, 404])).take(5)"
   ]
  },
  {
   "cell_type": "code",
   "execution_count": 41,
   "metadata": {},
   "outputs": [
    {
     "data": {
      "text/plain": [
       "23436"
      ]
     },
     "execution_count": 41,
     "metadata": {},
     "output_type": "execute_result"
    }
   ],
   "source": [
    "valid_events.where(col(\"status\").isin([307, 404])).count() # events with an error "
   ]
  },
  {
   "cell_type": "markdown",
   "metadata": {},
   "source": [
    "## Errors\n",
    "There are event logs with the status 307 and 404. 404 is definetly an error, what about 307?"
   ]
  },
  {
   "cell_type": "code",
   "execution_count": 46,
   "metadata": {},
   "outputs": [
    {
     "name": "stdout",
     "output_type": "stream",
     "text": [
      "+--------+\n",
      "|  length|\n",
      "+--------+\n",
      "|    null|\n",
      "| 0.78322|\n",
      "| 2.16771|\n",
      "| 4.04853|\n",
      "|  4.8322|\n",
      "|  6.3473|\n",
      "| 7.83628|\n",
      "| 8.30649|\n",
      "| 9.01179|\n",
      "|10.03057|\n",
      "|10.52689|\n",
      "|11.20608|\n",
      "|11.25832|\n",
      "|11.36281|\n",
      "|11.49342|\n",
      "|11.54567|\n",
      "|11.93751|\n",
      "|11.98975|\n",
      "|12.22485|\n",
      "|12.30322|\n",
      "|12.43383|\n",
      "|12.64281|\n",
      "|12.66893|\n",
      "|12.69506|\n",
      "|13.16526|\n",
      "|13.42649|\n",
      "|13.63546|\n",
      "|13.68771|\n",
      "|13.92281|\n",
      "|14.96771|\n",
      "+--------+\n",
      "only showing top 30 rows\n",
      "\n"
     ]
    }
   ],
   "source": [
    "valid_events.select(\"length\").dropDuplicates().sort(\"length\").show(30)"
   ]
  },
  {
   "cell_type": "code",
   "execution_count": 47,
   "metadata": {},
   "outputs": [
    {
     "name": "stdout",
     "output_type": "stream",
     "text": [
      "+-------+-----------------+\n",
      "|summary|           length|\n",
      "+-------+-----------------+\n",
      "|  count|           228108|\n",
      "|   mean|249.1171819778458|\n",
      "| stddev|99.23517921058361|\n",
      "|    min|          0.78322|\n",
      "|    max|       3024.66567|\n",
      "+-------+-----------------+\n",
      "\n"
     ]
    }
   ],
   "source": [
    "valid_events.select(\"length\").describe().show()"
   ]
  },
  {
   "cell_type": "code",
   "execution_count": 49,
   "metadata": {},
   "outputs": [
    {
     "name": "stdout",
     "output_type": "stream",
     "text": [
      "+------+---------+---------+------+-------------+--------+------+-----+--------------------+------+---------------+-------------+---------+----+------+-------------+--------------------+------+-----+-------------------+\n",
      "|artist|     auth|firstName|gender|itemInSession|lastName|length|level|            location|method|           page| registration|sessionId|song|status|           ts|           userAgent|userId|churn|  registration_date|\n",
      "+------+---------+---------+------+-------------+--------+------+-----+--------------------+------+---------------+-------------+---------+----+------+-------------+--------------------+------+-----+-------------------+\n",
      "|  null|Logged In|    Colin|     M|           54| Freeman|  null| paid|     Bakersfield, CA|   PUT|Add to Playlist|1538173362000|       29|null|   200|1538352905000|Mozilla/5.0 (Wind...|    30|    0|2018-09-29 00:22:42|\n",
      "|  null|Logged In|    Micah|     M|           84|    Long|  null| free|Boston-Cambridge-...|   GET|    Roll Advert|1538331630000|        8|null|   200|1538353150000|\"Mozilla/5.0 (Win...|     9|    0|2018-09-30 20:20:30|\n",
      "|  null|Logged In|    Micah|     M|           86|    Long|  null| free|Boston-Cambridge-...|   PUT|      Thumbs Up|1538331630000|        8|null|   307|1538353376000|\"Mozilla/5.0 (Win...|     9|    0|2018-09-30 20:20:30|\n",
      "|  null|Logged In|    Alexi|     F|            4|  Warren|  null| paid|Spokane-Spokane V...|   GET|      Downgrade|1532482662000|       53|null|   200|1538354749000|Mozilla/5.0 (Wind...|    54|    0|2018-07-25 03:37:42|\n",
      "|  null|Logged In|    Alexi|     F|            7|  Warren|  null| paid|Spokane-Spokane V...|   PUT|      Thumbs Up|1532482662000|       53|null|   307|1538355255000|Mozilla/5.0 (Wind...|    54|    0|2018-07-25 03:37:42|\n",
      "|  null|Logged In|    Micah|     M|           95|    Long|  null| free|Boston-Cambridge-...|   PUT|    Thumbs Down|1538331630000|        8|null|   307|1538355306000|\"Mozilla/5.0 (Win...|     9|    0|2018-09-30 20:20:30|\n",
      "|  null|Logged In|    Micah|     M|           97|    Long|  null| free|Boston-Cambridge-...|   GET|           Home|1538331630000|        8|null|   200|1538355504000|\"Mozilla/5.0 (Win...|     9|    0|2018-09-30 20:20:30|\n",
      "|  null|Logged In|    Micah|     M|           99|    Long|  null| free|Boston-Cambridge-...|   PUT|         Logout|1538331630000|        8|null|   307|1538355687000|\"Mozilla/5.0 (Win...|     9|    0|2018-09-30 20:20:30|\n",
      "|  null|Logged In|  Ashlynn|     F|            9|Williams|  null| free|     Tallahassee, FL|   PUT|      Thumbs Up|1537365219000|      217|null|   307|1538355711000|\"Mozilla/5.0 (Mac...|    74|    0|2018-09-19 15:53:39|\n",
      "|  null|Logged In|    Micah|     M|          104|    Long|  null| free|Boston-Cambridge-...|   GET|           Home|1538331630000|        8|null|   200|1538355855000|\"Mozilla/5.0 (Win...|     9|    0|2018-09-30 20:20:30|\n",
      "|  null|Logged In|    Colin|     M|           71| Freeman|  null| paid|     Bakersfield, CA|   PUT|    Thumbs Down|1538173362000|       29|null|   307|1538356524000|Mozilla/5.0 (Wind...|    30|    0|2018-09-29 00:22:42|\n",
      "|  null|Logged In|   Warren|     M|            1|  Miller|  null| free|Baltimore-Columbi...|   PUT|         Logout|1538169823000|      240|null|   307|1538356651000|Mozilla/5.0 (Wind...|     4|    0|2018-09-28 23:23:43|\n",
      "|  null|Logged In|   Warren|     M|            4|  Miller|  null| free|Baltimore-Columbi...|   GET|           Home|1538169823000|      240|null|   200|1538356686000|Mozilla/5.0 (Wind...|     4|    0|2018-09-28 23:23:43|\n",
      "|  null|Logged In|  Ashlynn|     F|           15|Williams|  null| free|     Tallahassee, FL|   PUT|Add to Playlist|1537365219000|      217|null|   200|1538356816000|\"Mozilla/5.0 (Mac...|    74|    0|2018-09-19 15:53:39|\n",
      "|  null|Logged In|   Warren|     M|            6|  Miller|  null| free|Baltimore-Columbi...|   GET|           Home|1538169823000|      240|null|   200|1538356954000|Mozilla/5.0 (Wind...|     4|    0|2018-09-28 23:23:43|\n",
      "|  null|Logged In|  Ashlynn|     F|           18|Williams|  null| free|     Tallahassee, FL|   PUT|      Thumbs Up|1537365219000|      217|null|   307|1538357104000|\"Mozilla/5.0 (Mac...|    74|    0|2018-09-19 15:53:39|\n",
      "|  null|Logged In|    Micah|     M|          111|    Long|  null| free|Boston-Cambridge-...|   PUT|      Thumbs Up|1538331630000|        8|null|   307|1538357160000|\"Mozilla/5.0 (Win...|     9|    0|2018-09-30 20:20:30|\n",
      "|  null|Logged In|    Colin|     M|           77| Freeman|  null| paid|     Bakersfield, CA|   PUT|      Thumbs Up|1538173362000|       29|null|   307|1538357649000|Mozilla/5.0 (Wind...|    30|    0|2018-09-29 00:22:42|\n",
      "|  null|Logged In|  Ashlynn|     F|           22|Williams|  null| free|     Tallahassee, FL|   PUT|      Thumbs Up|1537365219000|      217|null|   307|1538357916000|\"Mozilla/5.0 (Mac...|    74|    0|2018-09-19 15:53:39|\n",
      "|  null|Logged In|    Colin|     M|           79| Freeman|  null| paid|     Bakersfield, CA|   PUT|      Thumbs Up|1538173362000|       29|null|   307|1538357991000|Mozilla/5.0 (Wind...|    30|    0|2018-09-29 00:22:42|\n",
      "+------+---------+---------+------+-------------+--------+------+-----+--------------------+------+---------------+-------------+---------+----+------+-------------+--------------------+------+-----+-------------------+\n",
      "only showing top 20 rows\n",
      "\n"
     ]
    }
   ],
   "source": [
    "valid_events.where(col(\"length\").isNull()).show()"
   ]
  },
  {
   "cell_type": "code",
   "execution_count": 51,
   "metadata": {},
   "outputs": [
    {
     "name": "stdout",
     "output_type": "stream",
     "text": [
      "+------+----+---------+------+-------------+--------+------+-----+--------+------+----+------------+---------+----+------+---+---------+------+-----+-----------------+\n",
      "|artist|auth|firstName|gender|itemInSession|lastName|length|level|location|method|page|registration|sessionId|song|status| ts|userAgent|userId|churn|registration_date|\n",
      "+------+----+---------+------+-------------+--------+------+-----+--------+------+----+------------+---------+----+------+---+---------+------+-----+-----------------+\n",
      "+------+----+---------+------+-------------+--------+------+-----+--------+------+----+------------+---------+----+------+---+---------+------+-----+-----------------+\n",
      "\n"
     ]
    }
   ],
   "source": [
    "valid_events.where(col(\"artist\").isNotNull() & col(\"length\").isNull()).show()"
   ]
  },
  {
   "cell_type": "code",
   "execution_count": 52,
   "metadata": {},
   "outputs": [
    {
     "name": "stdout",
     "output_type": "stream",
     "text": [
      "+--------+------+\n",
      "|    page| count|\n",
      "+--------+------+\n",
      "|NextSong|228108|\n",
      "+--------+------+\n",
      "\n"
     ]
    }
   ],
   "source": [
    "valid_events.where(col(\"length\").isNotNull()).groupBy(\"page\").count().show()"
   ]
  },
  {
   "cell_type": "code",
   "execution_count": 56,
   "metadata": {},
   "outputs": [
    {
     "name": "stdout",
     "output_type": "stream",
     "text": [
      "+------+----+---------+------+-------------+--------+------+-----+--------+------+----+------------+---------+----+------+---+---------+------+-----+-----------------+\n",
      "|artist|auth|firstName|gender|itemInSession|lastName|length|level|location|method|page|registration|sessionId|song|status| ts|userAgent|userId|churn|registration_date|\n",
      "+------+----+---------+------+-------------+--------+------+-----+--------+------+----+------------+---------+----+------+---+---------+------+-----+-----------------+\n",
      "+------+----+---------+------+-------------+--------+------+-----+--------+------+----+------------+---------+----+------+---+---------+------+-----+-----------------+\n",
      "\n"
     ]
    }
   ],
   "source": [
    "valid_events.where(col(\"artist\").isNotNull()).filter(col(\"page\") != \"NextSong\").show()"
   ]
  },
  {
   "cell_type": "markdown",
   "metadata": {},
   "source": [
    "When the artist is not null, then the length is never null...\n",
    "Length desribes how long the user listened to the song."
   ]
  },
  {
   "cell_type": "code",
   "execution_count": 58,
   "metadata": {},
   "outputs": [
    {
     "name": "stdout",
     "output_type": "stream",
     "text": [
      "+--------------------+\n",
      "|              artist|\n",
      "+--------------------+\n",
      "|                null|\n",
      "|                 !!!|\n",
      "|        & And Oceans|\n",
      "|'N Sync/Phil Collins|\n",
      "|        'Til Tuesday|\n",
      "| 't Hof Van Commerce|\n",
      "|'t Hof Van Commer...|\n",
      "|       (Love) Tattoo|\n",
      "|          (hed) p.e.|\n",
      "|*NSYNC featuring ...|\n",
      "|  + / - {Plus/Minus}|\n",
      "|                 +44|\n",
      "|          -123 minut|\n",
      "|            -123min.|\n",
      "|       ...And Oceans|\n",
      "|...And You Will K...|\n",
      "|           1 40 4 20|\n",
      "|1 Giant Leap feat...|\n",
      "|1 Giant Leap feat...|\n",
      "|1 Giant Leap feat...|\n",
      "|1 Giant Leap feat...|\n",
      "|1 Giant Leap feat...|\n",
      "|            10 Years|\n",
      "|       10000 Maniacs|\n",
      "|           1000names|\n",
      "|                1001|\n",
      "|                 108|\n",
      "|      10_000 Maniacs|\n",
      "|                10cc|\n",
      "|                 112|\n",
      "+--------------------+\n",
      "only showing top 30 rows\n",
      "\n"
     ]
    }
   ],
   "source": [
    "# artist, song\n",
    "valid_events.select(\"artist\").dropDuplicates().sort(\"artist\").show(30)"
   ]
  },
  {
   "cell_type": "code",
   "execution_count": 60,
   "metadata": {},
   "outputs": [
    {
     "name": "stdout",
     "output_type": "stream",
     "text": [
      "+------+---------+---------+------+-------------+--------+---------+-----+--------------------+------+--------+-------------+---------+----------------+------+-------------+--------------------+------+-----+-------------------+\n",
      "|artist|     auth|firstName|gender|itemInSession|lastName|   length|level|            location|method|    page| registration|sessionId|            song|status|           ts|           userAgent|userId|churn|  registration_date|\n",
      "+------+---------+---------+------+-------------+--------+---------+-----+--------------------+------+--------+-------------+---------+----------------+------+-------------+--------------------+------+-----+-------------------+\n",
      "|   !!!|Logged In|    Faigy|     F|          319|    Howe|294.94812| paid|Phoenix-Mesa-Scot...|   PUT|NextSong|1538211832000|      398|      A New Name|   200|1538653371000|Mozilla/5.0 (Maci...|    95|    0|2018-09-29 11:03:52|\n",
      "|   !!!|Logged In|  Nikolas|     M|           12|   Olsen|356.10077| paid|Oxnard-Thousand O...|   PUT|NextSong|1528403713000|      781|Must Be The Moon|   200|1539408474000|Mozilla/5.0 (X11;...|   121|    0|2018-06-07 22:35:13|\n",
      "|   !!!|Logged In| Isobella|     F|            0|  Wright|313.10322| free|Atlanta-Sandy Spr...|   PUT|NextSong|1536398117000|     1045|          Yadnus|   200|1540007872000|\"Mozilla/5.0 (Win...|    45|    0|2018-09-08 11:15:17|\n",
      "|   !!!|Logged In|   Samuel|     M|          396|    Wood|356.10077| paid|New York-Newark-J...|   PUT|NextSong|1537865819000|     1305|Must Be The Moon|   200|1540661560000|\"Mozilla/5.0 (iPa...|   138|    0|2018-09-25 10:56:59|\n",
      "|   !!!|Logged In|   Teagan|     F|           48| Roberts|313.10322| paid|New Philadelphia-...|   PUT|NextSong|1537634865000|     1519|          Yadnus|   200|1541411786000|Mozilla/5.0 (Wind...|    28|    0|2018-09-22 18:47:45|\n",
      "|   !!!|Logged In|   Lucero|     F|          118|    Reed|356.10077| paid|Louisville/Jeffer...|   PUT|NextSong|1536642109000|     1643|Must Be The Moon|   200|1541513849000|\"Mozilla/5.0 (Win...|   140|    0|2018-09-11 07:01:49|\n",
      "|   !!!|Logged In|   Oliver|     M|          364| Gilbert|313.10322| paid|Philadelphia-Camd...|   PUT|NextSong|1535093367000|     1616|          Yadnus|   200|1541562315000|\"Mozilla/5.0 (Mac...|    81|    0|2018-08-24 08:49:27|\n",
      "|   !!!|Logged In|  Brayden|     M|          279|  Thomas|356.10077| paid|Los Angeles-Long ...|   PUT|NextSong|1534133898000|     2266|Must Be The Moon|   200|1543261020000|\"Mozilla/5.0 (Mac...|    85|    0|2018-08-13 06:18:18|\n",
      "|   !!!|Logged In|Charlotte|     F|           25| Frazier|294.94812| free|Baltimore-Columbi...|   PUT|NextSong|1537537765000|       31|      A New Name|   200|1539363278000|\"Mozilla/5.0 (Mac...|200016|    0|2018-09-21 15:49:25|\n",
      "|   !!!|Logged In|   Joshua|     M|           27|   White|143.98649| paid|San Antonio-New B...|   PUT|NextSong|1528780738000|      143|      Myth Takes|   200|1539537960000|\"Mozilla/5.0 (iPh...|300015|    0|2018-06-12 07:18:58|\n",
      "+------+---------+---------+------+-------------+--------+---------+-----+--------------------+------+--------+-------------+---------+----------------+------+-------------+--------------------+------+-----+-------------------+\n",
      "\n"
     ]
    }
   ],
   "source": [
    "valid_events.filter(col(\"artist\") == \"!!!\").show()"
   ]
  },
  {
   "cell_type": "markdown",
   "metadata": {},
   "source": [
    "\"!!!\" is really an artist. You can look it up on spotify (https://open.spotify.com/artist/1mmehjf7eHA10uHMisZGJg)."
   ]
  },
  {
   "cell_type": "code",
   "execution_count": 61,
   "metadata": {},
   "outputs": [
    {
     "name": "stdout",
     "output_type": "stream",
     "text": [
      "+--------------------+\n",
      "|                song|\n",
      "+--------------------+\n",
      "|                null|\n",
      "|\u001c",
      "ÃÂg ÃÂtti Gr...|\n",
      "| I Will Not Reap ...|\n",
      "|              !@*$%#|\n",
      "|#!*@ You Tonight ...|\n",
      "|                  #1|\n",
      "|#1 Fan [Feat. Key...|\n",
      "|           #1 Stunna|\n",
      "|                 #16|\n",
      "| #18 (Album Version)|\n",
      "|#2 For Prepared W...|\n",
      "|                 #24|\n",
      "|  #4 (Album Version)|\n",
      "|                 #40|\n",
      "|                   $|\n",
      "|       $1000 Wedding|\n",
      "|$87 And A Guilty ...|\n",
      "|                $in$|\n",
      "|       $timulus Plan|\n",
      "|              & Down|\n",
      "|&And The Battle B...|\n",
      "|&And The Day Turn...|\n",
      "|&And The World Wi...|\n",
      "|&and She Told Me ...|\n",
      "|        ' Cello Song|\n",
      "|           '60 - '65|\n",
      "|  '97 Bonnie & Clyde|\n",
      "|            'A Cimma|\n",
      "|'Allo 'Allo (Orig...|\n",
      "|  'Elepaio Slack Key|\n",
      "+--------------------+\n",
      "only showing top 30 rows\n",
      "\n"
     ]
    }
   ],
   "source": [
    "valid_events.select(\"song\").dropDuplicates().sort(\"song\").show(30)"
   ]
  },
  {
   "cell_type": "code",
   "execution_count": 64,
   "metadata": {},
   "outputs": [
    {
     "name": "stdout",
     "output_type": "stream",
     "text": [
      "+----------+\n",
      "| firstName|\n",
      "+----------+\n",
      "|  Adelaida|\n",
      "|    Adrian|\n",
      "|   Adriana|\n",
      "|    Adriel|\n",
      "|   Ainsley|\n",
      "|      Alex|\n",
      "| Alexander|\n",
      "|Alexandria|\n",
      "|     Alexi|\n",
      "|    Alyssa|\n",
      "|   Alyssia|\n",
      "| Amberlynn|\n",
      "|    Andrew|\n",
      "|     Angel|\n",
      "|     Anika|\n",
      "|      Anna|\n",
      "| Annabella|\n",
      "|  Antonina|\n",
      "|   Antonio|\n",
      "|      Aron|\n",
      "|   Ashlynn|\n",
      "|    Aurora|\n",
      "|    Autumn|\n",
      "|       Ava|\n",
      "|    Azrael|\n",
      "|  Benjamin|\n",
      "|    Bianca|\n",
      "|   Brayden|\n",
      "|     Brisa|\n",
      "|    Brooke|\n",
      "+----------+\n",
      "only showing top 30 rows\n",
      "\n"
     ]
    }
   ],
   "source": [
    "# firstName, lastName\n",
    "valid_events.select(\"firstName\").dropDuplicates().sort(\"firstName\").show(30)"
   ]
  },
  {
   "cell_type": "code",
   "execution_count": 63,
   "metadata": {},
   "outputs": [
    {
     "name": "stdout",
     "output_type": "stream",
     "text": [
      "+------+----+---------+------+-------------+--------+------+-----+--------+------+----+------------+---------+----+------+---+---------+------+-----+-----------------+\n",
      "|artist|auth|firstName|gender|itemInSession|lastName|length|level|location|method|page|registration|sessionId|song|status| ts|userAgent|userId|churn|registration_date|\n",
      "+------+----+---------+------+-------------+--------+------+-----+--------+------+----+------------+---------+----+------+---+---------+------+-----+-----------------+\n",
      "+------+----+---------+------+-------------+--------+------+-----+--------+------+----+------------+---------+----+------+---+---------+------+-----+-----------------+\n",
      "\n"
     ]
    }
   ],
   "source": [
    "valid_events.where(col(\"firstName\").isNull() | col(\"lastName\").isNull()).show()"
   ]
  },
  {
   "cell_type": "code",
   "execution_count": 65,
   "metadata": {},
   "outputs": [
    {
     "name": "stdout",
     "output_type": "stream",
     "text": [
      "+---------+\n",
      "|     auth|\n",
      "+---------+\n",
      "|Cancelled|\n",
      "|Logged In|\n",
      "+---------+\n",
      "\n"
     ]
    }
   ],
   "source": [
    "valid_events.select(\"auth\").dropDuplicates().sort(\"auth\").show(30)"
   ]
  },
  {
   "cell_type": "code",
   "execution_count": 77,
   "metadata": {},
   "outputs": [
    {
     "name": "stdout",
     "output_type": "stream",
     "text": [
      "+------+---------+---------+------+-------------+---------+------+-----+--------------------+------+--------------------+-------------+---------+----+------+-------------+--------------------+------+-----+-------------------+\n",
      "|artist|     auth|firstName|gender|itemInSession| lastName|length|level|            location|method|                page| registration|sessionId|song|status|           ts|           userAgent|userId|churn|  registration_date|\n",
      "+------+---------+---------+------+-------------+---------+------+-----+--------------------+------+--------------------+-------------+---------+----+------+-------------+--------------------+------+-----+-------------------+\n",
      "|  null|Cancelled|   Adriel|     M|          104|  Mendoza|  null| paid|  Kansas City, MO-KS|   GET|Cancellation Conf...|1535623466000|      514|null|   200|1538943990000|\"Mozilla/5.0 (Mac...|    18|    1|2018-08-30 12:04:26|\n",
      "|  null|Cancelled|    Diego|     M|           56|    Mckee|  null| paid|Phoenix-Mesa-Scot...|   GET|Cancellation Conf...|1537167593000|      540|null|   200|1539033046000|\"Mozilla/5.0 (iPh...|    32|    1|2018-09-17 08:59:53|\n",
      "|  null|Cancelled|    Mason|     M|           10|     Hart|  null| free|  Corpus Christi, TX|   GET|Cancellation Conf...|1533157139000|      174|null|   200|1539318918000|\"Mozilla/5.0 (Mac...|   125|    1|2018-08-01 22:58:59|\n",
      "|  null|Cancelled|Alexander|     M|          332|   Garcia|  null| paid|Indianapolis-Carm...|   GET|Cancellation Conf...|1536817381000|      508|null|   200|1539375441000|Mozilla/5.0 (Wind...|   105|    1|2018-09-13 07:43:01|\n",
      "|  null|Cancelled|    Kayla|     F|          273|  Johnson|  null| paid|Philadelphia-Camd...|   GET|Cancellation Conf...|1538333829000|      797|null|   200|1539465584000|Mozilla/5.0 (Wind...|    17|    1|2018-09-30 20:57:09|\n",
      "|  null|Cancelled|    Molly|     F|           29| Harrison|  null| free|Virginia Beach-No...|   GET|Cancellation Conf...|1534255113000|      843|null|   200|1539588854000|\"Mozilla/5.0 (Mac...|   143|    1|2018-08-14 15:58:33|\n",
      "|  null|Cancelled|     Alex|     M|          145|    Hogan|  null| paid|Denver-Aurora-Lak...|   GET|Cancellation Conf...|1535066380000|      842|null|   200|1539729037000|Mozilla/5.0 (Wind...|   101|    1|2018-08-24 01:19:40|\n",
      "|  null|Cancelled|    Davis|     M|           34|     Wang|  null| paid|           Flint, MI|   GET|Cancellation Conf...|1538289776000|      802|null|   200|1539736161000|\"Mozilla/5.0 (Win...|   129|    1|2018-09-30 08:42:56|\n",
      "|  null|Cancelled|  Nikolas|     M|          287|    Olsen|  null| paid|Oxnard-Thousand O...|   GET|Cancellation Conf...|1528403713000|      881|null|   200|1539759749000|Mozilla/5.0 (X11;...|   121|    1|2018-06-07 22:35:13|\n",
      "|  null|Cancelled|    Ethan|     M|          176|  Johnson|  null| paid|Lexington-Fayette...|   GET|Cancellation Conf...|1538080987000|      934|null|   200|1539761972000|\"Mozilla/5.0 (Win...|    51|    1|2018-09-27 22:43:07|\n",
      "|  null|Cancelled|Christian|     M|          100| Robinson|  null| paid|       Quincy, IL-MO|   GET|Cancellation Conf...|1534942082000|     1092|null|   200|1540050556000|\"Mozilla/5.0 (Win...|    87|    1|2018-08-22 14:48:02|\n",
      "|  null|Cancelled|    Molly|     F|           43|Patterson|  null| paid|   Memphis, TN-MS-AR|   GET|Cancellation Conf...|1535498705000|     1029|null|   200|1540062068000|Mozilla/5.0 (X11;...|   122|    1|2018-08-29 01:25:05|\n",
      "|  null|Cancelled|   Sophia|     F|           72|    Perry|  null| paid|Los Angeles-Long ...|   GET|Cancellation Conf...|1533885783000|     1072|null|   200|1540193374000|Mozilla/5.0 (Wind...|    12|    1|2018-08-10 09:23:03|\n",
      "|  null|Cancelled|    Erick|     M|           48|   Brooks|  null| paid|           Selma, AL|   GET|Cancellation Conf...|1537956751000|     1112|null|   200|1540223006000|\"Mozilla/5.0 (Win...|    58|    1|2018-09-26 12:12:31|\n",
      "|  null|Cancelled|   Rachel|     F|           11|   Bailey|  null| paid|Albany-Schenectad...|   GET|Cancellation Conf...|1536102943000|     1059|null|   200|1540402387000|Mozilla/5.0 (Wind...|    73|    1|2018-09-05 01:15:43|\n",
      "|  null|Cancelled|  Jeffery|     M|           46|  Wheeler|  null| paid|         Bozeman, MT|   GET|Cancellation Conf...|1533886191000|     1324|null|   200|1540875543000|\"Mozilla/5.0 (Win...|     3|    1|2018-08-10 09:29:51|\n",
      "|  null|Cancelled|   Sophia|     F|           18|      Key|  null| paid|Los Angeles-Long ...|   GET|Cancellation Conf...|1537679535000|     1383|null|   200|1541166424000|\"Mozilla/5.0 (Mac...|   106|    1|2018-09-23 07:12:15|\n",
      "|  null|Cancelled|    Piper|     F|            8|  Nielsen|  null| paid|New York-Newark-J...|   GET|Cancellation Conf...|1537699856000|     1583|null|   200|1541340091000|\"Mozilla/5.0 (Mac...|   103|    1|2018-09-23 12:50:56|\n",
      "|  null|Cancelled|   Teagan|     F|          306|  Roberts|  null| paid|New Philadelphia-...|   GET|Cancellation Conf...|1537634865000|     1519|null|   200|1541463632000|Mozilla/5.0 (Wind...|    28|    1|2018-09-22 18:47:45|\n",
      "|  null|Cancelled|    Alexi|     F|           42|   Warren|  null| paid|Spokane-Spokane V...|   GET|Cancellation Conf...|1532482662000|     1819|null|   200|1542051608000|Mozilla/5.0 (Wind...|    54|    1|2018-07-25 03:37:42|\n",
      "+------+---------+---------+------+-------------+---------+------+-----+--------------------+------+--------------------+-------------+---------+----+------+-------------+--------------------+------+-----+-------------------+\n",
      "only showing top 20 rows\n",
      "\n"
     ]
    }
   ],
   "source": [
    "valid_events.filter(col(\"auth\") == \"Cancelled\").show()"
   ]
  },
  {
   "cell_type": "code",
   "execution_count": 78,
   "metadata": {},
   "outputs": [
    {
     "name": "stdout",
     "output_type": "stream",
     "text": [
      "+------+----+---------+------+-------------+--------+------+-----+--------+------+----+------------+---------+----+------+---+---------+------+-----+-----------------+\n",
      "|artist|auth|firstName|gender|itemInSession|lastName|length|level|location|method|page|registration|sessionId|song|status| ts|userAgent|userId|churn|registration_date|\n",
      "+------+----+---------+------+-------------+--------+------+-----+--------+------+----+------------+---------+----+------+---+---------+------+-----+-----------------+\n",
      "+------+----+---------+------+-------------+--------+------+-----+--------+------+----+------------+---------+----+------+---+---------+------+-----+-----------------+\n",
      "\n"
     ]
    }
   ],
   "source": [
    "valid_events.filter(col(\"auth\") == \"Cancelled\").filter(col(\"page\") != \"Cancellation Confirmation\").show()"
   ]
  },
  {
   "cell_type": "markdown",
   "metadata": {},
   "source": [
    "If the cancellation is confirmed, the authentication is set to \"cancelled\"."
   ]
  },
  {
   "cell_type": "code",
   "execution_count": 66,
   "metadata": {},
   "outputs": [
    {
     "name": "stdout",
     "output_type": "stream",
     "text": [
      "+------+\n",
      "|method|\n",
      "+------+\n",
      "|   GET|\n",
      "|   PUT|\n",
      "+------+\n",
      "\n"
     ]
    }
   ],
   "source": [
    "valid_events.select(\"method\").dropDuplicates().sort(\"method\").show(30)"
   ]
  },
  {
   "cell_type": "markdown",
   "metadata": {},
   "source": [
    "First and last name or never null in this dataset."
   ]
  },
  {
   "cell_type": "code",
   "execution_count": 57,
   "metadata": {},
   "outputs": [
    {
     "name": "stdout",
     "output_type": "stream",
     "text": [
      "root\n",
      " |-- artist: string (nullable = true)\n",
      " |-- auth: string (nullable = true)\n",
      " |-- firstName: string (nullable = true)\n",
      " |-- gender: string (nullable = true)\n",
      " |-- itemInSession: long (nullable = true)\n",
      " |-- lastName: string (nullable = true)\n",
      " |-- length: double (nullable = true)\n",
      " |-- level: string (nullable = true)\n",
      " |-- location: string (nullable = true)\n",
      " |-- method: string (nullable = true)\n",
      " |-- page: string (nullable = true)\n",
      " |-- registration: long (nullable = true)\n",
      " |-- sessionId: long (nullable = true)\n",
      " |-- song: string (nullable = true)\n",
      " |-- status: long (nullable = true)\n",
      " |-- ts: long (nullable = true)\n",
      " |-- userAgent: string (nullable = true)\n",
      " |-- userId: string (nullable = true)\n",
      " |-- churn: integer (nullable = true)\n",
      " |-- registration_date: timestamp (nullable = true)\n",
      "\n"
     ]
    }
   ],
   "source": [
    "valid_events.printSchema()"
   ]
  },
  {
   "cell_type": "code",
   "execution_count": 44,
   "metadata": {},
   "outputs": [
    {
     "data": {
      "text/plain": [
       "[Row(artist='Sea Wolf', auth='Logged In', firstName='Brycen', gender='M', itemInSession=0, lastName='Bradley', length=265.53424, level='paid', location='Laurel, MS', method='PUT', page='NextSong', registration=1538159495000, sessionId=9, song='Ses Monuments', status=200, ts=1538965220000, userAgent='\"Mozilla/5.0 (Macintosh; Intel Mac OS X 10_9_4) AppleWebKit/537.36 (KHTML, like Gecko) Chrome/36.0.1985.143 Safari/537.36\"', userId='10', churn=0, registration_date=datetime.datetime(2018, 9, 28, 20, 31, 35), id=1),\n",
       " Row(artist='George Baker Selection', auth='Logged In', firstName='Brycen', gender='M', itemInSession=1, lastName='Bradley', length=200.4371, level='paid', location='Laurel, MS', method='PUT', page='NextSong', registration=1538159495000, sessionId=9, song='Morning Sky', status=200, ts=1538965485000, userAgent='\"Mozilla/5.0 (Macintosh; Intel Mac OS X 10_9_4) AppleWebKit/537.36 (KHTML, like Gecko) Chrome/36.0.1985.143 Safari/537.36\"', userId='10', churn=0, registration_date=datetime.datetime(2018, 9, 28, 20, 31, 35), id=2),\n",
       " Row(artist='Klaus Lage', auth='Logged In', firstName='Brycen', gender='M', itemInSession=2, lastName='Bradley', length=208.03873, level='paid', location='Laurel, MS', method='PUT', page='NextSong', registration=1538159495000, sessionId=9, song=\"Du Hast'n Freund In Mir (You've Got A Friend In Me)\", status=200, ts=1538965685000, userAgent='\"Mozilla/5.0 (Macintosh; Intel Mac OS X 10_9_4) AppleWebKit/537.36 (KHTML, like Gecko) Chrome/36.0.1985.143 Safari/537.36\"', userId='10', churn=0, registration_date=datetime.datetime(2018, 9, 28, 20, 31, 35), id=3),\n",
       " Row(artist='Dave Grusin', auth='Logged In', firstName='Brycen', gender='M', itemInSession=3, lastName='Bradley', length=526.44526, level='paid', location='Laurel, MS', method='PUT', page='NextSong', registration=1538159495000, sessionId=9, song='Playera', status=200, ts=1538965893000, userAgent='\"Mozilla/5.0 (Macintosh; Intel Mac OS X 10_9_4) AppleWebKit/537.36 (KHTML, like Gecko) Chrome/36.0.1985.143 Safari/537.36\"', userId='10', churn=0, registration_date=datetime.datetime(2018, 9, 28, 20, 31, 35), id=4)]"
      ]
     },
     "execution_count": 44,
     "metadata": {},
     "output_type": "execute_result"
    }
   ],
   "source": [
    "#window = Window.orderBy(col('userId'))\n",
    "\n",
    "#valid_events_idx = valid_events.withColumn('id', row_number().over(window))\n",
    "#valid_events_idx.take(4)"
   ]
  },
  {
   "cell_type": "markdown",
   "metadata": {},
   "source": [
    "### Data Analysis"
   ]
  },
  {
   "cell_type": "code",
   "execution_count": 79,
   "metadata": {},
   "outputs": [],
   "source": [
    "agg_users = valid_events.groupBy(\"userId\").agg({\"churn\": \"sum\"}).withColumnRenamed(\"sum(churn)\", \"churned\")\n",
    "        "
   ]
  },
  {
   "cell_type": "code",
   "execution_count": 80,
   "metadata": {},
   "outputs": [
    {
     "name": "stdout",
     "output_type": "stream",
     "text": [
      "+-------+------------------+------------------+\n",
      "|summary|            userId|           churned|\n",
      "+-------+------------------+------------------+\n",
      "|  count|               225|               225|\n",
      "|   mean|65391.013333333336|0.2311111111111111|\n",
      "| stddev|105396.47791907164|0.4224832108996327|\n",
      "|    min|                10|                 0|\n",
      "|    max|                99|                 1|\n",
      "+-------+------------------+------------------+\n",
      "\n"
     ]
    }
   ],
   "source": [
    "agg_users.describe().show()"
   ]
  },
  {
   "cell_type": "code",
   "execution_count": 81,
   "metadata": {},
   "outputs": [
    {
     "name": "stdout",
     "output_type": "stream",
     "text": [
      "+-------+-----+\n",
      "|churned|count|\n",
      "+-------+-----+\n",
      "|      0|  173|\n",
      "|      1|   52|\n",
      "+-------+-----+\n",
      "\n"
     ]
    }
   ],
   "source": [
    "agg_users.groupBy(\"churned\").count().show()"
   ]
  },
  {
   "cell_type": "markdown",
   "metadata": {},
   "source": [
    "There are 52 different users out of 225 which churned. This is an **imbalanced dataset!**"
   ]
  },
  {
   "cell_type": "code",
   "execution_count": 84,
   "metadata": {},
   "outputs": [
    {
     "name": "stdout",
     "output_type": "stream",
     "text": [
      "+-----+----------+\n",
      "|level|Levelcount|\n",
      "+-----+----------+\n",
      "| paid|    222433|\n",
      "| free|     55721|\n",
      "+-----+----------+\n",
      "\n"
     ]
    }
   ],
   "source": [
    "# number of events per level\n",
    "valid_events.select([\"level\"]) \\\n",
    "     .groupBy(\"level\") \\\n",
    "     .agg({'level' : 'count'}) \\\n",
    "     .withColumnRenamed('count(level)', 'Levelcount') \\\n",
    "     .sort(desc('Levelcount')) \\\n",
    "     .show()"
   ]
  },
  {
   "cell_type": "code",
   "execution_count": 87,
   "metadata": {},
   "outputs": [],
   "source": [
    "event_count = valid_events \\\n",
    "     .groupBy([\"level\", \"userId\"]) \\\n",
    "     .count()"
   ]
  },
  {
   "cell_type": "code",
   "execution_count": 88,
   "metadata": {},
   "outputs": [
    {
     "name": "stdout",
     "output_type": "stream",
     "text": [
      "+-----+------+-----+\n",
      "|level|userId|count|\n",
      "+-----+------+-----+\n",
      "| paid|   101| 2073|\n",
      "| free|    43|  240|\n",
      "| paid|   152| 1403|\n",
      "| paid|300021| 4650|\n",
      "| free|     6|   84|\n",
      "| free|    52|  346|\n",
      "| free|   117|  445|\n",
      "| paid|200009|  543|\n",
      "| free|    74|  369|\n",
      "| free|    30| 1100|\n",
      "| paid|   147|  467|\n",
      "| free|200008|   24|\n",
      "| paid|200017|  399|\n",
      "| free|    87|  851|\n",
      "| paid|    81| 2294|\n",
      "| free|    66|  435|\n",
      "| paid|   139|  421|\n",
      "| paid|    42| 4128|\n",
      "| paid|   106|  873|\n",
      "| paid|    37| 1603|\n",
      "+-----+------+-----+\n",
      "only showing top 20 rows\n",
      "\n"
     ]
    }
   ],
   "source": [
    "event_count.show()"
   ]
  },
  {
   "cell_type": "code",
   "execution_count": 89,
   "metadata": {},
   "outputs": [
    {
     "name": "stdout",
     "output_type": "stream",
     "text": [
      "+-----+----------+\n",
      "|level|sum(count)|\n",
      "+-----+----------+\n",
      "| free|     55721|\n",
      "| paid|    222433|\n",
      "+-----+----------+\n",
      "\n"
     ]
    }
   ],
   "source": [
    "event_count.groupBy(\"level\").sum().show()"
   ]
  },
  {
   "cell_type": "code",
   "execution_count": 90,
   "metadata": {},
   "outputs": [
    {
     "name": "stdout",
     "output_type": "stream",
     "text": [
      "+-----+-----+\n",
      "|level|count|\n",
      "+-----+-----+\n",
      "| free|  195|\n",
      "| paid|  165|\n",
      "+-----+-----+\n",
      "\n"
     ]
    }
   ],
   "source": [
    "event_count.groupBy(\"level\").count().show()"
   ]
  },
  {
   "cell_type": "markdown",
   "metadata": {},
   "source": [
    "There are 165 paid users and 195 free users. However, there are rughly 4 times more logged events for paid users than for free users. Paid users use sparkify much more often."
   ]
  },
  {
   "cell_type": "code",
   "execution_count": 94,
   "metadata": {},
   "outputs": [],
   "source": [
    "group_level_user = valid_events.groupBy([\"userId\", \"level\"]).agg({\"churn\": \"sum\"}).withColumnRenamed(\"sum(churn)\", \"churned\")"
   ]
  },
  {
   "cell_type": "code",
   "execution_count": 95,
   "metadata": {},
   "outputs": [
    {
     "name": "stdout",
     "output_type": "stream",
     "text": [
      "+------+-----+-------+\n",
      "|userId|level|churned|\n",
      "+------+-----+-------+\n",
      "|100021| free|      1|\n",
      "|200021| free|      0|\n",
      "|200001| free|      1|\n",
      "|     6| free|      0|\n",
      "|300022| paid|      0|\n",
      "|   132| free|      0|\n",
      "|   112| free|      0|\n",
      "|    79| free|      0|\n",
      "|200008| free|      0|\n",
      "|    16| paid|      0|\n",
      "|200007| paid|      0|\n",
      "|300015| free|      0|\n",
      "|    39| free|      0|\n",
      "|300014| paid|      0|\n",
      "|    61| free|      0|\n",
      "|    56| paid|      0|\n",
      "|300014| free|      0|\n",
      "|   100| paid|      0|\n",
      "|300024| paid|      0|\n",
      "|300023| paid|      0|\n",
      "+------+-----+-------+\n",
      "only showing top 20 rows\n",
      "\n"
     ]
    }
   ],
   "source": [
    "group_level_user.show()"
   ]
  },
  {
   "cell_type": "code",
   "execution_count": 96,
   "metadata": {},
   "outputs": [
    {
     "name": "stdout",
     "output_type": "stream",
     "text": [
      "+-----+-------+-----+\n",
      "|level|churned|count|\n",
      "+-----+-------+-----+\n",
      "| free|      0|  174|\n",
      "| paid|      0|  134|\n",
      "| free|      1|   21|\n",
      "| paid|      1|   31|\n",
      "+-----+-------+-----+\n",
      "\n"
     ]
    }
   ],
   "source": [
    "group_level_user.groupBy([\"level\", \"churned\"]).count().show()"
   ]
  },
  {
   "cell_type": "markdown",
   "metadata": {},
   "source": [
    "The churning rate is higher for paid users. Users can submit a downgrade or submit an upgrade. These users can be in both groups. Hence, the sum of users in the grouped df above is higher than the number of unique user ids."
   ]
  },
  {
   "cell_type": "code",
   "execution_count": 102,
   "metadata": {},
   "outputs": [
    {
     "data": {
      "text/plain": [
       "63"
      ]
     },
     "execution_count": 102,
     "metadata": {},
     "output_type": "execute_result"
    }
   ],
   "source": [
    "valid_events.filter(col(\"page\") == \"Submit Downgrade\").count()"
   ]
  },
  {
   "cell_type": "code",
   "execution_count": 188,
   "metadata": {},
   "outputs": [
    {
     "name": "stdout",
     "output_type": "stream",
     "text": [
      "+------+------+-------+\n",
      "|userId|gender|churned|\n",
      "+------+------+-------+\n",
      "|    44|     F|      0|\n",
      "|    46|     F|      0|\n",
      "|    41|     F|      0|\n",
      "|    72|     F|      0|\n",
      "|300023|     F|      0|\n",
      "|    39|     F|      0|\n",
      "|100010|     F|      0|\n",
      "|    40|     F|      0|\n",
      "|    94|     F|      0|\n",
      "|    35|     F|      0|\n",
      "|    75|     F|      0|\n",
      "|   116|     F|      0|\n",
      "|200001|     M|      1|\n",
      "|200020|     M|      1|\n",
      "|100008|     F|      0|\n",
      "|200015|     M|      1|\n",
      "|   100|     M|      0|\n",
      "|100006|     F|      1|\n",
      "|300005|     F|      0|\n",
      "|    25|     F|      0|\n",
      "+------+------+-------+\n",
      "only showing top 20 rows\n",
      "\n"
     ]
    }
   ],
   "source": [
    "group_gender = valid_events.groupBy([\"userId\", \"gender\"]).agg({\"churn\": \"sum\"}).withColumnRenamed(\"sum(churn)\", \"churned\")\n"
   ]
  },
  {
   "cell_type": "code",
   "execution_count": 189,
   "metadata": {},
   "outputs": [
    {
     "name": "stdout",
     "output_type": "stream",
     "text": [
      "+------+-------+-----+\n",
      "|gender|churned|count|\n",
      "+------+-------+-----+\n",
      "|     F|      0|   84|\n",
      "|     F|      1|   20|\n",
      "|     M|      0|   89|\n",
      "|     M|      1|   32|\n",
      "+------+-------+-----+\n",
      "\n"
     ]
    }
   ],
   "source": [
    "group_gender.groupBy([\"gender\", \"churned\"]).count().show()"
   ]
  },
  {
   "cell_type": "markdown",
   "metadata": {},
   "source": [
    "Almost equal distribution of the gender in both groups."
   ]
  },
  {
   "cell_type": "code",
   "execution_count": 106,
   "metadata": {},
   "outputs": [
    {
     "data": {
      "text/plain": [
       "Row(artist='Martha Tilston', auth='Logged In', firstName='Colin', gender='M', itemInSession=50, lastName='Freeman', length=277.89016, level='paid', location='Bakersfield, CA', method='PUT', page='NextSong', registration=1538173362000, sessionId=29, song='Rockpools', status=200, ts=1538352117000, userAgent='Mozilla/5.0 (Windows NT 6.1; WOW64; rv:31.0) Gecko/20100101 Firefox/31.0', userId='30', churn=0, registration_date=datetime.datetime(2018, 9, 29, 0, 22, 42), log_date=datetime.datetime(2018, 10, 1, 2, 1, 57), log_event_year=2018, log_event_month=10)"
      ]
     },
     "execution_count": 106,
     "metadata": {},
     "output_type": "execute_result"
    }
   ],
   "source": [
    "get_year = udf(lambda x: x.year, IntegerType())\n",
    "get_month = udf(lambda x: x.month, IntegerType())\n",
    "valid_events = valid_events.withColumn(\"log_event_year\", get_year(col(\"log_date\")))\n",
    "valid_events = valid_events.withColumn(\"log_event_month\", get_month(col(\"log_date\")))\n",
    "valid_events.first()"
   ]
  },
  {
   "cell_type": "code",
   "execution_count": 107,
   "metadata": {},
   "outputs": [
    {
     "name": "stdout",
     "output_type": "stream",
     "text": [
      "+------+-------------------+----------+\n",
      "|userId|      min(log_date)|sum(churn)|\n",
      "+------+-------------------+----------+\n",
      "|100010|2018-10-08 14:58:54|         0|\n",
      "|200002|2018-10-01 13:30:30|         0|\n",
      "|   125|2018-10-12 06:05:44|         1|\n",
      "|    51|2018-10-01 14:57:12|         1|\n",
      "|   124|2018-10-01 17:17:10|         0|\n",
      "|     7|2018-10-03 13:57:49|         0|\n",
      "|    54|2018-10-01 02:32:10|         1|\n",
      "|    15|2018-10-01 12:23:35|         0|\n",
      "|   155|2018-11-02 16:56:25|         0|\n",
      "|   132|2018-10-02 10:59:56|         0|\n",
      "|   154|2018-11-02 16:15:35|         0|\n",
      "|100014|2018-10-10 15:12:16|         1|\n",
      "|   101|2018-10-01 03:50:05|         1|\n",
      "|    11|2018-10-05 05:20:29|         0|\n",
      "|   138|2018-10-06 00:08:54|         0|\n",
      "|300017|2018-10-01 15:14:06|         0|\n",
      "|    29|2018-10-02 01:55:03|         1|\n",
      "|    69|2018-10-03 20:06:39|         0|\n",
      "|100021|2018-10-11 02:04:35|         1|\n",
      "|    42|2018-10-01 20:36:22|         0|\n",
      "+------+-------------------+----------+\n",
      "only showing top 20 rows\n",
      "\n"
     ]
    }
   ],
   "source": [
    "# how long the groups (churned, not churned) \n",
    "\n",
    "# TODO: filter for only events which indicate playing music?\n",
    "valid_events.groupBy([\"userId\"]).agg({\"churn\": \"sum\", \"log_date\": \"max\", \"log_date\": \"min\"}).show()"
   ]
  },
  {
   "cell_type": "code",
   "execution_count": 118,
   "metadata": {},
   "outputs": [],
   "source": [
    "import pyspark.sql.functions as F\n",
    "grouped_df = valid_events.groupBy([\"userId\"]).agg(F.sum(\"churn\").alias(\"churned\"), F.min(\"log_date\").alias(\"first_log\"), F.max(\"log_date\").alias(\"last_log\"), F.count(\"page\").alias(\"log_counts\"))"
   ]
  },
  {
   "cell_type": "code",
   "execution_count": 113,
   "metadata": {},
   "outputs": [
    {
     "ename": "AttributeError",
     "evalue": "'NoneType' object has no attribute 'show'",
     "output_type": "error",
     "traceback": [
      "\u001b[1;31m---------------------------------------------------------------------------\u001b[0m",
      "\u001b[1;31mAttributeError\u001b[0m                            Traceback (most recent call last)",
      "\u001b[1;32m<ipython-input-113-8cee9fb1f430>\u001b[0m in \u001b[0;36m<module>\u001b[1;34m\u001b[0m\n\u001b[1;32m----> 1\u001b[1;33m \u001b[0mgrouped_df\u001b[0m\u001b[1;33m.\u001b[0m\u001b[0mshow\u001b[0m\u001b[1;33m(\u001b[0m\u001b[1;33m)\u001b[0m\u001b[1;33m\u001b[0m\u001b[1;33m\u001b[0m\u001b[0m\n\u001b[0m",
      "\u001b[1;31mAttributeError\u001b[0m: 'NoneType' object has no attribute 'show'"
     ]
    }
   ],
   "source": [
    "grouped_df.show()"
   ]
  },
  {
   "cell_type": "code",
   "execution_count": 131,
   "metadata": {},
   "outputs": [
    {
     "name": "stdout",
     "output_type": "stream",
     "text": [
      "+------+-------+-------------------+-------------------+----------+--------+\n",
      "|userId|churned|          first_log|           last_log|log_counts|duration|\n",
      "+------+-------+-------------------+-------------------+----------+--------+\n",
      "|100010|      0|2018-10-08 14:58:54|2018-11-21 19:12:32|       381|      44|\n",
      "|200002|      0|2018-10-01 13:30:30|2018-11-16 00:25:54|       474|      45|\n",
      "|   125|      1|2018-10-12 06:05:44|2018-10-12 06:35:18|        11|       1|\n",
      "|    51|      1|2018-10-01 14:57:12|2018-10-17 09:39:32|      2464|      15|\n",
      "|   124|      0|2018-10-01 17:17:10|2018-11-30 16:12:46|      4825|      59|\n",
      "|     7|      0|2018-10-03 13:57:49|2018-11-23 07:46:51|       201|      50|\n",
      "|    54|      1|2018-10-01 02:32:10|2018-11-12 20:40:08|      3437|      42|\n",
      "|    15|      0|2018-10-01 12:23:35|2018-11-25 05:56:58|      2278|      54|\n",
      "|   155|      0|2018-11-02 16:56:25|2018-11-28 12:48:30|      1002|      25|\n",
      "|   132|      0|2018-10-02 10:59:56|2018-11-21 21:56:12|      2304|      50|\n",
      "|   154|      0|2018-11-02 16:15:35|2018-11-27 15:56:05|       118|      24|\n",
      "|100014|      1|2018-10-10 15:12:16|2018-11-20 20:04:09|       310|      41|\n",
      "|   101|      1|2018-10-01 03:50:05|2018-10-17 00:30:37|      2149|      15|\n",
      "|    11|      0|2018-10-05 05:20:29|2018-11-27 10:08:22|       848|      53|\n",
      "|   138|      0|2018-10-06 00:08:54|2018-12-01 00:59:25|      2469|      56|\n",
      "|300017|      0|2018-10-01 15:14:06|2018-11-29 16:58:07|      4428|      59|\n",
      "|    29|      1|2018-10-02 01:55:03|2018-11-14 08:37:11|      3603|      43|\n",
      "|    69|      0|2018-10-03 20:06:39|2018-11-23 18:47:11|      1342|      50|\n",
      "|100021|      1|2018-10-11 02:04:35|2018-11-25 12:03:02|       319|      45|\n",
      "|    42|      0|2018-10-01 20:36:22|2018-11-30 21:43:27|      4257|      60|\n",
      "+------+-------+-------------------+-------------------+----------+--------+\n",
      "only showing top 20 rows\n",
      "\n"
     ]
    }
   ],
   "source": [
    "from dateutil import relativedelta\n",
    "def get_time_difference(date_1, date_2):\n",
    "    \"\"\"TODO\"\"\"\n",
    "    delta = date_2 - date_1\n",
    "    \n",
    "    if delta.days == 0:\n",
    "        return 1\n",
    "    else:\n",
    "        return delta.days\n",
    "    \n",
    "get_time_difference_udf = udf(get_time_difference, IntegerType())\n",
    "\n",
    "grouped_df = grouped_df.withColumn(\"duration\", get_time_difference_udf(col(\"first_log\"), col(\"last_log\")))\n",
    "grouped_df.show()"
   ]
  },
  {
   "cell_type": "markdown",
   "metadata": {},
   "source": [
    "first idea was to use months as time period, however in this data the first and last log never had a difference > 1 months."
   ]
  },
  {
   "cell_type": "code",
   "execution_count": 133,
   "metadata": {},
   "outputs": [],
   "source": [
    "grouped_df = grouped_df.withColumn(\"logs_per_day\", col(\"log_counts\") / col(\"duration\"))"
   ]
  },
  {
   "cell_type": "code",
   "execution_count": 134,
   "metadata": {},
   "outputs": [
    {
     "name": "stdout",
     "output_type": "stream",
     "text": [
      "+------+-------+-------------------+-------------------+----------+--------+------------------+\n",
      "|userId|churned|          first_log|           last_log|log_counts|duration|      logs_per_day|\n",
      "+------+-------+-------------------+-------------------+----------+--------+------------------+\n",
      "|100010|      0|2018-10-08 14:58:54|2018-11-21 19:12:32|       381|      44| 8.659090909090908|\n",
      "|200002|      0|2018-10-01 13:30:30|2018-11-16 00:25:54|       474|      45|10.533333333333333|\n",
      "|   125|      1|2018-10-12 06:05:44|2018-10-12 06:35:18|        11|       1|              11.0|\n",
      "|    51|      1|2018-10-01 14:57:12|2018-10-17 09:39:32|      2464|      15|164.26666666666668|\n",
      "|   124|      0|2018-10-01 17:17:10|2018-11-30 16:12:46|      4825|      59| 81.77966101694915|\n",
      "|     7|      0|2018-10-03 13:57:49|2018-11-23 07:46:51|       201|      50|              4.02|\n",
      "|    54|      1|2018-10-01 02:32:10|2018-11-12 20:40:08|      3437|      42| 81.83333333333333|\n",
      "|    15|      0|2018-10-01 12:23:35|2018-11-25 05:56:58|      2278|      54| 42.18518518518518|\n",
      "|   155|      0|2018-11-02 16:56:25|2018-11-28 12:48:30|      1002|      25|             40.08|\n",
      "|   132|      0|2018-10-02 10:59:56|2018-11-21 21:56:12|      2304|      50|             46.08|\n",
      "|   154|      0|2018-11-02 16:15:35|2018-11-27 15:56:05|       118|      24| 4.916666666666667|\n",
      "|100014|      1|2018-10-10 15:12:16|2018-11-20 20:04:09|       310|      41| 7.560975609756097|\n",
      "|   101|      1|2018-10-01 03:50:05|2018-10-17 00:30:37|      2149|      15|143.26666666666668|\n",
      "|    11|      0|2018-10-05 05:20:29|2018-11-27 10:08:22|       848|      53|              16.0|\n",
      "|   138|      0|2018-10-06 00:08:54|2018-12-01 00:59:25|      2469|      56|44.089285714285715|\n",
      "|300017|      0|2018-10-01 15:14:06|2018-11-29 16:58:07|      4428|      59| 75.05084745762711|\n",
      "|    29|      1|2018-10-02 01:55:03|2018-11-14 08:37:11|      3603|      43| 83.79069767441861|\n",
      "|    69|      0|2018-10-03 20:06:39|2018-11-23 18:47:11|      1342|      50|             26.84|\n",
      "|100021|      1|2018-10-11 02:04:35|2018-11-25 12:03:02|       319|      45| 7.088888888888889|\n",
      "|    42|      0|2018-10-01 20:36:22|2018-11-30 21:43:27|      4257|      60|             70.95|\n",
      "+------+-------+-------------------+-------------------+----------+--------+------------------+\n",
      "only showing top 20 rows\n",
      "\n"
     ]
    }
   ],
   "source": [
    "grouped_df.show()"
   ]
  },
  {
   "cell_type": "code",
   "execution_count": 135,
   "metadata": {},
   "outputs": [
    {
     "data": {
      "text/plain": [
       "array([[<matplotlib.axes._subplots.AxesSubplot object at 0x0000028DB1ED8E10>,\n",
       "        <matplotlib.axes._subplots.AxesSubplot object at 0x0000028DB222FEF0>],\n",
       "       [<matplotlib.axes._subplots.AxesSubplot object at 0x0000028DB226D4E0>,\n",
       "        <matplotlib.axes._subplots.AxesSubplot object at 0x0000028DB229FA90>]],\n",
       "      dtype=object)"
      ]
     },
     "execution_count": 135,
     "metadata": {},
     "output_type": "execute_result"
    },
    {
     "data": {
      "image/png": "[encoded data removed]",
      "text/plain": [
       "<Figure size 432x288 with 4 Axes>"
      ]
     },
     "metadata": {
      "needs_background": "light"
     },
     "output_type": "display_data"
    }
   ],
   "source": [
    "import seaborn as sns\n",
    "%matplotlib inline\n",
    "grouped_pd = grouped_df.toPandas()\n",
    "grouped_pd[grouped_pd[\"churned\"] == 1].hist()"
   ]
  },
  {
   "cell_type": "code",
   "execution_count": 186,
   "metadata": {},
   "outputs": [],
   "source": [
    "import seaborn as sns\n",
    "import matplotlib.pyplot as plt\n",
    "sns.set(style=\"darkgrid\")\n"
   ]
  },
  {
   "cell_type": "code",
   "execution_count": 143,
   "metadata": {},
   "outputs": [],
   "source": [
    "churned = grouped_pd[grouped_pd[\"churned\"] == 1]\n",
    "not_churned = grouped_pd[grouped_pd[\"churned\"] == 0]"
   ]
  },
  {
   "cell_type": "code",
   "execution_count": 219,
   "metadata": {},
   "outputs": [],
   "source": [
    "def create_hist_for_groups(df_churn, df_not_churn, variable_name):\n",
    "    fig, axes = plt.subplots(nrows=1, ncols=2, sharey=\"all\") # sharex=\"all\",\n",
    "    axes[0].hist(df_churn[variable_name], density=True)\n",
    "    axes[0].axvline(df_churn[variable_name].mean(), color='g', linestyle='dashed', linewidth=1, label=\"mean\")\n",
    "    axes[0].set_xlabel(variable_name)\n",
    "    axes[0].set_ylabel(\"Normalized Count\")\n",
    "    axes[0].set_title(\"Churned\")\n",
    "    axes[0].legend()\n",
    "    axes[1].hist(df_not_churn[variable_name], density=True)\n",
    "    axes[1].axvline(df_not_churn[variable_name].mean(), color='g', linestyle='dashed', linewidth=1, label=\"mean\")\n",
    "    axes[1].set_xlabel(variable_name)\n",
    "    axes[1].set_ylabel(\"Normalized Count\")\n",
    "    axes[1].set_title(\"Not Churned\")\n",
    "    axes[1].legend()\n",
    "    \n",
    "    print('Mean {} churned: {:.2f}'.format(variable_name, df_churn[variable_name].mean()))\n",
    "    print('Mean {} not churned: {:.2f}'.format(variable_name, df_not_churn[variable_name].mean()))\n",
    "    plt.show()"
   ]
  },
  {
   "cell_type": "code",
   "execution_count": 184,
   "metadata": {},
   "outputs": [
    {
     "name": "stdout",
     "output_type": "stream",
     "text": [
      "Mean logs_per_day churned: 48.25\n",
      "Mean logs_per_day not churned: 30.43\n"
     ]
    },
    {
     "data": {
      "image/png": "[encoded data removed]",
      "text/plain": [
       "<Figure size 432x288 with 2 Axes>"
      ]
     },
     "metadata": {},
     "output_type": "display_data"
    }
   ],
   "source": [
    "# normalized histograms for the logs per day for churned and not churned users\n",
    "create_hist_for_groups(churned, not_churned, \"logs_per_day\")"
   ]
  },
  {
   "cell_type": "code",
   "execution_count": 185,
   "metadata": {},
   "outputs": [
    {
     "name": "stdout",
     "output_type": "stream",
     "text": [
      "Mean duration churned: 23.21\n",
      "Mean duration not churned: 46.54\n"
     ]
    },
    {
     "data": {
      "image/png": "[encoded data removed]",
      "text/plain": [
       "<Figure size 432x288 with 2 Axes>"
      ]
     },
     "metadata": {},
     "output_type": "display_data"
    }
   ],
   "source": [
    "create_hist_for_groups(churned, not_churned, \"duration\")"
   ]
  },
  {
   "cell_type": "code",
   "execution_count": 187,
   "metadata": {},
   "outputs": [
    {
     "name": "stdout",
     "output_type": "stream",
     "text": [
      "Mean log_counts churned: 862.77\n",
      "Mean log_counts not churned: 1348.50\n"
     ]
    },
    {
     "data": {
      "image/png": "[encoded data removed]",
      "text/plain": [
       "<Figure size 432x288 with 2 Axes>"
      ]
     },
     "metadata": {},
     "output_type": "display_data"
    }
   ],
   "source": [
    "create_hist_for_groups(churned, not_churned, \"log_counts\")"
   ]
  },
  {
   "cell_type": "code",
   "execution_count": 203,
   "metadata": {},
   "outputs": [],
   "source": [
    "pivoted_count = valid_events.select(\"userId\", \"page\").groupBy(\"userId\").pivot(\"page\").count()"
   ]
  },
  {
   "cell_type": "code",
   "execution_count": 204,
   "metadata": {},
   "outputs": [
    {
     "data": {
      "text/plain": [
       "Row(userId='200002', About=3, Add Friend=4, Add to Playlist=8, Cancel=None, Cancellation Confirmation=None, Downgrade=5, Error=None, Help=2, Home=20, Logout=5, NextSong=387, Roll Advert=7, Save Settings=None, Settings=3, Submit Downgrade=None, Submit Upgrade=1, Thumbs Down=6, Thumbs Up=21, Upgrade=2)"
      ]
     },
     "execution_count": 204,
     "metadata": {},
     "output_type": "execute_result"
    }
   ],
   "source": [
    "pivoted_count.first()"
   ]
  },
  {
   "cell_type": "code",
   "execution_count": 205,
   "metadata": {},
   "outputs": [],
   "source": [
    "pivoted_count = pivoted_count.na.fill(0)"
   ]
  },
  {
   "cell_type": "code",
   "execution_count": 206,
   "metadata": {},
   "outputs": [
    {
     "data": {
      "text/plain": [
       "Row(userId='200002', About=3, Add Friend=4, Add to Playlist=8, Cancel=0, Cancellation Confirmation=0, Downgrade=5, Error=0, Help=2, Home=20, Logout=5, NextSong=387, Roll Advert=7, Save Settings=0, Settings=3, Submit Downgrade=0, Submit Upgrade=1, Thumbs Down=6, Thumbs Up=21, Upgrade=2)"
      ]
     },
     "execution_count": 206,
     "metadata": {},
     "output_type": "execute_result"
    }
   ],
   "source": [
    "pivoted_count.first()"
   ]
  },
  {
   "cell_type": "code",
   "execution_count": 207,
   "metadata": {},
   "outputs": [],
   "source": [
    "user_df = grouped_df.join(pivoted_count, on=\"userId\")"
   ]
  },
  {
   "cell_type": "code",
   "execution_count": 208,
   "metadata": {},
   "outputs": [
    {
     "name": "stdout",
     "output_type": "stream",
     "text": [
      "+------+-------+-------------------+-------------------+----------+--------+------------------+-----+----------+---------------+------+-------------------------+---------+-----+----+----+------+--------+-----------+-------------+--------+----------------+--------------+-----------+---------+-------+\n",
      "|userId|churned|          first_log|           last_log|log_counts|duration|      logs_per_day|About|Add Friend|Add to Playlist|Cancel|Cancellation Confirmation|Downgrade|Error|Help|Home|Logout|NextSong|Roll Advert|Save Settings|Settings|Submit Downgrade|Submit Upgrade|Thumbs Down|Thumbs Up|Upgrade|\n",
      "+------+-------+-------------------+-------------------+----------+--------+------------------+-----+----------+---------------+------+-------------------------+---------+-----+----+----+------+--------+-----------+-------------+--------+----------------+--------------+-----------+---------+-------+\n",
      "|100010|      0|2018-10-08 14:58:54|2018-11-21 19:12:32|       381|      44| 8.659090909090908|    1|         4|              7|     0|                        0|        0|    0|   2|  11|     5|     275|         52|            0|       0|               0|             0|          5|       17|      2|\n",
      "|200002|      0|2018-10-01 13:30:30|2018-11-16 00:25:54|       474|      45|10.533333333333333|    3|         4|              8|     0|                        0|        5|    0|   2|  20|     5|     387|          7|            0|       3|               0|             1|          6|       21|      2|\n",
      "+------+-------+-------------------+-------------------+----------+--------+------------------+-----+----------+---------------+------+-------------------------+---------+-----+----+----+------+--------+-----------+-------------+--------+----------------+--------------+-----------+---------+-------+\n",
      "only showing top 2 rows\n",
      "\n"
     ]
    }
   ],
   "source": [
    "user_df.show(2)"
   ]
  },
  {
   "cell_type": "code",
   "execution_count": 209,
   "metadata": {},
   "outputs": [
    {
     "name": "stdout",
     "output_type": "stream",
     "text": [
      "root\n",
      " |-- userId: string (nullable = true)\n",
      " |-- churned: long (nullable = true)\n",
      " |-- first_log: timestamp (nullable = true)\n",
      " |-- last_log: timestamp (nullable = true)\n",
      " |-- log_counts: long (nullable = false)\n",
      " |-- duration: integer (nullable = true)\n",
      " |-- logs_per_day: double (nullable = true)\n",
      " |-- About: long (nullable = true)\n",
      " |-- Add Friend: long (nullable = true)\n",
      " |-- Add to Playlist: long (nullable = true)\n",
      " |-- Cancel: long (nullable = true)\n",
      " |-- Cancellation Confirmation: long (nullable = true)\n",
      " |-- Downgrade: long (nullable = true)\n",
      " |-- Error: long (nullable = true)\n",
      " |-- Help: long (nullable = true)\n",
      " |-- Home: long (nullable = true)\n",
      " |-- Logout: long (nullable = true)\n",
      " |-- NextSong: long (nullable = true)\n",
      " |-- Roll Advert: long (nullable = true)\n",
      " |-- Save Settings: long (nullable = true)\n",
      " |-- Settings: long (nullable = true)\n",
      " |-- Submit Downgrade: long (nullable = true)\n",
      " |-- Submit Upgrade: long (nullable = true)\n",
      " |-- Thumbs Down: long (nullable = true)\n",
      " |-- Thumbs Up: long (nullable = true)\n",
      " |-- Upgrade: long (nullable = true)\n",
      "\n"
     ]
    }
   ],
   "source": [
    "user_df.printSchema()"
   ]
  },
  {
   "cell_type": "code",
   "execution_count": 210,
   "metadata": {},
   "outputs": [],
   "source": [
    "user_df_pd = user_df.toPandas()"
   ]
  },
  {
   "cell_type": "code",
   "execution_count": 211,
   "metadata": {},
   "outputs": [],
   "source": [
    "dummy_churned = user_df_pd[user_df_pd[\"churned\"] == 1]\n",
    "dummy_not_churned = user_df_pd[user_df_pd[\"churned\"] == 0]"
   ]
  },
  {
   "cell_type": "code",
   "execution_count": 224,
   "metadata": {},
   "outputs": [
    {
     "data": {
      "text/plain": [
       "Index(['About', 'Add Friend', 'Add to Playlist', 'Cancel',\n",
       "       'Cancellation Confirmation', 'Downgrade', 'Error', 'Help', 'Home',\n",
       "       'Logout', 'NextSong', 'Roll Advert', 'Save Settings', 'Settings',\n",
       "       'Submit Downgrade', 'Submit Upgrade', 'Thumbs Down', 'Thumbs Up',\n",
       "       'Upgrade'],\n",
       "      dtype='object')"
      ]
     },
     "execution_count": 224,
     "metadata": {},
     "output_type": "execute_result"
    }
   ],
   "source": [
    "n_dummy = 19 # need 2* 19 plots = 38\n",
    "column_names = user_df_pd.columns[7:]\n",
    "column_names\n",
    "# create_hist_for_groups(dummy_churned, dummy_not_churned, \"About\")"
   ]
  },
  {
   "cell_type": "code",
   "execution_count": 229,
   "metadata": {},
   "outputs": [
    {
     "name": "stdout",
     "output_type": "stream",
     "text": [
      "0 About\n",
      "1 Add Friend\n",
      "2 Add to Playlist\n",
      "3 Cancel\n",
      "4 Cancellation Confirmation\n",
      "5 Downgrade\n",
      "6 Error\n",
      "7 Help\n",
      "8 Home\n",
      "9 Logout\n",
      "10 NextSong\n",
      "11 Roll Advert\n",
      "12 Save Settings\n",
      "13 Settings\n",
      "14 Submit Downgrade\n",
      "15 Submit Upgrade\n",
      "16 Thumbs Down\n",
      "17 Thumbs Up\n",
      "18 Upgrade\n"
     ]
    }
   ],
   "source": [
    "for idx, name in enumerate(column_names):\n",
    "    print(idx, name)"
   ]
  },
  {
   "cell_type": "code",
   "execution_count": 252,
   "metadata": {},
   "outputs": [
    {
     "name": "stdout",
     "output_type": "stream",
     "text": [
      "Churn Statistics for Dummy Variables\n",
      "Churn \t\t | \t Not Churn \t | \t Diff \t | \t Variable\n",
      "1.076923 \t\t 2.537572 \t\t -1.460649 \t\t About\n",
      "12.230769 \t\t 21.046243 \t\t -8.815474 \t\t Add Friend\n",
      "19.961538 \t\t 31.722543 \t\t -11.761005 \t\t Add to Playlist\n",
      "1.000000 \t\t 0.000000 \t\t 1.000000 \t\t Cancel\n",
      "1.000000 \t\t 0.000000 \t\t 1.000000 \t\t Cancellation Confirmation\n",
      "6.480769 \t\t 9.930636 \t\t -3.449867 \t\t Downgrade\n",
      "0.615385 \t\t 1.271676 \t\t -0.656292 \t\t Error\n",
      "4.596154 \t\t 7.023121 \t\t -2.426968 \t\t Help\n",
      "32.153846 \t\t 48.612717 \t\t -16.458871 \t\t Home\n",
      "10.634615 \t\t 15.450867 \t\t -4.816252 \t\t Logout\n",
      "699.884615 \t\t 1108.173410 \t\t -408.288795 \t\t NextSong\n",
      "18.596154 \t\t 17.144509 \t\t 1.451645 \t\t Roll Advert\n",
      "1.115385 \t\t 1.456647 \t\t -0.341263 \t\t Save Settings\n",
      "5.192308 \t\t 7.190751 \t\t -1.998444 \t\t Settings\n",
      "0.173077 \t\t 0.312139 \t\t -0.139062 \t\t Submit Downgrade\n",
      "0.615385 \t\t 0.734104 \t\t -0.118719 \t\t Submit Upgrade\n",
      "9.538462 \t\t 11.849711 \t\t -2.311249 \t\t Thumbs Down\n",
      "35.750000 \t\t 61.803468 \t\t -26.053468 \t\t Thumbs Up\n",
      "2.153846 \t\t 2.236994 \t\t -0.083148 \t\t Upgrade\n"
     ]
    },
    {
     "data": {
      "image/png": "[encoded data removed]",
      "text/plain": [
       "<Figure size 1080x1800 with 42 Axes>"
      ]
     },
     "metadata": {},
     "output_type": "display_data"
    }
   ],
   "source": [
    "fig, axes = plt.subplots(nrows=7, ncols=6, figsize=(15,25))\n",
    "col_cnt = 0# sharex=\"all\",\n",
    "row_cnt = 0\n",
    "print(\"Churn Statistics for Dummy Variables\")\n",
    "print(\"Churn \\t\\t | \\t Not Churn \\t | \\t Diff \\t | \\t Variable\")\n",
    "for name in column_names:\n",
    "    mean_churn = dummy_churned[name].mean()\n",
    "    mean_not_churn = dummy_not_churned[name].mean()\n",
    "    axes[row_cnt, col_cnt].hist(dummy_churned[name], density=True)\n",
    "    axes[row_cnt, col_cnt].axvline(mean_churn, color='g', linestyle='dashed', linewidth=1, label=\"mean\")\n",
    "    axes[row_cnt, col_cnt].set_xlabel(name)\n",
    "    axes[row_cnt, col_cnt].set_ylabel(\"Normalized Count\")\n",
    "    axes[row_cnt, col_cnt].set_title(\"Churned\")\n",
    "    axes[row_cnt, col_cnt].legend()\n",
    "    col_cnt += 1\n",
    "    axes[row_cnt, col_cnt].hist(dummy_not_churned[name], density=True)\n",
    "    axes[row_cnt, col_cnt].axvline(mean_not_churn, color='g', linestyle='dashed', linewidth=1, label=\"mean\")\n",
    "    axes[row_cnt, col_cnt].set_xlabel(name)\n",
    "    axes[row_cnt, col_cnt].set_ylabel(\"Normalized Count\")\n",
    "    axes[row_cnt, col_cnt].set_title(\"Not Churned\")\n",
    "    axes[row_cnt, col_cnt].legend()\n",
    "    col_cnt += 1\n",
    "    \n",
    "    if col_cnt >= 5:\n",
    "        col_cnt = 0\n",
    "        row_cnt += 1    \n",
    "  \n",
    "    print(\"%f \\t\\t %f \\t\\t %f \\t\\t %s\" % (mean_churn, mean_not_churn, mean_churn - mean_not_churn, name))\n",
    "    \n",
    "fig.tight_layout(h_pad=3.0, w_pad=1.5)\n",
    "plt.show()"
   ]
  },
  {
   "cell_type": "code",
   "execution_count": 232,
   "metadata": {},
   "outputs": [
    {
     "data": {
      "text/plain": [
       "(7, 6)"
      ]
     },
     "execution_count": 232,
     "metadata": {},
     "output_type": "execute_result"
    }
   ],
   "source": [
    "axes.shape"
   ]
  },
  {
   "cell_type": "code",
   "execution_count": null,
   "metadata": {},
   "outputs": [],
   "source": [
    "# histogram log events per group\n",
    "# gender distribution per group\n",
    "# how many days until they churned? assuming last log is cancelled sumbit?\n",
    "# level (paid, free) per group --> already done\n",
    "# "
   ]
  },
  {
   "cell_type": "code",
   "execution_count": null,
   "metadata": {},
   "outputs": [],
   "source": []
  },
  {
   "cell_type": "markdown",
   "metadata": {},
   "source": [
    "# Feature Engineering\n",
    "Once you've familiarized yourself with the data, build out the features you find promising to train your model on. To work with the full dataset, you can follow the following steps.\n",
    "- Write a script to extract the necessary features from the smaller subset of data\n",
    "- Ensure that your script is scalable, using the best practices discussed in Lesson 3\n",
    "- Try your script on the full data set, debugging your script if necessary\n",
    "\n",
    "If you are working in the classroom workspace, you can just extract features based on the small subset of data contained here. Be sure to transfer over this work to the larger dataset when you work on your Spark cluster."
   ]
  },
  {
   "cell_type": "code",
   "execution_count": null,
   "metadata": {},
   "outputs": [],
   "source": [
    "# PCA? eine andere artikel auf dem handy\n",
    "# downgraded or not\n",
    "# likes per month or so\n",
    "# mean, std for the length per each user\n",
    "# dummy variables for page values\n",
    "# number of songs played? number of songs played per time?\n",
    "# how often experienced a specific action in a certain period of time?\n",
    "# how to handle the errors or 307"
   ]
  },
  {
   "cell_type": "markdown",
   "metadata": {},
   "source": [
    "# Modeling\n",
    "Split the full dataset into train, test, and validation sets. Test out several of the machine learning methods you learned. Evaluate the accuracy of the various models, tuning parameters as necessary. Determine your winning model based on test accuracy and report results on the validation set. Since the churned users are a fairly small subset, I suggest using F1 score as the metric to optimize."
   ]
  },
  {
   "cell_type": "code",
   "execution_count": null,
   "metadata": {},
   "outputs": [],
   "source": []
  },
  {
   "cell_type": "markdown",
   "metadata": {},
   "source": [
    "# Final Steps\n",
    "Clean up your code, adding comments and renaming variables to make the code easier to read and maintain. Refer to the Spark Project Overview page and Data Scientist Capstone Project Rubric to make sure you are including all components of the capstone project and meet all expectations. Remember, this includes thorough documentation in a README file in a Github repository, as well as a web app or blog post."
   ]
  },
  {
   "cell_type": "code",
   "execution_count": null,
   "metadata": {},
   "outputs": [],
   "source": []
  }
 ],
 "metadata": {
  "kernelspec": {
   "display_name": "Python 3",
   "language": "python",
   "name": "python3"
  },
  "language_info": {
   "codemirror_mode": {
    "name": "ipython",
    "version": 3
   },
   "file_extension": ".py",
   "mimetype": "text/x-python",
   "name": "python",
   "nbconvert_exporter": "python",
   "pygments_lexer": "ipython3",
   "version": "3.7.3"
  }
 },
 "nbformat": 4,
 "nbformat_minor": 2
}
