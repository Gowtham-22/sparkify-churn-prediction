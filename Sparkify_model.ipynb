{
 "cells": [
  {
   "cell_type": "markdown",
   "metadata": {},
   "source": [
    "# Sparkify Project - Modeling and Evaluation\n",
    "\n",
    "This is the last step of the project where the models are build, trained and evaluated. As in the feature engineering step, the features have to be created first and then the feature importance is loaded. Based on this importance, only the relevant features are kept and used for building the model. Finally, the scores of the models are caculated and visualized together with the different training times."
   ]
  },
  {
   "cell_type": "code",
   "execution_count": 2,
   "metadata": {},
   "outputs": [],
   "source": [
    "# import libraries\n",
    "import datetime\n",
    "import seaborn as sns\n",
    "import time\n",
    "import numpy as np\n",
    "import matplotlib.pyplot as plt\n",
    "import pandas as pd\n",
    "import pyspark.sql.functions as F\n",
    "sns.set(style=\"ticks\")\n",
    "\n",
    "from pyspark.ml import Pipeline\n",
    "from pyspark.ml.classification import RandomForestClassifier, LogisticRegression, GBTClassifier\n",
    "from pyspark.ml.evaluation import MulticlassClassificationEvaluator\n",
    "from pyspark.ml.feature import StandardScaler, OneHotEncoderEstimator, StringIndexer, VectorAssembler \n",
    "from pyspark.ml.tuning import CrossValidator, ParamGridBuilder\n",
    "from pyspark.sql.functions import col, udf\n",
    "from pyspark.sql import SparkSession, Window\n",
    "from pyspark.sql.types import IntegerType, StringType, TimestampType"
   ]
  },
  {
   "cell_type": "markdown",
   "metadata": {},
   "source": [
    "# Load and Clean Dataset\n",
    "\n",
    "Here the medium dataset file `medium-sparkify-event-data.json`is used. The loading part depends on whether you run this notebook locally or on a cluster from IBM Watson. Depending on this you need to comment or outcomment the following two cells as well as in later steps the loading of `feature_selection_df.csv`."
   ]
  },
  {
   "cell_type": "code",
   "execution_count": 3,
   "metadata": {},
   "outputs": [],
   "source": [
    "# loading when running on IBM cluster\n",
    "import ibmos2spark\n",
    "# @hidden_cell\n",
    "credentials = {\n",
    "    'endpoint': 'https://s3.eu-geo.objectstorage.service.networklayer.com',\n",
    "    'service_id': 'iam-ServiceId-809a258e-417e-4fa7-8cc0-a43a1f2c97b0',\n",
    "    'iam_service_endpoint': 'https://iam.eu-de.bluemix.net/oidc/token',\n",
    "    'api_key': 'izfH6CH03eyc2BUYHDOjmo9hUAQfaGy2HLRwdy1zfuEg'\n",
    "}\n",
    "\n",
    "configuration_name = 'os_6d7d9effed6f49088f222b405ed58a60_configs'\n",
    "cos = ibmos2spark.CloudObjectStorage(sc, credentials, configuration_name, 'bluemix_cos')\n",
    "\n",
    "from pyspark.sql import SparkSession\n",
    "spark = SparkSession.builder.getOrCreate()\n",
    "# Since JSON data can be semi-structured and contain additional metadata, it is possible that you might face issues with the DataFrame layout.\n",
    "# Please read the documentation of 'SparkSession.read()' to learn more about the possibilities to adjust the data loading.\n",
    "# PySpark documentation: http://spark.apache.org/docs/2.0.2/api/python/pyspark.sql.html#pyspark.sql.DataFrameReader.json\n",
    "\n",
    "events = spark.read.json(cos.url('medium-sparkify-event-data.json', 'sparkify-donotdelete-pr-mukrompaxoq925'))"
   ]
  },
  {
   "cell_type": "code",
   "execution_count": 4,
   "metadata": {},
   "outputs": [],
   "source": [
    "### uncomment this cell for local usage ###\n",
    "# create a local Spark session if you want to run this notebook locally\n",
    "#spark = SparkSession.builder \\\n",
    "#    .master(\"local\") \\\n",
    "#    .appName(\"Sparkify\") \\\n",
    "#    .getOrCreate()\n",
    "# load the data from local source\n",
    "#events = spark.read.json(\"data/mini_sparkify_event_data.json\")"
   ]
  },
  {
   "cell_type": "markdown",
   "metadata": {},
   "source": [
    "The userId contains values with an empty string. These entries need to be removed."
   ]
  },
  {
   "cell_type": "code",
   "execution_count": 5,
   "metadata": {},
   "outputs": [
    {
     "name": "stdout",
     "output_type": "stream",
     "text": [
      "Number of total events: 543705; number of valid events 528005\n",
      "Number of users: 448\n"
     ]
    }
   ],
   "source": [
    "# events where a userId is an empty string are not valid, remove these\n",
    "valid_events = events.where(col(\"userId\") != \"\")\n",
    "print(\"Number of total events: {}; number of valid events {}\".format(events.count(), valid_events.count()))\n",
    "print(\"Number of users: {}\".format(valid_events.select(\"userId\").distinct().count()))"
   ]
  },
  {
   "cell_type": "code",
   "execution_count": 6,
   "metadata": {},
   "outputs": [],
   "source": [
    "# registration and ts can both be converted to timestamps\n",
    "get_date = udf(lambda x: datetime.datetime.fromtimestamp(x / 1000.0), TimestampType()) # udf to convert to timestamp/date"
   ]
  },
  {
   "cell_type": "code",
   "execution_count": 7,
   "metadata": {},
   "outputs": [],
   "source": [
    "valid_events = valid_events.withColumn(\"log_date\", get_date(col(\"ts\"))) # date when the log entry was done"
   ]
  },
  {
   "cell_type": "code",
   "execution_count": 8,
   "metadata": {},
   "outputs": [],
   "source": [
    "# define a udf that checks for a churn action\n",
    "find_churn = udf(lambda x: 1 if x == \"Cancellation Confirmation\" else 0, IntegerType())"
   ]
  },
  {
   "cell_type": "code",
   "execution_count": 9,
   "metadata": {},
   "outputs": [],
   "source": [
    "# add a column \"churn\" to the dataframe indicating that a cancellation was confirmed\n",
    "valid_events = valid_events.withColumn(\"churn\", find_churn(col(\"page\")))"
   ]
  },
  {
   "cell_type": "code",
   "execution_count": 10,
   "metadata": {},
   "outputs": [],
   "source": [
    "# dataframe with the average length users listen to music\n",
    "user_length = valid_events.groupBy(\"userId\").agg({\"length\": \"mean\"}) \\\n",
    "    .withColumnRenamed(\"avg(length)\", \"avg_length\")"
   ]
  },
  {
   "cell_type": "code",
   "execution_count": 11,
   "metadata": {},
   "outputs": [],
   "source": [
    "# some values can be set into relation to a certain time period, e.g. the duration the user is active\n",
    "# hence we need to create a df with all users and their active time period\n",
    "# first find the first and last log entry for each user and how much log entries exist per user (all actions)\n",
    "time_df = valid_events.groupBy([\"userId\"]) \\\n",
    "    .agg(F.sum(\"churn\").alias(\"churned\"), F.min(\"log_date\").alias(\"first_log\"),\n",
    "         F.max(\"log_date\").alias(\"last_log\"), F.count(\"page\").alias(\"log_counts\"), F.max(\"ts\").alias(\"last_ts\"))"
   ]
  },
  {
   "cell_type": "code",
   "execution_count": 12,
   "metadata": {},
   "outputs": [],
   "source": [
    "def get_time_difference(date_1, date_2):\n",
    "    \"\"\"Caculates the time difference between to dates in days.\n",
    "    \n",
    "    :param date_1: First date\n",
    "    :type: datetime instance\n",
    "    :param date_2: Second date\n",
    "    :type: datetime instance\n",
    "    :return: Difference between the two dates in days\n",
    "    \"\"\"\n",
    "    # difference between the dates\n",
    "    delta = date_2 - date_1\n",
    "    \n",
    "    # minimum difference is one 1\n",
    "    if delta.days == 0:\n",
    "        return 1\n",
    "    else:\n",
    "        return delta.days\n",
    "\n",
    "# create a udf for this function\n",
    "get_time_difference_udf = udf(get_time_difference, IntegerType())\n",
    "# append duration and rename the churn column to label (helpful for model building later)\n",
    "time_df = time_df.withColumn(\"duration\", get_time_difference_udf(col(\"first_log\"), col(\"last_log\"))) \\\n",
    "            .drop(\"first_log\", \"last_log\").withColumnRenamed(\"churned\", \"label\")"
   ]
  },
  {
   "cell_type": "code",
   "execution_count": 13,
   "metadata": {},
   "outputs": [],
   "source": [
    "# create a dummy dataframe where each action (About, Thumbs Up, ...) from page is a new column with the number\n",
    "# how often this action appeared in the data for each user\n",
    "dummy_df = valid_events.select(\"userId\", \"page\").groupBy(\"userId\").pivot(\"page\") \\\n",
    "    .count().drop(\"Cancel\", \"Cancellation Confirmation\")\n",
    "# fill null values\n",
    "dummy_df = dummy_df.na.fill(0)"
   ]
  },
  {
   "cell_type": "code",
   "execution_count": 14,
   "metadata": {},
   "outputs": [],
   "source": [
    "# dataframe with the last level of each user\n",
    "user_level = valid_events.orderBy(\"log_date\", ascending=False).groupBy(\"userId\").agg(F.first(\"level\").alias('valid_level'))"
   ]
  },
  {
   "cell_type": "code",
   "execution_count": 15,
   "metadata": {},
   "outputs": [],
   "source": [
    "# dataframe with the gender of each user\n",
    "user_gender = valid_events.select([\"userId\", \"gender\"]).distinct()"
   ]
  },
  {
   "cell_type": "code",
   "execution_count": 16,
   "metadata": {},
   "outputs": [],
   "source": [
    "# calculate the total amount of days the user listened to music\n",
    "songs_per_date = valid_events.withColumn(\"date\", F.to_date(col(\"log_date\"))).where(col(\"page\") == \"NextSong\") \\\n",
    "    .groupBy([\"userId\", \"date\"]).agg(F.lit(1).alias(\"played_music\"))\n",
    "songs_per_day = songs_per_date.groupBy(\"userId\").agg(F.sum(\"played_music\").alias(\"music_days\"))"
   ]
  },
  {
   "cell_type": "code",
   "execution_count": 17,
   "metadata": {},
   "outputs": [],
   "source": [
    "# join all previously created dataframes\n",
    "df = time_df.join(dummy_df, on=\"userId\").join(user_level, on=\"userId\") \\\n",
    "    .join(user_gender, on=\"userId\").join(user_length, on=\"userId\").join(songs_per_day, on=\"userId\")"
   ]
  },
  {
   "cell_type": "code",
   "execution_count": 18,
   "metadata": {},
   "outputs": [],
   "source": [
    "# divide the actions by the amount of logs or the overall duration of their registration\n",
    "def divide_columns_by(df, columns, value, appendix):\n",
    "    \"\"\"Generic function for dividing pyspark columns by a certain value.\n",
    "    \n",
    "    :param df: Dataframe containing the columns to divide\n",
    "    :type: Pyspark Dataframe\n",
    "    :param columns: Name of the columns to divide\n",
    "    :type: list[str]\n",
    "    :param value: Value the columns are divided with\n",
    "    :type: int or float\n",
    "    :appendix: String that is added to the new columns\n",
    "    :type: str\n",
    "    :return: Pyspark dataframe with new columns containing the division\n",
    "    \"\"\"\n",
    "    for name in columns:\n",
    "        new_name = name+\"_\"+appendix\n",
    "        df = df.withColumn(new_name, col(name) / col(value))\n",
    "    return df"
   ]
  },
  {
   "cell_type": "code",
   "execution_count": 19,
   "metadata": {},
   "outputs": [],
   "source": [
    "# define which columns shall be divided by duration and log_counts\n",
    "cols_to_divide = ['music_days', 'About', 'Add Friend', 'Add to Playlist', 'Downgrade', 'Error', 'Help', 'Home',\n",
    "               'Logout', 'NextSong', 'Roll Advert', 'Save Settings', 'Settings', 'Submit Downgrade',\n",
    "               'Submit Upgrade', 'Thumbs Down', 'Thumbs Up', 'Upgrade']"
   ]
  },
  {
   "cell_type": "code",
   "execution_count": 20,
   "metadata": {},
   "outputs": [],
   "source": [
    "# add columns for variables per duation\n",
    "df_per = divide_columns_by(df, cols_to_divide, \"duration\", \"per_day\")\n",
    "# add columns for variables per log_counts\n",
    "df_model = divide_columns_by(df_per, cols_to_divide, \"log_counts\", \"per_log\")"
   ]
  },
  {
   "cell_type": "code",
   "execution_count": null,
   "metadata": {},
   "outputs": [
    {
     "name": "stdout",
     "output_type": "stream",
     "text": [
      "root\n",
      " |-- userId: string (nullable = true)\n",
      " |-- label: long (nullable = true)\n",
      " |-- log_counts: long (nullable = false)\n",
      " |-- last_ts: long (nullable = true)\n",
      " |-- duration: integer (nullable = true)\n",
      " |-- About: long (nullable = true)\n",
      " |-- Add Friend: long (nullable = true)\n",
      " |-- Add to Playlist: long (nullable = true)\n",
      " |-- Downgrade: long (nullable = true)\n",
      " |-- Error: long (nullable = true)\n",
      " |-- Help: long (nullable = true)\n",
      " |-- Home: long (nullable = true)\n",
      " |-- Logout: long (nullable = true)\n",
      " |-- NextSong: long (nullable = true)\n",
      " |-- Roll Advert: long (nullable = true)\n",
      " |-- Save Settings: long (nullable = true)\n",
      " |-- Settings: long (nullable = true)\n",
      " |-- Submit Downgrade: long (nullable = true)\n",
      " |-- Submit Upgrade: long (nullable = true)\n",
      " |-- Thumbs Down: long (nullable = true)\n",
      " |-- Thumbs Up: long (nullable = true)\n",
      " |-- Upgrade: long (nullable = true)\n",
      " |-- valid_level: string (nullable = true)\n",
      " |-- gender: string (nullable = true)\n",
      " |-- avg_length: double (nullable = true)\n",
      " |-- music_days: long (nullable = true)\n",
      " |-- music_days_per_day: double (nullable = true)\n",
      " |-- About_per_day: double (nullable = true)\n",
      " |-- Add Friend_per_day: double (nullable = true)\n",
      " |-- Add to Playlist_per_day: double (nullable = true)\n",
      " |-- Downgrade_per_day: double (nullable = true)\n",
      " |-- Error_per_day: double (nullable = true)\n",
      " |-- Help_per_day: double (nullable = true)\n",
      " |-- Home_per_day: double (nullable = true)\n",
      " |-- Logout_per_day: double (nullable = true)\n",
      " |-- NextSong_per_day: double (nullable = true)\n",
      " |-- Roll Advert_per_day: double (nullable = true)\n",
      " |-- Save Settings_per_day: double (nullable = true)\n",
      " |-- Settings_per_day: double (nullable = true)\n",
      " |-- Submit Downgrade_per_day: double (nullable = true)\n",
      " |-- Submit Upgrade_per_day: double (nullable = true)\n",
      " |-- Thumbs Down_per_day: double (nullable = true)\n",
      " |-- Thumbs Up_per_day: double (nullable = true)\n",
      " |-- Upgrade_per_day: double (nullable = true)\n",
      " |-- music_days_per_log: double (nullable = true)\n",
      " |-- About_per_log: double (nullable = true)\n",
      " |-- Add Friend_per_log: double (nullable = true)\n",
      " |-- Add to Playlist_per_log: double (nullable = true)\n",
      " |-- Downgrade_per_log: double (nullable = true)\n",
      " |-- Error_per_log: double (nullable = true)\n",
      " |-- Help_per_log: double (nullable = true)\n",
      " |-- Home_per_log: double (nullable = true)\n",
      " |-- Logout_per_log: double (nullable = true)\n",
      " |-- NextSong_per_log: double (nullable = true)\n",
      " |-- Roll Advert_per_log: double (nullable = true)\n",
      " |-- Save Settings_per_log: double (nullable = true)\n",
      " |-- Settings_per_log: double (nullable = true)\n",
      " |-- Submit Downgrade_per_log: double (nullable = true)\n",
      " |-- Submit Upgrade_per_log: double (nullable = true)\n",
      " |-- Thumbs Down_per_log: double (nullable = true)\n",
      " |-- Thumbs Up_per_log: double (nullable = true)\n",
      " |-- Upgrade_per_log: double (nullable = true)\n",
      "\n"
     ]
    }
   ],
   "source": [
    "df_model.printSchema()"
   ]
  },
  {
   "cell_type": "code",
   "execution_count": null,
   "metadata": {},
   "outputs": [],
   "source": [
    "# numerical columns for the baseline model\n",
    "numerical_baseline = [\"About\", \"Add Friend\", \"Add to Playlist\", \"Downgrade\", \"Error\",\n",
    "                      \"Help\", \"Home\", \"Logout\", \"NextSong\", \"Roll Advert\", \"Save Settings\",\n",
    "                      \"Settings\", \"Submit Downgrade\", \"Submit Upgrade\", \"Thumbs Down\",\n",
    "                      \"Thumbs Up\", \"Upgrade\"]\n",
    "# all columns for the baseline model\n",
    "columns_baseline = [\"label\", \"gender\", \"valid_level\"] + numerical_baseline\n",
    "\n",
    "# create dataframe for the baseline model\n",
    "df_baseline = df_model.select(*columns_baseline)"
   ]
  },
  {
   "cell_type": "markdown",
   "metadata": {},
   "source": [
    "## Selecting Numerical Features"
   ]
  },
  {
   "cell_type": "code",
   "execution_count": null,
   "metadata": {
    "scrolled": true
   },
   "outputs": [
    {
     "data": {
      "text/html": [
       "<div>\n",
       "<style scoped>\n",
       "    .dataframe tbody tr th:only-of-type {\n",
       "        vertical-align: middle;\n",
       "    }\n",
       "\n",
       "    .dataframe tbody tr th {\n",
       "        vertical-align: top;\n",
       "    }\n",
       "\n",
       "    .dataframe thead th {\n",
       "        text-align: right;\n",
       "    }\n",
       "</style>\n",
       "<table border=\"1\" class=\"dataframe\">\n",
       "  <thead>\n",
       "    <tr style=\"text-align: right;\">\n",
       "      <th></th>\n",
       "      <th>Feature</th>\n",
       "      <th>Pearson</th>\n",
       "      <th>RFE</th>\n",
       "      <th>Logistics</th>\n",
       "      <th>Random Forest</th>\n",
       "      <th>LightGBM</th>\n",
       "      <th>Total</th>\n",
       "    </tr>\n",
       "  </thead>\n",
       "  <tbody>\n",
       "    <tr>\n",
       "      <th>0</th>\n",
       "      <td>last_ts</td>\n",
       "      <td>True</td>\n",
       "      <td>True</td>\n",
       "      <td>True</td>\n",
       "      <td>True</td>\n",
       "      <td>True</td>\n",
       "      <td>5</td>\n",
       "    </tr>\n",
       "    <tr>\n",
       "      <th>1</th>\n",
       "      <td>duration</td>\n",
       "      <td>True</td>\n",
       "      <td>True</td>\n",
       "      <td>True</td>\n",
       "      <td>True</td>\n",
       "      <td>True</td>\n",
       "      <td>5</td>\n",
       "    </tr>\n",
       "    <tr>\n",
       "      <th>2</th>\n",
       "      <td>music_days</td>\n",
       "      <td>True</td>\n",
       "      <td>True</td>\n",
       "      <td>True</td>\n",
       "      <td>False</td>\n",
       "      <td>True</td>\n",
       "      <td>4</td>\n",
       "    </tr>\n",
       "    <tr>\n",
       "      <th>3</th>\n",
       "      <td>Thumbs Down_per_log</td>\n",
       "      <td>True</td>\n",
       "      <td>True</td>\n",
       "      <td>True</td>\n",
       "      <td>True</td>\n",
       "      <td>False</td>\n",
       "      <td>4</td>\n",
       "    </tr>\n",
       "    <tr>\n",
       "      <th>4</th>\n",
       "      <td>Submit Upgrade_per_day</td>\n",
       "      <td>True</td>\n",
       "      <td>True</td>\n",
       "      <td>True</td>\n",
       "      <td>True</td>\n",
       "      <td>False</td>\n",
       "      <td>4</td>\n",
       "    </tr>\n",
       "  </tbody>\n",
       "</table>\n",
       "</div>"
      ],
      "text/plain": [
       "                  Feature  Pearson   RFE  Logistics  Random Forest  LightGBM  \\\n",
       "0                 last_ts     True  True       True           True      True   \n",
       "1                duration     True  True       True           True      True   \n",
       "2              music_days     True  True       True          False      True   \n",
       "3     Thumbs Down_per_log     True  True       True           True     False   \n",
       "4  Submit Upgrade_per_day     True  True       True           True     False   \n",
       "\n",
       "   Total  \n",
       "0      5  \n",
       "1      5  \n",
       "2      4  \n",
       "3      4  \n",
       "4      4  "
      ]
     },
     "execution_count": 23,
     "metadata": {},
     "output_type": "execute_result"
    }
   ],
   "source": [
    "# load feature importance from csv when running notebook on IBM cluster\n",
    "import types\n",
    "import pandas as pd\n",
    "from botocore.client import Config\n",
    "import ibm_boto3\n",
    "\n",
    "def __iter__(self): return 0\n",
    "\n",
    "# @hidden_cell\n",
    "# The following code accesses a file in your IBM Cloud Object Storage. It includes your credentials.\n",
    "# You might want to remove those credentials before you share the notebook.\n",
    "client_6d7d9effed6f49088f222b405ed58a60 = ibm_boto3.client(service_name='s3',\n",
    "    ibm_api_key_id='izfH6CH03eyc2BUYHDOjmo9hUAQfaGy2HLRwdy1zfuEg',\n",
    "    ibm_auth_endpoint=\"https://iam.eu-de.bluemix.net/oidc/token\",\n",
    "    config=Config(signature_version='oauth'),\n",
    "    endpoint_url='https://s3.eu-geo.objectstorage.service.networklayer.com')\n",
    "\n",
    "body = client_6d7d9effed6f49088f222b405ed58a60.get_object(Bucket='sparkify-donotdelete-pr-mukrompaxoq925',Key='feature_selection_df.csv')['Body']\n",
    "# add missing __iter__ method, so pandas accepts body as file-like object\n",
    "if not hasattr(body, \"__iter__\"): body.__iter__ = types.MethodType( __iter__, body )\n",
    "\n",
    "num_feature_df = pd.read_csv(body).drop(\"Unnamed: 0\", axis=1)\n",
    "num_feature_df.head()\n"
   ]
  },
  {
   "cell_type": "code",
   "execution_count": null,
   "metadata": {},
   "outputs": [],
   "source": [
    "### uncomment this cell when running locally ###\n",
    "#num_feature_df = pd.read_csv(\"data/feature_selection_df.csv\").drop(\"Unnamed: 0\", axis=1)\n",
    "#num_feature_df.head()"
   ]
  },
  {
   "cell_type": "code",
   "execution_count": null,
   "metadata": {},
   "outputs": [
    {
     "name": "stdout",
     "output_type": "stream",
     "text": [
      "Final 22 numerical features selected by feature importance: \n",
      "['last_ts', 'duration', 'music_days', 'Thumbs Down_per_log', 'Submit Upgrade_per_day', 'NextSong_per_log', 'Add Friend_per_day', 'About', 'Submit Downgrade', 'Roll Advert', 'Home_per_day', 'Help_per_day', 'Downgrade', 'Add to Playlist', 'log_counts', 'avg_length', 'Upgrade_per_log', 'Thumbs Up_per_day', 'Settings_per_day', 'Save Settings_per_day', 'Logout_per_log', 'Error']\n"
     ]
    }
   ],
   "source": [
    "# get all features which have at least a feature importance of 2\n",
    "important_num_features = list(num_feature_df[num_feature_df[\"Total\"] >= 2][\"Feature\"])\n",
    "# creating a list of features which do not contain any duplicates e.g. not both Thumbs Down_per_log and Thumbs Down\n",
    "unique_num_features = []\n",
    "final_num_features = []\n",
    "# iterate over all important features\n",
    "for idx, f in enumerate(important_num_features):\n",
    "    # strip the string if it contains per_day or _per_log\n",
    "    if f.find(\"_per_day\") > -1:\n",
    "        f_stripped = f.replace(\"_per_day\", \"\")\n",
    "    elif f.find(\"_per_log\") > -1:\n",
    "        f_stripped = f.replace(\"_per_log\", \"\")\n",
    "    else:\n",
    "        f_stripped = f\n",
    "    # check if feature is already in or not\n",
    "    if f_stripped not in unique_num_features:\n",
    "        unique_num_features.append(f_stripped)\n",
    "        final_num_features.append(f)\n",
    "        \n",
    "print(\"Final {} numerical features selected by feature importance: \\n{}\".format(len(final_num_features), final_num_features))"
   ]
  },
  {
   "cell_type": "code",
   "execution_count": null,
   "metadata": {},
   "outputs": [
    {
     "name": "stdout",
     "output_type": "stream",
     "text": [
      "root\n",
      " |-- label: long (nullable = true)\n",
      " |-- gender: string (nullable = true)\n",
      " |-- valid_level: string (nullable = true)\n",
      " |-- last_ts: long (nullable = true)\n",
      " |-- duration: integer (nullable = true)\n",
      " |-- music_days: long (nullable = true)\n",
      " |-- Thumbs Down_per_log: double (nullable = true)\n",
      " |-- Submit Upgrade_per_day: double (nullable = true)\n",
      " |-- NextSong_per_log: double (nullable = true)\n",
      " |-- Add Friend_per_day: double (nullable = true)\n",
      " |-- About: long (nullable = true)\n",
      " |-- Submit Downgrade: long (nullable = true)\n",
      " |-- Roll Advert: long (nullable = true)\n",
      " |-- Home_per_day: double (nullable = true)\n",
      " |-- Help_per_day: double (nullable = true)\n",
      " |-- Downgrade: long (nullable = true)\n",
      " |-- Add to Playlist: long (nullable = true)\n",
      " |-- log_counts: long (nullable = false)\n",
      " |-- avg_length: double (nullable = true)\n",
      " |-- Upgrade_per_log: double (nullable = true)\n",
      " |-- Thumbs Up_per_day: double (nullable = true)\n",
      " |-- Settings_per_day: double (nullable = true)\n",
      " |-- Save Settings_per_day: double (nullable = true)\n",
      " |-- Logout_per_log: double (nullable = true)\n",
      " |-- Error: long (nullable = true)\n",
      "\n"
     ]
    }
   ],
   "source": [
    "# categorical variables which need to be encoded\n",
    "categorical_columns = [\"gender\", \"valid_level\"]\n",
    "# final columns/features used for the tuned models\n",
    "columns_for_modeling = [\"label\"] +  categorical_columns + final_num_features\n",
    "# select only final features\n",
    "df_model = df_model.select(*columns_for_modeling)\n",
    "df_model.printSchema()"
   ]
  },
  {
   "cell_type": "markdown",
   "metadata": {},
   "source": [
    "# Modeling\n",
    "\n",
    "Now the machine learning pipelines with the different transformers and predictors are created."
   ]
  },
  {
   "cell_type": "code",
   "execution_count": 43,
   "metadata": {},
   "outputs": [],
   "source": [
    "# train and test data for the tuned models\n",
    "# train = df_model.sampleBy(\"label\", fractions={0: 0.8, 1: 0.5}, seed=42)\n",
    "# test = df_model.subtract(train) # for balancing\n",
    "train, test = df_model.randomSplit([0.8, 0.2], seed=42)\n",
    "\n",
    "# train and test data for the baseline model\n",
    "#train_baseline = df_baseline.sampleBy(\"label\", fractions={0: 0.8, 1: 0.5}, seed=42)\n",
    "#test_baseline = df_baseline.subtract(train_baseline)\n",
    "train_baseline, test_baseline = df_baseline.randomSplit([0.8, 0.2], seed=42)"
   ]
  },
  {
   "cell_type": "code",
   "execution_count": null,
   "metadata": {},
   "outputs": [],
   "source": [
    "# handle categorical columns in pipeline\n",
    "indexers = []\n",
    "# add a stringindexer for each categorical column\n",
    "for cat in categorical_columns:\n",
    "    indexers.append(StringIndexer(inputCol = cat, outputCol = \"{}_indexed\".format(cat)))\n",
    "\n",
    "# one encoder for all categorical columns\n",
    "encoder = OneHotEncoderEstimator(inputCols=[indexer.getOutputCol() for indexer in indexers],\n",
    "    outputCols=[\"{}_encoded\".format(indexer.getOutputCol()) for indexer in indexers])"
   ]
  },
  {
   "cell_type": "code",
   "execution_count": null,
   "metadata": {},
   "outputs": [],
   "source": [
    "# one output vector for all numerical values\n",
    "numeric_assembler = VectorAssembler(inputCols=final_num_features, outputCol=\"numeric_vectorized\")\n",
    "# scale the numerical variables\n",
    "scaler = StandardScaler(inputCol = \"numeric_vectorized\", outputCol = \"numeric_scaled\", withStd = True, withMean = True)\n",
    "\n",
    "#create final VectorAssembler to push data to ML models\n",
    "assembler = VectorAssembler(inputCols=[\"numeric_scaled\"] + encoder.getOutputCols(), outputCol=\"features\")"
   ]
  },
  {
   "cell_type": "markdown",
   "metadata": {},
   "source": [
    "## Random Forest Model"
   ]
  },
  {
   "cell_type": "code",
   "execution_count": null,
   "metadata": {},
   "outputs": [],
   "source": [
    "# random forest model and pipeline\n",
    "model_rf = RandomForestClassifier(featuresCol=\"features\", labelCol=\"label\")\n",
    "pipeline_rf = Pipeline(stages= indexers + [encoder, numeric_assembler, scaler, assembler, model_rf])"
   ]
  },
  {
   "cell_type": "code",
   "execution_count": 44,
   "metadata": {},
   "outputs": [],
   "source": [
    "# param grid and crossvalidator for random forest with F1-score as evaluation metric\n",
    "paramGrid_rf = ParamGridBuilder() \\\n",
    "        .addGrid(model_rf.numTrees, [25, 75]) \\\n",
    "        .addGrid(model_rf.maxDepth, [10, 30]) \\\n",
    "        .build() \n",
    "        # 10, 5\n",
    "crossval_rf = CrossValidator(estimator=pipeline_rf,\n",
    "                          estimatorParamMaps=paramGrid_rf,\n",
    "                          evaluator=MulticlassClassificationEvaluator(metricName=\"f1\"),\n",
    "                          numFolds=3)"
   ]
  },
  {
   "cell_type": "markdown",
   "metadata": {},
   "source": [
    "## Logistic Regression"
   ]
  },
  {
   "cell_type": "code",
   "execution_count": null,
   "metadata": {},
   "outputs": [],
   "source": [
    "# Initiate log regression model\n",
    "model_lr = LogisticRegression()\n",
    "\n",
    "# Make pipeline for lr\n",
    "pipeline_lr = Pipeline(stages= indexers + [encoder, numeric_assembler, scaler, assembler, model_lr])\n",
    "\n",
    "# param grid for logistic regression\n",
    "paramGrid_lr = ParamGridBuilder() \\\n",
    "    .addGrid(model_lr.maxIter, [10, 20]) \\\n",
    "    .addGrid(model_lr.elasticNetParam, [0, 0.5]) \\\n",
    "    .addGrid(model_lr.regParam,[0.1, 1]) \\\n",
    "    .build()\n",
    "\n",
    "# crossvalidator for logistic regression with same evaluation metric\n",
    "crossval_lr = CrossValidator(estimator=pipeline_lr,\n",
    "                          estimatorParamMaps=paramGrid_lr,\n",
    "                          evaluator=MulticlassClassificationEvaluator(metricName=\"f1\"),\n",
    "                          numFolds=3)"
   ]
  },
  {
   "cell_type": "markdown",
   "metadata": {},
   "source": [
    "## GBTC Classifier"
   ]
  },
  {
   "cell_type": "code",
   "execution_count": null,
   "metadata": {},
   "outputs": [],
   "source": [
    "# Initiate log regression model\n",
    "model_gbtc = GBTClassifier()\n",
    "\n",
    "# Make pipeline for gbtc\n",
    "pipeline_gbtc = Pipeline(stages= indexers + [encoder, numeric_assembler, scaler, assembler, model_gbtc])\n",
    "\n",
    "# param grid for gbtc\n",
    "paramGrid_gbtc = ParamGridBuilder() \\\n",
    "    .addGrid(model_gbtc.maxIter, [5, 10]) \\\n",
    "    .build()\n",
    "\n",
    "# crossvalidator for gbtc with same evaluation metric\n",
    "crossval_gbtc = CrossValidator(estimator=pipeline_gbtc,\n",
    "                          estimatorParamMaps=paramGrid_gbtc,\n",
    "                          evaluator=MulticlassClassificationEvaluator(metricName=\"f1\"),\n",
    "                          numFolds=3)"
   ]
  },
  {
   "cell_type": "markdown",
   "metadata": {},
   "source": [
    "## Baseline"
   ]
  },
  {
   "cell_type": "code",
   "execution_count": null,
   "metadata": {},
   "outputs": [],
   "source": [
    "# scale numeric variables from baseline data\n",
    "numeric_assembler_baseline = VectorAssembler(inputCols=numerical_baseline, outputCol=\"numeric_vectorized\")\n",
    "scaler_baseline = StandardScaler(inputCol = \"numeric_vectorized\", outputCol = \"numeric_scaled\", withStd = True, withMean = True)\n",
    "\n",
    "\n",
    "# final VectorAssembler to push data to ML models for the baseline\n",
    "assembler = VectorAssembler(inputCols=[\"numeric_scaled\"] + encoder.getOutputCols(), outputCol=\"features\")\n",
    "# choose random forest classifier as baseline\n",
    "model_baseline = RandomForestClassifier(featuresCol=\"features\", labelCol=\"label\")\n",
    "# add in pipeline for usage of the same functions later\n",
    "pipeline_baseline = Pipeline(stages= indexers + [encoder, numeric_assembler_baseline, scaler_baseline, assembler, model_rf])\n",
    "\n",
    "# add default parameters into the param grid\n",
    "paramGrid_baseline = ParamGridBuilder() \\\n",
    "    .addGrid(model_rf.numTrees, [3]) \\\n",
    "    .addGrid(model_rf.maxDepth, [4]) \\\n",
    "    .build()\n",
    "\n",
    "# crossvalidator for baseline with same evaluation metric\n",
    "crossval_baseline = CrossValidator(estimator=pipeline_baseline,\n",
    "                          estimatorParamMaps=paramGrid_baseline,\n",
    "                          evaluator=MulticlassClassificationEvaluator(metricName=\"f1\"),\n",
    "                          numFolds=3)"
   ]
  },
  {
   "cell_type": "markdown",
   "metadata": {},
   "source": [
    "# Fit Models and Evaluate\n",
    "\n",
    "Finally, the models are fitted and evaluated on the test and training data."
   ]
  },
  {
   "cell_type": "code",
   "execution_count": null,
   "metadata": {},
   "outputs": [],
   "source": [
    "def fit_crossval(crossval, train):\n",
    "    \"\"\"Fits the model with the training data and measures training time.\n",
    "    \n",
    "    :param crossval: Crossvalidator containing the pipeline and param grid\n",
    "    :param train: Pyspark dataframe with the training data as input for the model\n",
    "    :return:\n",
    "        cv_model: Fitted model\n",
    "        train_time: Needed training time\n",
    "    \"\"\"\n",
    "    start_time = time.time() # start\n",
    "    cv_model = crossval.fit(train) # fit\n",
    "    end_time = time.time() # end\n",
    "    \n",
    "    # training time\n",
    "    train_time = round(end_time - start_time,2)\n",
    "    \n",
    "    print(\"Fitting the model took {} s.\".format(train_time))\n",
    "    return cv_model, train_time"
   ]
  },
  {
   "cell_type": "code",
   "execution_count": null,
   "metadata": {},
   "outputs": [],
   "source": [
    "def evaluate_model(model, train, test, metric=\"f1\"):\n",
    "    \"\"\"Calculate metric for the model on train and test data.\n",
    "    \n",
    "    :param model: Best model from a CrossValidator\n",
    "    :param train: Pyspark dataframe containing the training data\n",
    "    :param test: Pyspark dataframe containing the test data\n",
    "    :param metric: Metric score which is calculate\n",
    "    :return:\n",
    "        score_train: Metric score on training data\n",
    "        score_test: Metric score on test data\n",
    "        feature_importance: Feature importance values as list\n",
    "    \"\"\"\n",
    "    # init evaluator\n",
    "    evaluator = MulticlassClassificationEvaluator(metricName = metric)\n",
    "    \n",
    "    # make predictions\n",
    "    prediction_result_train = model.transform(train)\n",
    "    prediction_result_test = model.transform(test)\n",
    "    \n",
    "    # calcualte the scores\n",
    "    score_train = evaluator.evaluate(prediction_result_train)\n",
    "    score_test = evaluator.evaluate(prediction_result_test)\n",
    "    print(\"{} score on training data is {}\".format(metric, score_train))\n",
    "    print(\"{} score on test data is {}\".format(metric, score_test))\n",
    "    \n",
    "    try:\n",
    "        # works only when certain models are used\n",
    "        feature_importance = model.stages[-1].featureImportances\n",
    "    except:\n",
    "        feature_importance = []\n",
    "        \n",
    "    return score_train, score_test, feature_importance"
   ]
  },
  {
   "cell_type": "code",
   "execution_count": 45,
   "metadata": {},
   "outputs": [
    {
     "name": "stdout",
     "output_type": "stream",
     "text": [
      "### Fitting Baseline model ###\n",
      "Fitting the model took 635.25 s.\n",
      "f1 score on training data is 0.7477023407954568\n",
      "f1 score on test data is 0.6435890581840863\n",
      "### Fitting Random-Forest model ###\n",
      "Fitting the model took 1700.99 s.\n",
      "f1 score on training data is 1.0\n",
      "f1 score on test data is 0.8902157971925413\n",
      "### Fitting Logistic Regression model ###\n",
      "Fitting the model took 1322.0 s.\n",
      "f1 score on training data is 0.8363121797635641\n",
      "f1 score on test data is 0.8227760264874404\n",
      "### Fitting GBTC model ###\n",
      "Fitting the model took 1376.17 s.\n",
      "f1 score on training data is 0.9916532296850198\n",
      "f1 score on test data is 0.8710213766437328\n",
      "-------------Result Summary--------------\n",
      "{'Baseline': [0.7477023407954568, 0.6435890581840863, 635.25, SparseVector(19, {2: 0.0284, 3: 0.0323, 4: 0.1033, 5: 0.0093, 6: 0.063, 8: 0.0186, 9: 0.1115, 11: 0.152, 13: 0.1444, 14: 0.0678, 15: 0.2631, 16: 0.0063})], 'Random-Forest': [1.0, 0.8902157971925413, 1700.99, SparseVector(24, {0: 0.2188, 1: 0.103, 2: 0.0401, 3: 0.0262, 4: 0.0645, 5: 0.0331, 6: 0.0551, 7: 0.0145, 8: 0.0058, 9: 0.0638, 10: 0.0366, 11: 0.0353, 12: 0.0164, 13: 0.0362, 14: 0.0328, 15: 0.0313, 16: 0.0349, 17: 0.0473, 18: 0.042, 19: 0.0109, 20: 0.0292, 21: 0.0066, 22: 0.0088, 23: 0.0067})], 'Logistic Regression': [0.8363121797635641, 0.8227760264874404, 1322.0, []], 'GBTC': [0.9916532296850198, 0.8710213766437328, 1376.17, SparseVector(24, {0: 0.2937, 1: 0.0736, 2: 0.0263, 3: 0.0719, 4: 0.0256, 5: 0.0432, 6: 0.0169, 7: 0.0165, 9: 0.0497, 10: 0.0994, 11: 0.0416, 12: 0.0249, 13: 0.0112, 14: 0.0165, 15: 0.0513, 16: 0.0117, 17: 0.0181, 18: 0.0321, 19: 0.0109, 20: 0.0507, 21: 0.0143})]}\n"
     ]
    }
   ],
   "source": [
    "# init dict of which models to fit\n",
    "crossval_dict = {}\n",
    "crossval_dict[\"Baseline\"] = crossval_baseline\n",
    "crossval_dict[\"Random-Forest\"] = crossval_rf\n",
    "crossval_dict[\"Logistic Regression\"] = crossval_lr\n",
    "crossval_dict[\"GBTC\"] = crossval_gbtc\n",
    "# dict for results\n",
    "result_dict = {}\n",
    "\n",
    "# worth caching if more than one model is fitted, depending also on the dataset used\n",
    "#if len(crossval_dict) > 1:\n",
    "#    train.cache()\n",
    "#    test.cache()\n",
    "\n",
    "# train models and evaluate the results\n",
    "for cv_key in crossval_dict:\n",
    "    print(\"### Fitting {} model ###\".format(cv_key))\n",
    "    if cv_key == \"Baseline\":\n",
    "        # fit model\n",
    "        cv_model, train_time = fit_crossval(crossval_dict[cv_key], train_baseline)\n",
    "        # evaluate model\n",
    "        score_train, score_test, f_importance = evaluate_model(cv_model.bestModel, train_baseline, test_baseline)\n",
    "    else:\n",
    "        # fit model\n",
    "        cv_model, train_time = fit_crossval(crossval_dict[cv_key], train)\n",
    "        # evaluate it\n",
    "        score_train, score_test, f_importance = evaluate_model(cv_model.bestModel, train, test)\n",
    "        \n",
    "    result_dict[cv_key] = [score_train, score_test, train_time, f_importance]\n",
    "\n",
    "print(\"-------------Result Summary--------------\")\n",
    "print(result_dict)"
   ]
  },
  {
   "cell_type": "code",
   "execution_count": 46,
   "metadata": {},
   "outputs": [
    {
     "data": {
      "image/png": "[encoded data removed]",
      "text/plain": [
       "<Figure size 720x720 with 2 Axes>"
      ]
     },
     "metadata": {},
     "output_type": "display_data"
    }
   ],
   "source": [
    "# create bar chart with scores and training times\n",
    "fig, ax1 = plt.subplots(figsize=(10, 10)) \n",
    "\n",
    "# set width of bar\n",
    "barWidth = 0.25\n",
    " \n",
    "# set height of bar\n",
    "bars1 = [r[0] for r in result_dict.values()]\n",
    "bars2 = [r[1] for r in result_dict.values()]\n",
    "bars3 = [r[2] for r in result_dict.values()]\n",
    " \n",
    "# set position of bar on X axis\n",
    "r1 = np.arange(len(bars1))\n",
    "r2 = [x + barWidth for x in r1]\n",
    "r3 = [x + barWidth for x in r2]\n",
    " \n",
    "# make the plot for the scores\n",
    "plot1 = ax1.bar(r1, bars1, color='lightgrey', width=barWidth, edgecolor='white', label='f1-train')\n",
    "plot2 = ax1.bar(r2, bars2, color='rosybrown', width=barWidth, edgecolor='white', label='f1-test')\n",
    "ax1.set_ylim(top=1) \n",
    "ax1.set_ylabel(\"F1-Score [-]\")\n",
    "\n",
    "# plot the runtime with same x-axis as scores\n",
    "ax2 = ax1.twinx()\n",
    "plot3 = ax2.bar(r3, bars3, color='mistyrose', width=barWidth, edgecolor='white', label='time')\n",
    "ax2.set_ylim(bottom=0)\n",
    "ax2.set_ylabel(\"Training Time [s]\")\n",
    "\n",
    "# add legend for the two line plots in different axis\n",
    "plt.legend([plot1, plot2, plot3], [\"F1-train\", \"F1-test\", \"training time\"])\n",
    "\n",
    "# x-values\n",
    "plt.xticks([r + barWidth for r in range(len(bars1))], result_dict.keys())\n",
    "\n",
    "plt.show()"
   ]
  },
  {
   "cell_type": "code",
   "execution_count": 47,
   "metadata": {},
   "outputs": [
    {
     "data": {
      "text/html": [
       "<div>\n",
       "<style scoped>\n",
       "    .dataframe tbody tr th:only-of-type {\n",
       "        vertical-align: middle;\n",
       "    }\n",
       "\n",
       "    .dataframe tbody tr th {\n",
       "        vertical-align: top;\n",
       "    }\n",
       "\n",
       "    .dataframe thead th {\n",
       "        text-align: right;\n",
       "    }\n",
       "</style>\n",
       "<table border=\"1\" class=\"dataframe\">\n",
       "  <thead>\n",
       "    <tr style=\"text-align: right;\">\n",
       "      <th></th>\n",
       "      <th>feature_names</th>\n",
       "      <th>feature_importance</th>\n",
       "    </tr>\n",
       "  </thead>\n",
       "  <tbody>\n",
       "    <tr>\n",
       "      <th>0</th>\n",
       "      <td>last_ts</td>\n",
       "      <td>0.218778</td>\n",
       "    </tr>\n",
       "    <tr>\n",
       "      <th>1</th>\n",
       "      <td>duration</td>\n",
       "      <td>0.103037</td>\n",
       "    </tr>\n",
       "    <tr>\n",
       "      <th>4</th>\n",
       "      <td>Submit Upgrade_per_day</td>\n",
       "      <td>0.064544</td>\n",
       "    </tr>\n",
       "    <tr>\n",
       "      <th>9</th>\n",
       "      <td>Roll Advert</td>\n",
       "      <td>0.063838</td>\n",
       "    </tr>\n",
       "    <tr>\n",
       "      <th>6</th>\n",
       "      <td>Add Friend_per_day</td>\n",
       "      <td>0.055125</td>\n",
       "    </tr>\n",
       "    <tr>\n",
       "      <th>17</th>\n",
       "      <td>Thumbs Up_per_day</td>\n",
       "      <td>0.047278</td>\n",
       "    </tr>\n",
       "    <tr>\n",
       "      <th>18</th>\n",
       "      <td>Settings_per_day</td>\n",
       "      <td>0.041991</td>\n",
       "    </tr>\n",
       "    <tr>\n",
       "      <th>2</th>\n",
       "      <td>music_days</td>\n",
       "      <td>0.040093</td>\n",
       "    </tr>\n",
       "    <tr>\n",
       "      <th>10</th>\n",
       "      <td>Home_per_day</td>\n",
       "      <td>0.036558</td>\n",
       "    </tr>\n",
       "    <tr>\n",
       "      <th>13</th>\n",
       "      <td>Add to Playlist</td>\n",
       "      <td>0.036218</td>\n",
       "    </tr>\n",
       "    <tr>\n",
       "      <th>11</th>\n",
       "      <td>Help_per_day</td>\n",
       "      <td>0.035338</td>\n",
       "    </tr>\n",
       "    <tr>\n",
       "      <th>16</th>\n",
       "      <td>Upgrade_per_log</td>\n",
       "      <td>0.034869</td>\n",
       "    </tr>\n",
       "    <tr>\n",
       "      <th>5</th>\n",
       "      <td>NextSong_per_log</td>\n",
       "      <td>0.033094</td>\n",
       "    </tr>\n",
       "    <tr>\n",
       "      <th>14</th>\n",
       "      <td>log_counts</td>\n",
       "      <td>0.032817</td>\n",
       "    </tr>\n",
       "    <tr>\n",
       "      <th>15</th>\n",
       "      <td>avg_length</td>\n",
       "      <td>0.031338</td>\n",
       "    </tr>\n",
       "    <tr>\n",
       "      <th>20</th>\n",
       "      <td>Logout_per_log</td>\n",
       "      <td>0.029179</td>\n",
       "    </tr>\n",
       "    <tr>\n",
       "      <th>3</th>\n",
       "      <td>Thumbs Down_per_log</td>\n",
       "      <td>0.026222</td>\n",
       "    </tr>\n",
       "    <tr>\n",
       "      <th>12</th>\n",
       "      <td>Downgrade</td>\n",
       "      <td>0.016401</td>\n",
       "    </tr>\n",
       "    <tr>\n",
       "      <th>7</th>\n",
       "      <td>About</td>\n",
       "      <td>0.014471</td>\n",
       "    </tr>\n",
       "    <tr>\n",
       "      <th>19</th>\n",
       "      <td>Save Settings_per_day</td>\n",
       "      <td>0.010942</td>\n",
       "    </tr>\n",
       "    <tr>\n",
       "      <th>22</th>\n",
       "      <td>gender</td>\n",
       "      <td>0.008774</td>\n",
       "    </tr>\n",
       "    <tr>\n",
       "      <th>23</th>\n",
       "      <td>valid_level</td>\n",
       "      <td>0.006655</td>\n",
       "    </tr>\n",
       "    <tr>\n",
       "      <th>21</th>\n",
       "      <td>Error</td>\n",
       "      <td>0.006630</td>\n",
       "    </tr>\n",
       "    <tr>\n",
       "      <th>8</th>\n",
       "      <td>Submit Downgrade</td>\n",
       "      <td>0.005807</td>\n",
       "    </tr>\n",
       "  </tbody>\n",
       "</table>\n",
       "</div>"
      ],
      "text/plain": [
       "             feature_names  feature_importance\n",
       "0                  last_ts            0.218778\n",
       "1                 duration            0.103037\n",
       "4   Submit Upgrade_per_day            0.064544\n",
       "9              Roll Advert            0.063838\n",
       "6       Add Friend_per_day            0.055125\n",
       "17       Thumbs Up_per_day            0.047278\n",
       "18        Settings_per_day            0.041991\n",
       "2               music_days            0.040093\n",
       "10            Home_per_day            0.036558\n",
       "13         Add to Playlist            0.036218\n",
       "11            Help_per_day            0.035338\n",
       "16         Upgrade_per_log            0.034869\n",
       "5         NextSong_per_log            0.033094\n",
       "14              log_counts            0.032817\n",
       "15              avg_length            0.031338\n",
       "20          Logout_per_log            0.029179\n",
       "3      Thumbs Down_per_log            0.026222\n",
       "12               Downgrade            0.016401\n",
       "7                    About            0.014471\n",
       "19   Save Settings_per_day            0.010942\n",
       "22                  gender            0.008774\n",
       "23             valid_level            0.006655\n",
       "21                   Error            0.006630\n",
       "8         Submit Downgrade            0.005807"
      ]
     },
     "execution_count": 47,
     "metadata": {},
     "output_type": "execute_result"
    }
   ],
   "source": [
    "# feature importance of random forest\n",
    "f_importance = result_dict[\"Random-Forest\"][3]\n",
    "f_names = final_num_features + categorical_columns\n",
    "data = {\"feature_names\":  f_names,\n",
    "        \"feature_importance\": f_importance,\n",
    "        }\n",
    "\n",
    "features_rf = pd.DataFrame (data, columns = [\"feature_names\", \"feature_importance\"])\n",
    "features_rf.sort_values([\"feature_importance\"], ascending=False)"
   ]
  },
  {
   "cell_type": "code",
   "execution_count": null,
   "metadata": {},
   "outputs": [],
   "source": []
  },
  {
   "cell_type": "code",
   "execution_count": null,
   "metadata": {},
   "outputs": [],
   "source": []
  }
 ],
 "metadata": {
  "kernelspec": {
   "display_name": "Python 3",
   "language": "python",
   "name": "python3"
  },
  "language_info": {
   "codemirror_mode": {
    "name": "ipython",
    "version": 3
   },
   "file_extension": ".py",
   "mimetype": "text/x-python",
   "name": "python",
   "nbconvert_exporter": "python",
   "pygments_lexer": "ipython3",
   "version": "3.7.3"
  }
 },
 "nbformat": 4,
 "nbformat_minor": 2
}
